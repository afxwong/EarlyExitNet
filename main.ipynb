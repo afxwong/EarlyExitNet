{
 "cells": [
  {
   "cell_type": "code",
   "execution_count": 52,
   "metadata": {},
   "outputs": [
    {
     "name": "stdout",
     "output_type": "stream",
     "text": [
      "The autoreload extension is already loaded. To reload it, use:\n",
      "  %reload_ext autoreload\n",
      "Requirement already satisfied: torch in /Users/dylanmace/miniforge3/envs/earlyexit/lib/python3.11/site-packages (from -r requirements.txt (line 1)) (2.1.0)\n",
      "Requirement already satisfied: torchvision in /Users/dylanmace/miniforge3/envs/earlyexit/lib/python3.11/site-packages (from -r requirements.txt (line 2)) (0.16.0)\n",
      "Requirement already satisfied: tqdm in /Users/dylanmace/miniforge3/envs/earlyexit/lib/python3.11/site-packages (from -r requirements.txt (line 3)) (4.66.1)\n",
      "Requirement already satisfied: numpy in /Users/dylanmace/miniforge3/envs/earlyexit/lib/python3.11/site-packages (from -r requirements.txt (line 4)) (1.26.0)\n",
      "Requirement already satisfied: pandas in /Users/dylanmace/miniforge3/envs/earlyexit/lib/python3.11/site-packages (from -r requirements.txt (line 5)) (2.1.1)\n",
      "Requirement already satisfied: matplotlib in /Users/dylanmace/miniforge3/envs/earlyexit/lib/python3.11/site-packages (from -r requirements.txt (line 6)) (3.8.0)\n",
      "Requirement already satisfied: datasets in /Users/dylanmace/miniforge3/envs/earlyexit/lib/python3.11/site-packages (from -r requirements.txt (line 7)) (2.14.5)\n",
      "Requirement already satisfied: filelock in /Users/dylanmace/miniforge3/envs/earlyexit/lib/python3.11/site-packages (from torch->-r requirements.txt (line 1)) (3.12.4)\n",
      "Requirement already satisfied: typing-extensions in /Users/dylanmace/miniforge3/envs/earlyexit/lib/python3.11/site-packages (from torch->-r requirements.txt (line 1)) (4.8.0)\n",
      "Requirement already satisfied: sympy in /Users/dylanmace/miniforge3/envs/earlyexit/lib/python3.11/site-packages (from torch->-r requirements.txt (line 1)) (1.12)\n",
      "Requirement already satisfied: networkx in /Users/dylanmace/miniforge3/envs/earlyexit/lib/python3.11/site-packages (from torch->-r requirements.txt (line 1)) (3.1)\n",
      "Requirement already satisfied: jinja2 in /Users/dylanmace/miniforge3/envs/earlyexit/lib/python3.11/site-packages (from torch->-r requirements.txt (line 1)) (3.1.2)\n",
      "Requirement already satisfied: fsspec in /Users/dylanmace/miniforge3/envs/earlyexit/lib/python3.11/site-packages (from torch->-r requirements.txt (line 1)) (2023.6.0)\n",
      "Requirement already satisfied: requests in /Users/dylanmace/miniforge3/envs/earlyexit/lib/python3.11/site-packages (from torchvision->-r requirements.txt (line 2)) (2.31.0)\n",
      "Requirement already satisfied: pillow!=8.3.*,>=5.3.0 in /Users/dylanmace/miniforge3/envs/earlyexit/lib/python3.11/site-packages (from torchvision->-r requirements.txt (line 2)) (10.0.1)\n",
      "Requirement already satisfied: python-dateutil>=2.8.2 in /Users/dylanmace/miniforge3/envs/earlyexit/lib/python3.11/site-packages (from pandas->-r requirements.txt (line 5)) (2.8.2)\n",
      "Requirement already satisfied: pytz>=2020.1 in /Users/dylanmace/miniforge3/envs/earlyexit/lib/python3.11/site-packages (from pandas->-r requirements.txt (line 5)) (2023.3.post1)\n",
      "Requirement already satisfied: tzdata>=2022.1 in /Users/dylanmace/miniforge3/envs/earlyexit/lib/python3.11/site-packages (from pandas->-r requirements.txt (line 5)) (2023.3)\n",
      "Requirement already satisfied: contourpy>=1.0.1 in /Users/dylanmace/miniforge3/envs/earlyexit/lib/python3.11/site-packages (from matplotlib->-r requirements.txt (line 6)) (1.1.1)\n",
      "Requirement already satisfied: cycler>=0.10 in /Users/dylanmace/miniforge3/envs/earlyexit/lib/python3.11/site-packages (from matplotlib->-r requirements.txt (line 6)) (0.12.1)\n",
      "Requirement already satisfied: fonttools>=4.22.0 in /Users/dylanmace/miniforge3/envs/earlyexit/lib/python3.11/site-packages (from matplotlib->-r requirements.txt (line 6)) (4.43.1)\n",
      "Requirement already satisfied: kiwisolver>=1.0.1 in /Users/dylanmace/miniforge3/envs/earlyexit/lib/python3.11/site-packages (from matplotlib->-r requirements.txt (line 6)) (1.4.5)\n",
      "Requirement already satisfied: packaging>=20.0 in /Users/dylanmace/miniforge3/envs/earlyexit/lib/python3.11/site-packages (from matplotlib->-r requirements.txt (line 6)) (23.2)\n",
      "Requirement already satisfied: pyparsing>=2.3.1 in /Users/dylanmace/miniforge3/envs/earlyexit/lib/python3.11/site-packages (from matplotlib->-r requirements.txt (line 6)) (3.1.1)\n",
      "Requirement already satisfied: pyarrow>=8.0.0 in /Users/dylanmace/miniforge3/envs/earlyexit/lib/python3.11/site-packages (from datasets->-r requirements.txt (line 7)) (13.0.0)\n",
      "Requirement already satisfied: dill<0.3.8,>=0.3.0 in /Users/dylanmace/miniforge3/envs/earlyexit/lib/python3.11/site-packages (from datasets->-r requirements.txt (line 7)) (0.3.7)\n",
      "Requirement already satisfied: xxhash in /Users/dylanmace/miniforge3/envs/earlyexit/lib/python3.11/site-packages (from datasets->-r requirements.txt (line 7)) (3.4.1)\n",
      "Requirement already satisfied: multiprocess in /Users/dylanmace/miniforge3/envs/earlyexit/lib/python3.11/site-packages (from datasets->-r requirements.txt (line 7)) (0.70.15)\n",
      "Requirement already satisfied: aiohttp in /Users/dylanmace/miniforge3/envs/earlyexit/lib/python3.11/site-packages (from datasets->-r requirements.txt (line 7)) (3.8.6)\n",
      "Requirement already satisfied: huggingface-hub<1.0.0,>=0.14.0 in /Users/dylanmace/miniforge3/envs/earlyexit/lib/python3.11/site-packages (from datasets->-r requirements.txt (line 7)) (0.17.3)\n",
      "Requirement already satisfied: pyyaml>=5.1 in /Users/dylanmace/miniforge3/envs/earlyexit/lib/python3.11/site-packages (from datasets->-r requirements.txt (line 7)) (6.0.1)\n",
      "Requirement already satisfied: attrs>=17.3.0 in /Users/dylanmace/miniforge3/envs/earlyexit/lib/python3.11/site-packages (from aiohttp->datasets->-r requirements.txt (line 7)) (23.1.0)\n",
      "Requirement already satisfied: charset-normalizer<4.0,>=2.0 in /Users/dylanmace/miniforge3/envs/earlyexit/lib/python3.11/site-packages (from aiohttp->datasets->-r requirements.txt (line 7)) (3.3.0)\n",
      "Requirement already satisfied: multidict<7.0,>=4.5 in /Users/dylanmace/miniforge3/envs/earlyexit/lib/python3.11/site-packages (from aiohttp->datasets->-r requirements.txt (line 7)) (6.0.4)\n",
      "Requirement already satisfied: async-timeout<5.0,>=4.0.0a3 in /Users/dylanmace/miniforge3/envs/earlyexit/lib/python3.11/site-packages (from aiohttp->datasets->-r requirements.txt (line 7)) (4.0.3)\n",
      "Requirement already satisfied: yarl<2.0,>=1.0 in /Users/dylanmace/miniforge3/envs/earlyexit/lib/python3.11/site-packages (from aiohttp->datasets->-r requirements.txt (line 7)) (1.9.2)\n",
      "Requirement already satisfied: frozenlist>=1.1.1 in /Users/dylanmace/miniforge3/envs/earlyexit/lib/python3.11/site-packages (from aiohttp->datasets->-r requirements.txt (line 7)) (1.4.0)\n",
      "Requirement already satisfied: aiosignal>=1.1.2 in /Users/dylanmace/miniforge3/envs/earlyexit/lib/python3.11/site-packages (from aiohttp->datasets->-r requirements.txt (line 7)) (1.3.1)\n",
      "Requirement already satisfied: six>=1.5 in /Users/dylanmace/miniforge3/envs/earlyexit/lib/python3.11/site-packages (from python-dateutil>=2.8.2->pandas->-r requirements.txt (line 5)) (1.16.0)\n",
      "Requirement already satisfied: idna<4,>=2.5 in /Users/dylanmace/miniforge3/envs/earlyexit/lib/python3.11/site-packages (from requests->torchvision->-r requirements.txt (line 2)) (3.4)\n",
      "Requirement already satisfied: urllib3<3,>=1.21.1 in /Users/dylanmace/miniforge3/envs/earlyexit/lib/python3.11/site-packages (from requests->torchvision->-r requirements.txt (line 2)) (2.0.6)\n",
      "Requirement already satisfied: certifi>=2017.4.17 in /Users/dylanmace/miniforge3/envs/earlyexit/lib/python3.11/site-packages (from requests->torchvision->-r requirements.txt (line 2)) (2023.7.22)\n",
      "Requirement already satisfied: MarkupSafe>=2.0 in /Users/dylanmace/miniforge3/envs/earlyexit/lib/python3.11/site-packages (from jinja2->torch->-r requirements.txt (line 1)) (2.1.3)\n",
      "Requirement already satisfied: mpmath>=0.19 in /Users/dylanmace/miniforge3/envs/earlyexit/lib/python3.11/site-packages (from sympy->torch->-r requirements.txt (line 1)) (1.3.0)\n",
      "Note: you may need to restart the kernel to use updated packages.\n"
     ]
    }
   ],
   "source": [
    "%load_ext autoreload\n",
    "%autoreload 2\n",
    "\n",
    "%pip install -r requirements.txt"
   ]
  },
  {
   "cell_type": "code",
   "execution_count": 53,
   "metadata": {
    "collapsed": true
   },
   "outputs": [],
   "source": [
    "import sys\n",
    "import os\n",
    "import torch\n",
    "import torch.nn as nn\n",
    "from torch.utils.data import DataLoader, Dataset, random_split\n",
    "import torchvision\n",
    "import torchvision.models as models\n",
    "from torchvision import transforms\n",
    "from datasets import load_dataset, concatenate_datasets"
   ]
  },
  {
   "cell_type": "code",
   "execution_count": 54,
   "metadata": {},
   "outputs": [
    {
     "name": "stdout",
     "output_type": "stream",
     "text": [
      "PyTorch version: 2.1.0\n",
      "Is MPS (Metal Performance Shader) built? True\n",
      "Is MPS available? True\n",
      "Is CUDA available? False\n",
      "Using device: mps\n"
     ]
    }
   ],
   "source": [
    "print(f\"PyTorch version: {torch.__version__}\")\n",
    "\n",
    "# Check PyTorch has access to MPS (Metal Performance Shader, Apple's GPU architecture)\n",
    "print(f\"Is MPS (Metal Performance Shader) built? {torch.backends.mps.is_built()}\")\n",
    "print(f\"Is MPS available? {torch.backends.mps.is_available()}\")\n",
    "\n",
    "# Check for CUDA support\n",
    "print(f\"Is CUDA available? {torch.cuda.is_available()}\")\n",
    "\n",
    "# Set the device\n",
    "if torch.backends.mps.is_available():\n",
    "    device = \"mps\"\n",
    "elif torch.cuda.is_available():\n",
    "    device = \"cuda\"\n",
    "else:\n",
    "    device = \"cpu\"\n",
    "\n",
    "print(f\"Using device: {device}\")\n"
   ]
  },
  {
   "cell_type": "code",
   "execution_count": 55,
   "metadata": {},
   "outputs": [],
   "source": [
    "from EarlyExitModel import EarlyExitModel\n",
    "\n",
    "def create_model_with_exits(model_type, num_classes):\n",
    "    if model_type == \"resnet\":\n",
    "        resnet = models.resnet50(pretrained=True)\n",
    "        resnet.fc = nn.Linear(resnet.fc.in_features, num_classes)\n",
    "        \n",
    "        model = EarlyExitModel(resnet, num_classes, device)\n",
    "        model.clear_exits()\n",
    "        exit_layers = [model.add_exit(layer) for layer in ('layer1', 'layer2', 'layer3')]\n",
    "        \n",
    "    elif model_type == \"vgg\":\n",
    "        vgg = models.vgg16(pretrained=True)\n",
    "        vgg.classifier[-1] = nn.Linear(vgg.classifier[-1].in_features, num_classes)\n",
    "        \n",
    "        model = EarlyExitModel(vgg, num_classes, device)\n",
    "        model.clear_exits()\n",
    "        exit_layers = [model.add_exit(layer, model_type) for layer in ('10', '21', '28')]\n",
    "    else:\n",
    "        raise ValueError(f\"Unknown model type: {model_type}\")\n",
    "    \n",
    "    model.to(device)\n",
    "    return model\n",
    "        \n",
    "        "
   ]
  },
  {
   "cell_type": "code",
   "execution_count": 56,
   "metadata": {},
   "outputs": [
    {
     "data": {
      "text/plain": [
       "EarlyExitModel(\n",
       "  (model): VGG(\n",
       "    (features): Sequential(\n",
       "      (0): Conv2d(3, 64, kernel_size=(3, 3), stride=(1, 1), padding=(1, 1))\n",
       "      (1): ReLU(inplace=True)\n",
       "      (2): Conv2d(64, 64, kernel_size=(3, 3), stride=(1, 1), padding=(1, 1))\n",
       "      (3): ReLU(inplace=True)\n",
       "      (4): MaxPool2d(kernel_size=2, stride=2, padding=0, dilation=1, ceil_mode=False)\n",
       "      (5): Conv2d(64, 128, kernel_size=(3, 3), stride=(1, 1), padding=(1, 1))\n",
       "      (6): ReLU(inplace=True)\n",
       "      (7): Conv2d(128, 128, kernel_size=(3, 3), stride=(1, 1), padding=(1, 1))\n",
       "      (8): ReLU(inplace=True)\n",
       "      (9): MaxPool2d(kernel_size=2, stride=2, padding=0, dilation=1, ceil_mode=False)\n",
       "      (10): OptionalExitModule(\n",
       "        (module): Conv2d(128, 256, kernel_size=(3, 3), stride=(1, 1), padding=(1, 1))\n",
       "      )\n",
       "      (11): ReLU(inplace=True)\n",
       "      (12): Conv2d(256, 256, kernel_size=(3, 3), stride=(1, 1), padding=(1, 1))\n",
       "      (13): ReLU(inplace=True)\n",
       "      (14): Conv2d(256, 256, kernel_size=(3, 3), stride=(1, 1), padding=(1, 1))\n",
       "      (15): ReLU(inplace=True)\n",
       "      (16): MaxPool2d(kernel_size=2, stride=2, padding=0, dilation=1, ceil_mode=False)\n",
       "      (17): Conv2d(256, 512, kernel_size=(3, 3), stride=(1, 1), padding=(1, 1))\n",
       "      (18): ReLU(inplace=True)\n",
       "      (19): Conv2d(512, 512, kernel_size=(3, 3), stride=(1, 1), padding=(1, 1))\n",
       "      (20): ReLU(inplace=True)\n",
       "      (21): OptionalExitModule(\n",
       "        (module): Conv2d(512, 512, kernel_size=(3, 3), stride=(1, 1), padding=(1, 1))\n",
       "      )\n",
       "      (22): ReLU(inplace=True)\n",
       "      (23): MaxPool2d(kernel_size=2, stride=2, padding=0, dilation=1, ceil_mode=False)\n",
       "      (24): Conv2d(512, 512, kernel_size=(3, 3), stride=(1, 1), padding=(1, 1))\n",
       "      (25): ReLU(inplace=True)\n",
       "      (26): Conv2d(512, 512, kernel_size=(3, 3), stride=(1, 1), padding=(1, 1))\n",
       "      (27): ReLU(inplace=True)\n",
       "      (28): OptionalExitModule(\n",
       "        (module): Conv2d(512, 512, kernel_size=(3, 3), stride=(1, 1), padding=(1, 1))\n",
       "      )\n",
       "      (29): ReLU(inplace=True)\n",
       "      (30): MaxPool2d(kernel_size=2, stride=2, padding=0, dilation=1, ceil_mode=False)\n",
       "    )\n",
       "    (avgpool): AdaptiveAvgPool2d(output_size=(7, 7))\n",
       "    (classifier): Sequential(\n",
       "      (0): Linear(in_features=25088, out_features=4096, bias=True)\n",
       "      (1): ReLU(inplace=True)\n",
       "      (2): Dropout(p=0.5, inplace=False)\n",
       "      (3): Linear(in_features=4096, out_features=4096, bias=True)\n",
       "      (4): ReLU(inplace=True)\n",
       "      (5): Dropout(p=0.5, inplace=False)\n",
       "      (6): Linear(in_features=4096, out_features=10, bias=True)\n",
       "    )\n",
       "  )\n",
       ")"
      ]
     },
     "execution_count": 56,
     "metadata": {},
     "output_type": "execute_result"
    }
   ],
   "source": [
    "# choose the model\n",
    "model_type = \"vgg\" # \"resnet\" or \"vgg\"\n",
    "\n",
    "model = create_model_with_exits(model_type, num_classes=10)\n",
    "\n",
    "model"
   ]
  },
  {
   "cell_type": "code",
   "execution_count": 57,
   "metadata": {
    "collapsed": false
   },
   "outputs": [],
   "source": [
    "from DataLoader import CustomDataset\n",
    "\n",
    "if model_type == \"resnet\":\n",
    "    # use the imagenette dataset\n",
    "    hf_dataset = load_dataset(\"frgfm/imagenette\", '320px')\n",
    "    hf_dataset = concatenate_datasets(hf_dataset.values())\n",
    "elif model_type == \"vgg\":\n",
    "    # use the cifar10 dataset\n",
    "    hf_dataset = load_dataset(\"cifar10\")\n",
    "    hf_dataset = concatenate_datasets(hf_dataset.values())\n",
    "    \n",
    "\n",
    "transform = transforms.Compose([\n",
    "    transforms.Resize((224, 224)),\n",
    "    transforms.ToTensor(),\n",
    "    # transforms.Normalize(mean=[0.485, 0.456, 0.406], std=[0.229, 0.224, 0.225]),\n",
    "])\n",
    "\n",
    "\n",
    "torch_dataset = CustomDataset(hf_dataset, transform=transform)\n",
    "\n",
    "batch_size = 32 if model_type == \"resnet\" else 64\n",
    "\n",
    "test_size = 0.2\n",
    "test_volume = int(test_size * len(torch_dataset))\n",
    "train_volume = len(torch_dataset) - test_volume\n",
    "\n",
    "train_dataset, test_dataset = random_split(torch_dataset, [train_volume, test_volume])\n",
    "train_dataloader = DataLoader(\n",
    "    train_dataset,\n",
    "    batch_size=batch_size,\n",
    "    shuffle=False, \n",
    "    num_workers=4\n",
    ")\n",
    "\n",
    "test_dataloader = DataLoader(\n",
    "    test_dataset,\n",
    "    batch_size=batch_size,\n",
    "    shuffle=False,\n",
    "    num_workers=4\n",
    ")"
   ]
  },
  {
   "cell_type": "markdown",
   "metadata": {},
   "source": [
    "## Early Exit Model Training"
   ]
  },
  {
   "cell_type": "markdown",
   "metadata": {},
   "source": [
    "If you want tensorboard support, you need to run the following commands on **macOS**:\n",
    "\n",
    "This clears your logs:\n",
    "```\n",
    "rm -rf runs/*\n",
    "```\n",
    "\n",
    "This shows your public IP address:\n",
    "```\n",
    "dig -4 TXT +short o-o.myaddr.l.google.com @ns1.google.com\n",
    "```\n",
    "\n",
    "This starts tensorboard at this address:\n",
    "```\n",
    "tensorboard --host 0.0.0.0 --logdir=runs\n",
    "```\n",
    "\n"
   ]
  },
  {
   "cell_type": "markdown",
   "metadata": {},
   "source": [
    "If you want tensorboard support, you need to run the following commands on **Windows**:\n",
    "\n",
    "This clears your logs:\n",
    "```\n",
    "rmdir /s /q runs\n",
    "```\n",
    "\n",
    "This shows your IP address:\n",
    "```\n",
    "powershell -command \"$ipAddress = (Invoke-WebRequest -Uri 'http://ipinfo.io/ip').Content.Trim(); Write-Host 'Your IP address is: ' $ipAddress\"  \n",
    "```\n",
    "\n",
    "This starts tensorboard at this address:\n",
    "```\n",
    "tensorboard --host=0.0.0.0 --logdir=runs\n",
    "```"
   ]
  },
  {
   "cell_type": "code",
   "execution_count": 58,
   "metadata": {},
   "outputs": [],
   "source": [
    "from EarlyExitTrainer import ModelTrainer\n",
    "\n",
    "trainer = ModelTrainer(model, device)"
   ]
  },
  {
   "cell_type": "code",
   "execution_count": 59,
   "metadata": {
    "collapsed": false
   },
   "outputs": [
    {
     "name": "stdout",
     "output_type": "stream",
     "text": [
      "Training classifier for exit 1\n"
     ]
    },
    {
     "name": "stderr",
     "output_type": "stream",
     "text": [
      "Epoch 0:   0%|                                                             | 0/1500 [00:00<?, ?it/s]"
     ]
    },
    {
     "name": "stderr",
     "output_type": "stream",
     "text": [
      "Epoch 0:  22%|█████▎                  | 335/1500 [03:00<10:31,  1.85it/s, Loss=1.88, Accuracy=0.406]"
     ]
    }
   ],
   "source": [
    "# train the classifiers\n",
    "trainer.train_classifiers(train_dataloader, epoch_count=30, validation_loader=test_dataloader)\n"
   ]
  },
  {
   "cell_type": "code",
   "execution_count": null,
   "metadata": {},
   "outputs": [
    {
     "name": "stderr",
     "output_type": "stream",
     "text": [
      "Epoch 0:   0%|                                                              | 0/335 [00:00<?, ?it/s]"
     ]
    },
    {
     "name": "stdout",
     "output_type": "stream",
     "text": [
      "gate_summation:  tensor(111.6650, device='mps:0', grad_fn=<AsStridedBackward0>) exit_costs:  tensor(15.0685, device='mps:0', grad_fn=<AsStridedBackward0>)\n"
     ]
    },
    {
     "name": "stderr",
     "output_type": "stream",
     "text": [
      "Epoch 1:   0%|                                                              | 0/335 [00:00<?, ?it/s]"
     ]
    },
    {
     "name": "stdout",
     "output_type": "stream",
     "text": [
      "gate_summation:  tensor(2.7934, device='mps:0', grad_fn=<AsStridedBackward0>) exit_costs:  tensor(31.5549, device='mps:0', grad_fn=<AsStridedBackward0>)\n"
     ]
    },
    {
     "name": "stderr",
     "output_type": "stream",
     "text": [
      "Epoch 2:   0%|                                                              | 0/335 [00:00<?, ?it/s]"
     ]
    },
    {
     "name": "stdout",
     "output_type": "stream",
     "text": [
      "gate_summation:  tensor(1.1086, device='mps:0', grad_fn=<AsStridedBackward0>) exit_costs:  tensor(31.9774, device='mps:0', grad_fn=<AsStridedBackward0>)\n"
     ]
    },
    {
     "name": "stderr",
     "output_type": "stream",
     "text": [
      "Epoch 3:   0%|                                                              | 0/335 [00:00<?, ?it/s]"
     ]
    }
   ],
   "source": [
    "# train the exits\n",
    "\n",
    "trainer.train_exit_layers(train_dataloader, epoch_count=30, validation_loader=test_dataloader)"
   ]
  }
 ],
 "metadata": {
  "kernelspec": {
   "display_name": "Python 3",
   "language": "python",
   "name": "python3"
  },
  "language_info": {
   "codemirror_mode": {
    "name": "ipython",
    "version": 3
   },
   "file_extension": ".py",
   "mimetype": "text/x-python",
   "name": "python",
   "nbconvert_exporter": "python",
   "pygments_lexer": "ipython3",
   "version": "3.11.6"
  }
 },
 "nbformat": 4,
 "nbformat_minor": 0
}
