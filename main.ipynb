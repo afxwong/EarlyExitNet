{
 "cells": [
  {
   "cell_type": "code",
   "execution_count": 1,
   "metadata": {},
   "outputs": [
    {
     "name": "stdout",
     "output_type": "stream",
     "text": [
      "Requirement already satisfied: torch in c:\\users\\austin\\anaconda3\\envs\\env\\lib\\site-packages (from -r requirements.txt (line 1)) (2.1.0+cu118)\n",
      "Requirement already satisfied: torchvision in c:\\users\\austin\\anaconda3\\envs\\env\\lib\\site-packages (from -r requirements.txt (line 2)) (0.16.0+cu118)\n",
      "Requirement already satisfied: tqdm in c:\\users\\austin\\anaconda3\\envs\\env\\lib\\site-packages (from -r requirements.txt (line 3)) (4.66.1)\n",
      "Requirement already satisfied: numpy in c:\\users\\austin\\anaconda3\\envs\\env\\lib\\site-packages (from -r requirements.txt (line 4)) (1.24.4)\n",
      "Requirement already satisfied: pandas in c:\\users\\austin\\anaconda3\\envs\\env\\lib\\site-packages (from -r requirements.txt (line 5)) (2.0.3)\n",
      "Requirement already satisfied: matplotlib in c:\\users\\austin\\anaconda3\\envs\\env\\lib\\site-packages (from -r requirements.txt (line 6)) (3.7.3)\n",
      "Requirement already satisfied: datasets in c:\\users\\austin\\anaconda3\\envs\\env\\lib\\site-packages (from -r requirements.txt (line 7)) (2.14.6)\n",
      "Requirement already satisfied: filelock in c:\\users\\austin\\anaconda3\\envs\\env\\lib\\site-packages (from torch->-r requirements.txt (line 1)) (3.13.0)\n",
      "Requirement already satisfied: typing-extensions in c:\\users\\austin\\anaconda3\\envs\\env\\lib\\site-packages (from torch->-r requirements.txt (line 1)) (4.8.0)\n",
      "Requirement already satisfied: sympy in c:\\users\\austin\\anaconda3\\envs\\env\\lib\\site-packages (from torch->-r requirements.txt (line 1)) (1.12)\n",
      "Requirement already satisfied: networkx in c:\\users\\austin\\anaconda3\\envs\\env\\lib\\site-packages (from torch->-r requirements.txt (line 1)) (3.1)\n",
      "Requirement already satisfied: jinja2 in c:\\users\\austin\\anaconda3\\envs\\env\\lib\\site-packages (from torch->-r requirements.txt (line 1)) (3.1.2)\n",
      "Requirement already satisfied: fsspec in c:\\users\\austin\\anaconda3\\envs\\env\\lib\\site-packages (from torch->-r requirements.txt (line 1)) (2023.10.0)\n",
      "Requirement already satisfied: requests in c:\\users\\austin\\anaconda3\\envs\\env\\lib\\site-packages (from torchvision->-r requirements.txt (line 2)) (2.31.0)\n",
      "Requirement already satisfied: pillow!=8.3.*,>=5.3.0 in c:\\users\\austin\\anaconda3\\envs\\env\\lib\\site-packages (from torchvision->-r requirements.txt (line 2)) (10.1.0)\n",
      "Requirement already satisfied: colorama in c:\\users\\austin\\anaconda3\\envs\\env\\lib\\site-packages (from tqdm->-r requirements.txt (line 3)) (0.4.6)\n",
      "Requirement already satisfied: python-dateutil>=2.8.2 in c:\\users\\austin\\anaconda3\\envs\\env\\lib\\site-packages (from pandas->-r requirements.txt (line 5)) (2.8.2)\n",
      "Requirement already satisfied: pytz>=2020.1 in c:\\users\\austin\\anaconda3\\envs\\env\\lib\\site-packages (from pandas->-r requirements.txt (line 5)) (2023.3.post1)\n",
      "Requirement already satisfied: tzdata>=2022.1 in c:\\users\\austin\\anaconda3\\envs\\env\\lib\\site-packages (from pandas->-r requirements.txt (line 5)) (2023.3)\n",
      "Requirement already satisfied: contourpy>=1.0.1 in c:\\users\\austin\\anaconda3\\envs\\env\\lib\\site-packages (from matplotlib->-r requirements.txt (line 6)) (1.1.1)\n",
      "Requirement already satisfied: cycler>=0.10 in c:\\users\\austin\\anaconda3\\envs\\env\\lib\\site-packages (from matplotlib->-r requirements.txt (line 6)) (0.12.1)\n",
      "Requirement already satisfied: fonttools>=4.22.0 in c:\\users\\austin\\anaconda3\\envs\\env\\lib\\site-packages (from matplotlib->-r requirements.txt (line 6)) (4.43.1)\n",
      "Requirement already satisfied: kiwisolver>=1.0.1 in c:\\users\\austin\\anaconda3\\envs\\env\\lib\\site-packages (from matplotlib->-r requirements.txt (line 6)) (1.4.5)\n",
      "Requirement already satisfied: packaging>=20.0 in c:\\users\\austin\\anaconda3\\envs\\env\\lib\\site-packages (from matplotlib->-r requirements.txt (line 6)) (23.2)\n",
      "Requirement already satisfied: pyparsing>=2.3.1 in c:\\users\\austin\\anaconda3\\envs\\env\\lib\\site-packages (from matplotlib->-r requirements.txt (line 6)) (3.1.1)\n",
      "Requirement already satisfied: importlib-resources>=3.2.0 in c:\\users\\austin\\anaconda3\\envs\\env\\lib\\site-packages (from matplotlib->-r requirements.txt (line 6)) (6.1.0)\n",
      "Requirement already satisfied: pyarrow>=8.0.0 in c:\\users\\austin\\anaconda3\\envs\\env\\lib\\site-packages (from datasets->-r requirements.txt (line 7)) (13.0.0)\n",
      "Requirement already satisfied: dill<0.3.8,>=0.3.0 in c:\\users\\austin\\anaconda3\\envs\\env\\lib\\site-packages (from datasets->-r requirements.txt (line 7)) (0.3.7)\n",
      "Requirement already satisfied: xxhash in c:\\users\\austin\\anaconda3\\envs\\env\\lib\\site-packages (from datasets->-r requirements.txt (line 7)) (3.4.1)\n",
      "Requirement already satisfied: multiprocess in c:\\users\\austin\\anaconda3\\envs\\env\\lib\\site-packages (from datasets->-r requirements.txt (line 7)) (0.70.15)\n",
      "Requirement already satisfied: aiohttp in c:\\users\\austin\\anaconda3\\envs\\env\\lib\\site-packages (from datasets->-r requirements.txt (line 7)) (3.8.6)\n",
      "Requirement already satisfied: huggingface-hub<1.0.0,>=0.14.0 in c:\\users\\austin\\anaconda3\\envs\\env\\lib\\site-packages (from datasets->-r requirements.txt (line 7)) (0.18.0)\n",
      "Requirement already satisfied: pyyaml>=5.1 in c:\\users\\austin\\anaconda3\\envs\\env\\lib\\site-packages (from datasets->-r requirements.txt (line 7)) (6.0.1)\n",
      "Requirement already satisfied: attrs>=17.3.0 in c:\\users\\austin\\anaconda3\\envs\\env\\lib\\site-packages (from aiohttp->datasets->-r requirements.txt (line 7)) (23.1.0)\n",
      "Requirement already satisfied: charset-normalizer<4.0,>=2.0 in c:\\users\\austin\\anaconda3\\envs\\env\\lib\\site-packages (from aiohttp->datasets->-r requirements.txt (line 7)) (3.3.1)\n",
      "Requirement already satisfied: multidict<7.0,>=4.5 in c:\\users\\austin\\anaconda3\\envs\\env\\lib\\site-packages (from aiohttp->datasets->-r requirements.txt (line 7)) (6.0.4)\n",
      "Requirement already satisfied: async-timeout<5.0,>=4.0.0a3 in c:\\users\\austin\\anaconda3\\envs\\env\\lib\\site-packages (from aiohttp->datasets->-r requirements.txt (line 7)) (4.0.3)\n",
      "Requirement already satisfied: yarl<2.0,>=1.0 in c:\\users\\austin\\anaconda3\\envs\\env\\lib\\site-packages (from aiohttp->datasets->-r requirements.txt (line 7)) (1.9.2)\n",
      "Requirement already satisfied: frozenlist>=1.1.1 in c:\\users\\austin\\anaconda3\\envs\\env\\lib\\site-packages (from aiohttp->datasets->-r requirements.txt (line 7)) (1.4.0)\n",
      "Requirement already satisfied: aiosignal>=1.1.2 in c:\\users\\austin\\anaconda3\\envs\\env\\lib\\site-packages (from aiohttp->datasets->-r requirements.txt (line 7)) (1.3.1)\n",
      "Requirement already satisfied: zipp>=3.1.0 in c:\\users\\austin\\anaconda3\\envs\\env\\lib\\site-packages (from importlib-resources>=3.2.0->matplotlib->-r requirements.txt (line 6)) (3.17.0)\n",
      "Requirement already satisfied: six>=1.5 in c:\\users\\austin\\anaconda3\\envs\\env\\lib\\site-packages (from python-dateutil>=2.8.2->pandas->-r requirements.txt (line 5)) (1.16.0)\n",
      "Requirement already satisfied: idna<4,>=2.5 in c:\\users\\austin\\anaconda3\\envs\\env\\lib\\site-packages (from requests->torchvision->-r requirements.txt (line 2)) (3.4)\n",
      "Requirement already satisfied: urllib3<3,>=1.21.1 in c:\\users\\austin\\anaconda3\\envs\\env\\lib\\site-packages (from requests->torchvision->-r requirements.txt (line 2)) (2.0.7)\n",
      "Requirement already satisfied: certifi>=2017.4.17 in c:\\users\\austin\\anaconda3\\envs\\env\\lib\\site-packages (from requests->torchvision->-r requirements.txt (line 2)) (2023.7.22)\n",
      "Requirement already satisfied: MarkupSafe>=2.0 in c:\\users\\austin\\anaconda3\\envs\\env\\lib\\site-packages (from jinja2->torch->-r requirements.txt (line 1)) (2.1.3)\n",
      "Requirement already satisfied: mpmath>=0.19 in c:\\users\\austin\\anaconda3\\envs\\env\\lib\\site-packages (from sympy->torch->-r requirements.txt (line 1)) (1.3.0)\n",
      "Note: you may need to restart the kernel to use updated packages.\n"
     ]
    }
   ],
   "source": [
    "%load_ext autoreload\n",
    "%autoreload 2\n",
    "\n",
    "%pip install -r requirements.txt"
   ]
  },
  {
   "cell_type": "code",
   "execution_count": 2,
   "metadata": {
    "collapsed": true
   },
   "outputs": [],
   "source": [
    "import sys\n",
    "import os\n",
    "import torch\n",
    "import torch.nn as nn\n",
    "from torch.utils.data import DataLoader, Dataset, random_split\n",
    "import torchvision\n",
    "import torchvision.models as models\n",
    "from torchvision import transforms\n",
    "from datasets import load_dataset, concatenate_datasets\n",
    "import pickle"
   ]
  },
  {
   "cell_type": "code",
   "execution_count": 3,
   "metadata": {},
   "outputs": [],
   "source": [
    "# load in the pretrained vgg code\n",
    "import shutil\n",
    "\n",
    "if not os.path.exists('cifar10_models'):\n",
    "    !git clone https://github.com/huyvnphan/PyTorch_CIFAR10\n",
    "    \n",
    "    # copy cifar10_models folder to current directory\n",
    "    shutil.copytree(os.path.join(\"PyTorch_CIFAR10\", \"cifar10_models\"), \"cifar10_models\")\n",
    "    \n",
    "    # delete the cloned repo\n",
    "    try:\n",
    "        shutil.rmtree(\"PyTorch_CIFAR10\")\n",
    "    except: pass\n",
    "    \n",
    "\n",
    "from cifar10_models import *"
   ]
  },
  {
   "cell_type": "code",
   "execution_count": 4,
   "metadata": {},
   "outputs": [
    {
     "name": "stdout",
     "output_type": "stream",
     "text": [
      "PyTorch version: 2.1.0+cu118\n",
      "Is MPS (Metal Performance Shader) built? False\n",
      "Is MPS available? False\n",
      "Is CUDA available? True\n",
      "Using device: cuda\n"
     ]
    }
   ],
   "source": [
    "print(f\"PyTorch version: {torch.__version__}\")\n",
    "\n",
    "# Check PyTorch has access to MPS (Metal Performance Shader, Apple's GPU architecture)\n",
    "print(f\"Is MPS (Metal Performance Shader) built? {torch.backends.mps.is_built()}\")\n",
    "print(f\"Is MPS available? {torch.backends.mps.is_available()}\")\n",
    "\n",
    "# Check for CUDA support\n",
    "print(f\"Is CUDA available? {torch.cuda.is_available()}\")\n",
    "\n",
    "# Set the device\n",
    "if torch.backends.mps.is_available():\n",
    "    device = \"mps\"\n",
    "elif torch.cuda.is_available():\n",
    "    device = \"cuda\"\n",
    "else:\n",
    "    device = \"cpu\"\n",
    "\n",
    "print(f\"Using device: {device}\")\n"
   ]
  },
  {
   "cell_type": "code",
   "execution_count": 5,
   "metadata": {},
   "outputs": [],
   "source": [
    "from EarlyExitModel import EarlyExitModel\n",
    "\n",
    "def create_model_with_exits(model_type, num_classes):\n",
    "    if model_type == \"resnet\":\n",
    "        resnet = models.resnet50(pretrained=True)\n",
    "        \n",
    "        # set requires_grad to False to freeze the parameters\n",
    "        for param in resnet.parameters():\n",
    "            param.requires_grad = False\n",
    "        \n",
    "        resnet.fc = nn.Linear(resnet.fc.in_features, num_classes)\n",
    "        \n",
    "        model = EarlyExitModel(resnet, num_classes, device)\n",
    "        model.clear_exits()\n",
    "        exit_layers = [model.add_exit(layer, model_type) for layer in ('layer1', 'layer2', 'layer3')]\n",
    "        \n",
    "    elif model_type == \"vgg_cifar10\":\n",
    "        # model loaded from https://github.com/huyvnphan/PyTorch_CIFAR10\n",
    "        # use this code to generate a pretrained model and pickle/save it\n",
    "        \n",
    "        model_path = os.path.join('models', 'vgg_cifar10', 'vgg11_bn.pkl')\n",
    "        vgg = pickle.load(open(model_path, 'rb'))\n",
    "        # set requires_grad to False to freeze the parameters\n",
    "        for param in vgg.parameters():\n",
    "            param.requires_grad = False\n",
    "        vgg.classifier[-1] = nn.Linear(vgg.classifier[-1].in_features, num_classes)\n",
    "        \n",
    "        model = EarlyExitModel(vgg, num_classes, device)\n",
    "        model.clear_exits()\n",
    "        exit_layers = [model.add_exit(layer, model_type) for layer in ('features.8', 'features.15', 'features.22', 'avgpool')]\n",
    "    elif model_type == \"vgg_cifar100\":\n",
    "        vgg = torch.hub.load(\"chenyaofo/pytorch-cifar-models\", \"cifar100_vgg11_bn\", pretrained=True)\n",
    "        # set requires_grad to False to freeze the parameters\n",
    "        for param in vgg.parameters():\n",
    "            param.requires_grad = False\n",
    "        vgg.classifier[-1] = nn.Linear(vgg.classifier[-1].in_features, num_classes)\n",
    "        model = EarlyExitModel(vgg, num_classes, device)\n",
    "        model.clear_exits()\n",
    "        exit_layers = [model.add_exit(layer, model_type) for layer in ('features.8', 'features.15', 'features.22', \"classifier.0\")]\n",
    "    else:\n",
    "        raise ValueError(f\"Unknown model type: {model_type}\")\n",
    "    \n",
    "    model.to(device)\n",
    "    return model\n",
    "        \n",
    "        "
   ]
  },
  {
   "cell_type": "code",
   "execution_count": 6,
   "metadata": {},
   "outputs": [
    {
     "name": "stderr",
     "output_type": "stream",
     "text": [
      "c:\\Users\\Austin\\anaconda3\\envs\\env\\lib\\site-packages\\torch\\hub.py:294: UserWarning: You are about to download and run code from an untrusted repository. In a future release, this won't be allowed. To add the repository to your trusted list, change the command to {calling_fn}(..., trust_repo=False) and a command prompt will appear asking for an explicit confirmation of trust, or load(..., trust_repo=True), which will assume that the prompt is to be answered with 'yes'. You can also use load(..., trust_repo='check') which will only prompt for confirmation if the repo is not already trusted. This will eventually be the default behaviour\n",
      "  warnings.warn(\n",
      "Downloading: \"https://github.com/chenyaofo/pytorch-cifar-models/zipball/master\" to C:\\Users\\Austin/.cache\\torch\\hub\\master.zip\n",
      "Downloading: \"https://github.com/chenyaofo/pytorch-cifar-models/releases/download/vgg/cifar100_vgg11_bn-57d0759e.pt\" to C:\\Users\\Austin/.cache\\torch\\hub\\checkpoints\\cifar100_vgg11_bn-57d0759e.pt\n",
      "100%|██████████| 37.4M/37.4M [00:00<00:00, 111MB/s]\n"
     ]
    },
    {
     "data": {
      "text/plain": [
       "EarlyExitModel(\n",
       "  (model): VGG(\n",
       "    (features): Sequential(\n",
       "      (0): Conv2d(3, 64, kernel_size=(3, 3), stride=(1, 1), padding=(1, 1))\n",
       "      (1): BatchNorm2d(64, eps=1e-05, momentum=0.1, affine=True, track_running_stats=True)\n",
       "      (2): ReLU(inplace=True)\n",
       "      (3): MaxPool2d(kernel_size=2, stride=2, padding=0, dilation=1, ceil_mode=False)\n",
       "      (4): Conv2d(64, 128, kernel_size=(3, 3), stride=(1, 1), padding=(1, 1))\n",
       "      (5): BatchNorm2d(128, eps=1e-05, momentum=0.1, affine=True, track_running_stats=True)\n",
       "      (6): ReLU(inplace=True)\n",
       "      (7): MaxPool2d(kernel_size=2, stride=2, padding=0, dilation=1, ceil_mode=False)\n",
       "      (8): OptionalExitModule(\n",
       "        (module): Conv2d(128, 256, kernel_size=(3, 3), stride=(1, 1), padding=(1, 1))\n",
       "      )\n",
       "      (9): BatchNorm2d(256, eps=1e-05, momentum=0.1, affine=True, track_running_stats=True)\n",
       "      (10): ReLU(inplace=True)\n",
       "      (11): Conv2d(256, 256, kernel_size=(3, 3), stride=(1, 1), padding=(1, 1))\n",
       "      (12): BatchNorm2d(256, eps=1e-05, momentum=0.1, affine=True, track_running_stats=True)\n",
       "      (13): ReLU(inplace=True)\n",
       "      (14): MaxPool2d(kernel_size=2, stride=2, padding=0, dilation=1, ceil_mode=False)\n",
       "      (15): OptionalExitModule(\n",
       "        (module): Conv2d(256, 512, kernel_size=(3, 3), stride=(1, 1), padding=(1, 1))\n",
       "      )\n",
       "      (16): BatchNorm2d(512, eps=1e-05, momentum=0.1, affine=True, track_running_stats=True)\n",
       "      (17): ReLU(inplace=True)\n",
       "      (18): Conv2d(512, 512, kernel_size=(3, 3), stride=(1, 1), padding=(1, 1))\n",
       "      (19): BatchNorm2d(512, eps=1e-05, momentum=0.1, affine=True, track_running_stats=True)\n",
       "      (20): ReLU(inplace=True)\n",
       "      (21): MaxPool2d(kernel_size=2, stride=2, padding=0, dilation=1, ceil_mode=False)\n",
       "      (22): OptionalExitModule(\n",
       "        (module): Conv2d(512, 512, kernel_size=(3, 3), stride=(1, 1), padding=(1, 1))\n",
       "      )\n",
       "      (23): BatchNorm2d(512, eps=1e-05, momentum=0.1, affine=True, track_running_stats=True)\n",
       "      (24): ReLU(inplace=True)\n",
       "      (25): Conv2d(512, 512, kernel_size=(3, 3), stride=(1, 1), padding=(1, 1))\n",
       "      (26): BatchNorm2d(512, eps=1e-05, momentum=0.1, affine=True, track_running_stats=True)\n",
       "      (27): ReLU(inplace=True)\n",
       "      (28): MaxPool2d(kernel_size=2, stride=2, padding=0, dilation=1, ceil_mode=False)\n",
       "    )\n",
       "    (classifier): Sequential(\n",
       "      (0): OptionalExitModule(\n",
       "        (module): Linear(in_features=512, out_features=512, bias=True)\n",
       "      )\n",
       "      (1): ReLU(inplace=True)\n",
       "      (2): Dropout(p=0.5, inplace=False)\n",
       "      (3): Linear(in_features=512, out_features=512, bias=True)\n",
       "      (4): ReLU(inplace=True)\n",
       "      (5): Dropout(p=0.5, inplace=False)\n",
       "      (6): Linear(in_features=512, out_features=100, bias=True)\n",
       "    )\n",
       "  )\n",
       ")"
      ]
     },
     "execution_count": 6,
     "metadata": {},
     "output_type": "execute_result"
    }
   ],
   "source": [
    "# choose the model\n",
    "model_type = \"vgg_cifar100\" # either \"resnet\" or \"vgg_cifar10\" or \"vgg_cifar100\"\n",
    "\n",
    "model_path = os.path.join(\"models\", model_type)\n",
    "\n",
    "num_classes = 100 if model_type == \"vgg_cifar100\" else 10\n",
    "\n",
    "model = create_model_with_exits(model_type, num_classes=num_classes)\n",
    "\n",
    "model"
   ]
  },
  {
   "cell_type": "code",
   "execution_count": 7,
   "metadata": {
    "collapsed": false
   },
   "outputs": [
    {
     "data": {
      "application/vnd.jupyter.widget-view+json": {
       "model_id": "b2ce33e4b807469abaf8465fd16914e3",
       "version_major": 2,
       "version_minor": 0
      },
      "text/plain": [
       "Downloading builder script:   0%|          | 0.00/5.61k [00:00<?, ?B/s]"
      ]
     },
     "metadata": {},
     "output_type": "display_data"
    },
    {
     "data": {
      "application/vnd.jupyter.widget-view+json": {
       "model_id": "70e3a54ae0d74181ad9908a1e72c63ee",
       "version_major": 2,
       "version_minor": 0
      },
      "text/plain": [
       "Downloading metadata:   0%|          | 0.00/4.21k [00:00<?, ?B/s]"
      ]
     },
     "metadata": {},
     "output_type": "display_data"
    },
    {
     "data": {
      "application/vnd.jupyter.widget-view+json": {
       "model_id": "993cabaede974f488c434a80bd0d07a0",
       "version_major": 2,
       "version_minor": 0
      },
      "text/plain": [
       "Downloading readme:   0%|          | 0.00/9.83k [00:00<?, ?B/s]"
      ]
     },
     "metadata": {},
     "output_type": "display_data"
    },
    {
     "data": {
      "application/vnd.jupyter.widget-view+json": {
       "model_id": "58bf0aa2d18044ce843c1295c6c15665",
       "version_major": 2,
       "version_minor": 0
      },
      "text/plain": [
       "Downloading data:   0%|          | 0.00/169M [00:00<?, ?B/s]"
      ]
     },
     "metadata": {},
     "output_type": "display_data"
    },
    {
     "data": {
      "application/vnd.jupyter.widget-view+json": {
       "model_id": "6841be3387a645d3814ffe6e5b48fb51",
       "version_major": 2,
       "version_minor": 0
      },
      "text/plain": [
       "Generating train split:   0%|          | 0/50000 [00:00<?, ? examples/s]"
      ]
     },
     "metadata": {},
     "output_type": "display_data"
    },
    {
     "name": "stderr",
     "output_type": "stream",
     "text": [
      "c:\\Users\\Austin\\anaconda3\\envs\\env\\lib\\site-packages\\datasets\\features\\image.py:332: UserWarning: Downcasting array dtype uint8 to uint8 to be compatible with 'Pillow'\n",
      "  warnings.warn(f\"Downcasting array dtype {dtype} to {dest_dtype} to be compatible with 'Pillow'\")\n"
     ]
    },
    {
     "data": {
      "application/vnd.jupyter.widget-view+json": {
       "model_id": "a254dd874d60440881ba6e9ec79a707a",
       "version_major": 2,
       "version_minor": 0
      },
      "text/plain": [
       "Generating test split:   0%|          | 0/10000 [00:00<?, ? examples/s]"
      ]
     },
     "metadata": {},
     "output_type": "display_data"
    }
   ],
   "source": [
    "from DataLoader import CustomDataset\n",
    "import numpy as np\n",
    "\n",
    "if model_type == \"resnet\":\n",
    "    # use the imagenette dataset\n",
    "    hf_dataset = load_dataset(\"frgfm/imagenette\", '320px')\n",
    "    hf_dataset = concatenate_datasets(hf_dataset.values())\n",
    "    transform = transforms.Compose([\n",
    "        transforms.Resize((224, 224)),\n",
    "        transforms.ToTensor(),\n",
    "    ])\n",
    "\n",
    "elif model_type == \"vgg_cifar10\":\n",
    "    # use the cifar10 dataset\n",
    "    hf_dataset = load_dataset(\"cifar10\")\n",
    "    hf_dataset = concatenate_datasets(hf_dataset.values())\n",
    "    \n",
    "    transform = transforms.Compose([\n",
    "        transforms.Resize((32, 32)),\n",
    "        transforms.ToTensor(),\n",
    "        transforms.Normalize(mean=[0.507, 0.4865, 0.4409],\n",
    "                             std=[0.2673, 0.2564, 0.2761])\n",
    "    ])\n",
    "elif model_type == \"vgg_cifar100\":\n",
    "    # use the cifar100 dataset\n",
    "    hf_dataset = load_dataset(\"cifar100\")\n",
    "    hf_dataset = concatenate_datasets(hf_dataset.values())\n",
    "    \n",
    "    transform = transforms.Compose([\n",
    "        transforms.Resize((32, 32)),\n",
    "        transforms.ToTensor(),\n",
    "    ])\n",
    "    \n",
    "torch_dataset = CustomDataset(hf_dataset, transform=transform)\n",
    "\n",
    "batch_size = 32 if model_type == \"resnet\" else 64\n",
    "\n",
    "test_size = 0.2\n",
    "test_volume = int(test_size * len(torch_dataset))\n",
    "train_volume = len(torch_dataset) - test_volume\n",
    "\n",
    "train_dataset, test_dataset = random_split(torch_dataset, [train_volume, test_volume])\n",
    "train_dataloader = DataLoader(\n",
    "    train_dataset,\n",
    "    batch_size=batch_size,\n",
    "    shuffle=False, \n",
    "    num_workers=4\n",
    ")\n",
    "\n",
    "test_dataloader = DataLoader(\n",
    "    test_dataset,\n",
    "    batch_size=batch_size,\n",
    "    shuffle=False,\n",
    "    num_workers=4\n",
    ")"
   ]
  },
  {
   "cell_type": "code",
   "execution_count": 8,
   "metadata": {},
   "outputs": [],
   "source": [
    "# # TODO: remove this cell\n",
    "# import OptionalExitModule\n",
    "\n",
    "# model = torch.hub.load(\"chenyaofo/pytorch-cifar-models\", \"cifar100_vgg11_bn\", pretrained=True)\n",
    "# model.to(device)\n",
    "          \n",
    "# losses = []\n",
    "# accuracies = []\n",
    "# loss_fn = nn.CrossEntropyLoss()\n",
    "# for (X, y) in test_dataloader:\n",
    "#     X = X.to(device)\n",
    "#     y = y.to(device)\n",
    "#     y_hat = model(X)\n",
    "    \n",
    "#     losses.append(loss_fn(y_hat, y).item())\n",
    "#     accuracies.append((y_hat.argmax(dim=1) == y).float().mean().item())\n",
    "\n",
    "# print(f\"Loss: {np.mean(losses)}\")\n",
    "# print(f\"Accuracy: {np.mean(accuracies)}\")"
   ]
  },
  {
   "cell_type": "markdown",
   "metadata": {},
   "source": [
    "## Early Exit Model Training"
   ]
  },
  {
   "cell_type": "markdown",
   "metadata": {},
   "source": [
    "If you want tensorboard support, you need to run the following commands on **macOS**:\n",
    "\n",
    "This clears your logs:\n",
    "```\n",
    "rm -rf runs/*\n",
    "```\n",
    "\n",
    "This shows your public IP address:\n",
    "```\n",
    "dig -4 TXT +short o-o.myaddr.l.google.com @ns1.google.com\n",
    "```\n",
    "\n",
    "This starts tensorboard at this address:\n",
    "```\n",
    "tensorboard --host 0.0.0.0 --logdir={model_path}/runs\n",
    "```\n",
    "```\n",
    "\n"
   ]
  },
  {
   "cell_type": "markdown",
   "metadata": {},
   "source": [
    "If you want tensorboard support, you need to run the following commands on **Windows**:\n",
    "\n",
    "This clears your logs:\n",
    "```\n",
    "rmdir /s /q runs\n",
    "```\n",
    "\n",
    "This shows your IP address:\n",
    "```\n",
    "powershell -command \"$ipAddress = (Invoke-WebRequest -Uri 'http://ipinfo.io/ip').Content.Trim(); Write-Host 'Your IP address is: ' $ipAddress\"  \n",
    "```\n",
    "\n",
    "This starts tensorboard at this address:\n",
    "```\n",
    "tensorboard --host 0.0.0.0 --logdir={model_path}\\runs\n",
    "```"
   ]
  },
  {
   "cell_type": "code",
   "execution_count": 9,
   "metadata": {},
   "outputs": [],
   "source": [
    "from EarlyExitTrainer import ModelTrainer\n",
    "\n",
    "trainer = ModelTrainer(model, device, model_dir=model_path)"
   ]
  },
  {
   "cell_type": "code",
   "execution_count": 10,
   "metadata": {
    "collapsed": false
   },
   "outputs": [
    {
     "name": "stdout",
     "output_type": "stream",
     "text": [
      "Training classifier for exit 1\n"
     ]
    },
    {
     "name": "stderr",
     "output_type": "stream",
     "text": [
      "                                                                                                    \r"
     ]
    },
    {
     "name": "stdout",
     "output_type": "stream",
     "text": [
      "Epoch 0 Loss 3.964856351852417\n",
      "Epoch 0 Accuracy 0.16141666666666668\n",
      "Epoch 0 Validation Loss 3.4598162174224854\n",
      "Epoch 0 Validation Accuracy 0.2521609042553192\n",
      "=====================================\n"
     ]
    },
    {
     "name": "stderr",
     "output_type": "stream",
     "text": [
      "                                                                                                    \r"
     ]
    },
    {
     "name": "stdout",
     "output_type": "stream",
     "text": [
      "Epoch 1 Loss 3.192774865468343\n",
      "Epoch 1 Accuracy 0.28772916666666665\n",
      "Epoch 1 Validation Loss 3.0631139494003135\n",
      "Epoch 1 Validation Accuracy 0.29837101063829785\n",
      "=====================================\n"
     ]
    },
    {
     "name": "stderr",
     "output_type": "stream",
     "text": [
      "                                                                                                    \r"
     ]
    },
    {
     "name": "stdout",
     "output_type": "stream",
     "text": [
      "Epoch 2 Loss 2.9107193349202474\n",
      "Epoch 2 Accuracy 0.32827083333333335\n",
      "Epoch 2 Validation Loss 2.9402255251052534\n",
      "Epoch 2 Validation Accuracy 0.31898271276595747\n",
      "=====================================\n"
     ]
    },
    {
     "name": "stderr",
     "output_type": "stream",
     "text": [
      "                                                                                                    \r"
     ]
    },
    {
     "name": "stdout",
     "output_type": "stream",
     "text": [
      "Epoch 3 Loss 2.8129265588124595\n",
      "Epoch 3 Accuracy 0.3491875\n",
      "Epoch 3 Validation Loss 2.9299043670613716\n",
      "Epoch 3 Validation Accuracy 0.3288730053191489\n",
      "=====================================\n"
     ]
    },
    {
     "name": "stderr",
     "output_type": "stream",
     "text": [
      "                                                                                                    \r"
     ]
    },
    {
     "name": "stdout",
     "output_type": "stream",
     "text": [
      "Epoch 4 Loss 2.7977461261749266\n",
      "Epoch 4 Accuracy 0.3624583333333333\n",
      "Epoch 4 Validation Loss 2.9743700344511805\n",
      "Epoch 4 Validation Accuracy 0.3373503989361702\n",
      "=====================================\n",
      "[0.2521609042553192, 0.29837101063829785]\n"
     ]
    },
    {
     "name": "stderr",
     "output_type": "stream",
     "text": [
      "                                                                                                    \r"
     ]
    },
    {
     "name": "stdout",
     "output_type": "stream",
     "text": [
      "Epoch 5 Loss 2.8241690009435017\n",
      "Epoch 5 Accuracy 0.3728958333333333\n",
      "Epoch 5 Validation Loss 3.046958314611557\n",
      "Epoch 5 Validation Accuracy 0.3441655585106383\n",
      "=====================================\n",
      "[0.2521609042553192, 0.29837101063829785, 0.31898271276595747]\n"
     ]
    },
    {
     "name": "stderr",
     "output_type": "stream",
     "text": [
      "                                                                                                    \r"
     ]
    },
    {
     "name": "stdout",
     "output_type": "stream",
     "text": [
      "Epoch 6 Loss 2.872596618493398\n",
      "Epoch 6 Accuracy 0.3799166666666667\n",
      "Epoch 6 Validation Loss 3.1340881345119884\n",
      "Epoch 6 Validation Accuracy 0.34798869680851063\n",
      "=====================================\n",
      "[0.2521609042553192, 0.29837101063829785, 0.31898271276595747, 0.3288730053191489]\n"
     ]
    },
    {
     "name": "stderr",
     "output_type": "stream",
     "text": [
      "                                                                                                    \r"
     ]
    },
    {
     "name": "stdout",
     "output_type": "stream",
     "text": [
      "Epoch 7 Loss 2.9327044951121013\n",
      "Epoch 7 Accuracy 0.38477083333333334\n",
      "Epoch 7 Validation Loss 3.228651783567794\n",
      "Epoch 7 Validation Accuracy 0.34990026595744683\n",
      "=====================================\n",
      "[0.2521609042553192, 0.29837101063829785, 0.31898271276595747, 0.3288730053191489, 0.3373503989361702]\n"
     ]
    },
    {
     "name": "stderr",
     "output_type": "stream",
     "text": [
      "                                                                                                    \r"
     ]
    },
    {
     "name": "stdout",
     "output_type": "stream",
     "text": [
      "Epoch 8 Loss 2.9986478700637815\n",
      "Epoch 8 Accuracy 0.38897916666666665\n",
      "Epoch 8 Validation Loss 3.325983173035561\n",
      "Epoch 8 Validation Accuracy 0.351811835106383\n",
      "=====================================\n",
      "[0.2521609042553192, 0.29837101063829785, 0.31898271276595747, 0.3288730053191489, 0.3373503989361702, 0.3441655585106383]\n"
     ]
    },
    {
     "name": "stderr",
     "output_type": "stream",
     "text": [
      "                                                                                                    \r"
     ]
    },
    {
     "name": "stdout",
     "output_type": "stream",
     "text": [
      "Epoch 9 Loss 3.0673044193585715\n",
      "Epoch 9 Accuracy 0.39314583333333336\n",
      "Epoch 9 Validation Loss 3.4240787802858557\n",
      "Epoch 9 Validation Accuracy 0.3542220744680851\n",
      "=====================================\n",
      "[0.2521609042553192, 0.29837101063829785, 0.31898271276595747, 0.3288730053191489, 0.3373503989361702, 0.3441655585106383, 0.34798869680851063]\n"
     ]
    },
    {
     "name": "stderr",
     "output_type": "stream",
     "text": [
      "                                                                                                    \r"
     ]
    },
    {
     "name": "stdout",
     "output_type": "stream",
     "text": [
      "Epoch 10 Loss 3.136886787732442\n",
      "Epoch 10 Accuracy 0.39679166666666665\n",
      "Epoch 10 Validation Loss 3.521475888313131\n",
      "Epoch 10 Validation Accuracy 0.35546875\n",
      "=====================================\n",
      "[0.2521609042553192, 0.29837101063829785, 0.31898271276595747, 0.3288730053191489, 0.3373503989361702, 0.3441655585106383, 0.34798869680851063, 0.34990026595744683]\n"
     ]
    },
    {
     "name": "stderr",
     "output_type": "stream",
     "text": [
      "                                                                                                    \r"
     ]
    },
    {
     "name": "stdout",
     "output_type": "stream",
     "text": [
      "Epoch 11 Loss 3.20659396648407\n",
      "Epoch 11 Accuracy 0.3998333333333333\n",
      "Epoch 11 Validation Loss 3.618025243282318\n",
      "Epoch 11 Validation Accuracy 0.35787898936170215\n",
      "=====================================\n",
      "[0.2521609042553192, 0.29837101063829785, 0.31898271276595747, 0.3288730053191489, 0.3373503989361702, 0.3441655585106383, 0.34798869680851063, 0.34990026595744683, 0.351811835106383]\n"
     ]
    },
    {
     "name": "stderr",
     "output_type": "stream",
     "text": [
      "                                                                                                    \r"
     ]
    },
    {
     "name": "stdout",
     "output_type": "stream",
     "text": [
      "Epoch 12 Loss 3.2762972160975137\n",
      "Epoch 12 Accuracy 0.402875\n",
      "Epoch 12 Validation Loss 3.713703804827751\n",
      "Epoch 12 Validation Accuracy 0.35904255319148937\n",
      "=====================================\n",
      "[0.2521609042553192, 0.29837101063829785, 0.31898271276595747, 0.3288730053191489, 0.3373503989361702, 0.3441655585106383, 0.34798869680851063, 0.34990026595744683, 0.351811835106383, 0.3542220744680851]\n"
     ]
    },
    {
     "name": "stderr",
     "output_type": "stream",
     "text": [
      "                                                                                                    \r"
     ]
    },
    {
     "name": "stdout",
     "output_type": "stream",
     "text": [
      "Epoch 13 Loss 3.34578670724233\n",
      "Epoch 13 Accuracy 0.40602083333333333\n",
      "Epoch 13 Validation Loss 3.808512663587611\n",
      "Epoch 13 Validation Accuracy 0.3587932180851064\n",
      "=====================================\n",
      "[0.2521609042553192, 0.29837101063829785, 0.31898271276595747, 0.3288730053191489, 0.3373503989361702, 0.3441655585106383, 0.34798869680851063, 0.34990026595744683, 0.351811835106383, 0.3542220744680851, 0.35546875]\n"
     ]
    },
    {
     "name": "stderr",
     "output_type": "stream",
     "text": [
      "                                                                                                    \r"
     ]
    },
    {
     "name": "stdout",
     "output_type": "stream",
     "text": [
      "Epoch 14 Loss 3.41496076520284\n",
      "Epoch 14 Accuracy 0.40839583333333335\n",
      "Epoch 14 Validation Loss 3.902348561489836\n",
      "Epoch 14 Validation Accuracy 0.35987367021276595\n",
      "=====================================\n",
      "[0.2521609042553192, 0.29837101063829785, 0.31898271276595747, 0.3288730053191489, 0.3373503989361702, 0.3441655585106383, 0.34798869680851063, 0.34990026595744683, 0.351811835106383, 0.3542220744680851, 0.35546875, 0.35787898936170215]\n"
     ]
    },
    {
     "name": "stderr",
     "output_type": "stream",
     "text": [
      "                                                                                                    \r"
     ]
    },
    {
     "name": "stdout",
     "output_type": "stream",
     "text": [
      "Epoch 15 Loss 3.483797285715739\n",
      "Epoch 15 Accuracy 0.410375\n",
      "Epoch 15 Validation Loss 3.9952867944189845\n",
      "Epoch 15 Validation Accuracy 0.36070478723404253\n",
      "=====================================\n",
      "[0.2521609042553192, 0.29837101063829785, 0.31898271276595747, 0.3288730053191489, 0.3373503989361702, 0.3441655585106383, 0.34798869680851063, 0.34990026595744683, 0.351811835106383, 0.3542220744680851, 0.35546875, 0.35787898936170215, 0.35904255319148937]\n"
     ]
    },
    {
     "name": "stderr",
     "output_type": "stream",
     "text": [
      "                                                                                                    \r"
     ]
    },
    {
     "name": "stdout",
     "output_type": "stream",
     "text": [
      "Epoch 16 Loss 3.552344306310018\n",
      "Epoch 16 Accuracy 0.41275\n",
      "Epoch 16 Validation Loss 4.08748230781961\n",
      "Epoch 16 Validation Accuracy 0.3621176861702128\n",
      "=====================================\n",
      "[0.2521609042553192, 0.29837101063829785, 0.31898271276595747, 0.3288730053191489, 0.3373503989361702, 0.3441655585106383, 0.34798869680851063, 0.34990026595744683, 0.351811835106383, 0.3542220744680851, 0.35546875, 0.35787898936170215, 0.35904255319148937, 0.3587932180851064]\n"
     ]
    },
    {
     "name": "stderr",
     "output_type": "stream",
     "text": [
      "                                                                                                    \r"
     ]
    },
    {
     "name": "stdout",
     "output_type": "stream",
     "text": [
      "Epoch 17 Loss 3.620607164065043\n",
      "Epoch 17 Accuracy 0.4153125\n",
      "Epoch 17 Validation Loss 4.1791160055931575\n",
      "Epoch 17 Validation Accuracy 0.36394614361702127\n",
      "=====================================\n",
      "[0.2521609042553192, 0.29837101063829785, 0.31898271276595747, 0.3288730053191489, 0.3373503989361702, 0.3441655585106383, 0.34798869680851063, 0.34990026595744683, 0.351811835106383, 0.3542220744680851, 0.35546875, 0.35787898936170215, 0.35904255319148937, 0.3587932180851064, 0.35987367021276595]\n"
     ]
    },
    {
     "name": "stderr",
     "output_type": "stream",
     "text": [
      "                                                                                                    \r"
     ]
    },
    {
     "name": "stdout",
     "output_type": "stream",
     "text": [
      "Epoch 18 Loss 3.6886573177973427\n",
      "Epoch 18 Accuracy 0.4173541666666667\n",
      "Epoch 18 Validation Loss 4.270338085103543\n",
      "Epoch 18 Validation Accuracy 0.3651097074468085\n",
      "=====================================\n",
      "[0.2521609042553192, 0.29837101063829785, 0.31898271276595747, 0.3288730053191489, 0.3373503989361702, 0.3441655585106383, 0.34798869680851063, 0.34990026595744683, 0.351811835106383, 0.3542220744680851, 0.35546875, 0.35787898936170215, 0.35904255319148937, 0.3587932180851064, 0.35987367021276595, 0.36070478723404253]\n"
     ]
    },
    {
     "name": "stderr",
     "output_type": "stream",
     "text": [
      "                                                                                                    \r"
     ]
    },
    {
     "name": "stdout",
     "output_type": "stream",
     "text": [
      "Epoch 19 Loss 3.7564775314331054\n",
      "Epoch 19 Accuracy 0.4196666666666667\n",
      "Epoch 19 Validation Loss 4.361016317884973\n",
      "Epoch 19 Validation Accuracy 0.3657746010638298\n",
      "=====================================\n",
      "[0.2521609042553192, 0.29837101063829785, 0.31898271276595747, 0.3288730053191489, 0.3373503989361702, 0.3441655585106383, 0.34798869680851063, 0.34990026595744683, 0.351811835106383, 0.3542220744680851, 0.35546875, 0.35787898936170215, 0.35904255319148937, 0.3587932180851064, 0.35987367021276595, 0.36070478723404253, 0.3621176861702128]\n"
     ]
    },
    {
     "name": "stderr",
     "output_type": "stream",
     "text": [
      "                                                                                                    \r"
     ]
    },
    {
     "name": "stdout",
     "output_type": "stream",
     "text": [
      "Epoch 20 Loss 3.8240102643966676\n",
      "Epoch 20 Accuracy 0.42104166666666665\n",
      "Epoch 20 Validation Loss 4.451144231126664\n",
      "Epoch 20 Validation Accuracy 0.3667719414893617\n",
      "=====================================\n",
      "[0.2521609042553192, 0.29837101063829785, 0.31898271276595747, 0.3288730053191489, 0.3373503989361702, 0.3441655585106383, 0.34798869680851063, 0.34990026595744683, 0.351811835106383, 0.3542220744680851, 0.35546875, 0.35787898936170215, 0.35904255319148937, 0.3587932180851064, 0.35987367021276595, 0.36070478723404253, 0.3621176861702128, 0.36394614361702127]\n"
     ]
    },
    {
     "name": "stderr",
     "output_type": "stream",
     "text": [
      "                                                                                                    \r"
     ]
    },
    {
     "name": "stdout",
     "output_type": "stream",
     "text": [
      "Epoch 21 Loss 3.891175905863444\n",
      "Epoch 21 Accuracy 0.422375\n",
      "Epoch 21 Validation Loss 4.540698103448178\n",
      "Epoch 21 Validation Accuracy 0.3681848404255319\n",
      "=====================================\n",
      "[0.2521609042553192, 0.29837101063829785, 0.31898271276595747, 0.3288730053191489, 0.3373503989361702, 0.3441655585106383, 0.34798869680851063, 0.34990026595744683, 0.351811835106383, 0.3542220744680851, 0.35546875, 0.35787898936170215, 0.35904255319148937, 0.3587932180851064, 0.35987367021276595, 0.36070478723404253, 0.3621176861702128, 0.36394614361702127, 0.3651097074468085]\n"
     ]
    },
    {
     "name": "stderr",
     "output_type": "stream",
     "text": [
      "                                                                                                    \r"
     ]
    },
    {
     "name": "stdout",
     "output_type": "stream",
     "text": [
      "Epoch 22 Loss 3.9579352032343547\n",
      "Epoch 22 Accuracy 0.4239583333333333\n",
      "Epoch 22 Validation Loss 4.629745080115947\n",
      "Epoch 22 Validation Accuracy 0.3690159574468085\n",
      "=====================================\n",
      "[0.2521609042553192, 0.29837101063829785, 0.31898271276595747, 0.3288730053191489, 0.3373503989361702, 0.3441655585106383, 0.34798869680851063, 0.34990026595744683, 0.351811835106383, 0.3542220744680851, 0.35546875, 0.35787898936170215, 0.35904255319148937, 0.3587932180851064, 0.35987367021276595, 0.36070478723404253, 0.3621176861702128, 0.36394614361702127, 0.3651097074468085, 0.3657746010638298]\n"
     ]
    },
    {
     "name": "stderr",
     "output_type": "stream",
     "text": [
      "                                                                                                    \r"
     ]
    },
    {
     "name": "stdout",
     "output_type": "stream",
     "text": [
      "Epoch 23 Loss 4.024290500640869\n",
      "Epoch 23 Accuracy 0.42502083333333335\n",
      "Epoch 23 Validation Loss 4.718162043297545\n",
      "Epoch 23 Validation Accuracy 0.3696808510638298\n",
      "=====================================\n",
      "[0.2521609042553192, 0.29837101063829785, 0.31898271276595747, 0.3288730053191489, 0.3373503989361702, 0.3441655585106383, 0.34798869680851063, 0.34990026595744683, 0.351811835106383, 0.3542220744680851, 0.35546875, 0.35787898936170215, 0.35904255319148937, 0.3587932180851064, 0.35987367021276595, 0.36070478723404253, 0.3621176861702128, 0.36394614361702127, 0.3651097074468085, 0.3657746010638298, 0.3667719414893617]\n"
     ]
    },
    {
     "name": "stderr",
     "output_type": "stream",
     "text": [
      "                                                                                                    \r"
     ]
    },
    {
     "name": "stdout",
     "output_type": "stream",
     "text": [
      "Epoch 24 Loss 4.090153156280517\n",
      "Epoch 24 Accuracy 0.4262916666666667\n",
      "Epoch 24 Validation Loss 4.805888652801514\n",
      "Epoch 24 Validation Accuracy 0.37017952127659576\n",
      "=====================================\n",
      "[0.2521609042553192, 0.29837101063829785, 0.31898271276595747, 0.3288730053191489, 0.3373503989361702, 0.3441655585106383, 0.34798869680851063, 0.34990026595744683, 0.351811835106383, 0.3542220744680851, 0.35546875, 0.35787898936170215, 0.35904255319148937, 0.3587932180851064, 0.35987367021276595, 0.36070478723404253, 0.3621176861702128, 0.36394614361702127, 0.3651097074468085, 0.3657746010638298, 0.3667719414893617, 0.3681848404255319]\n"
     ]
    },
    {
     "name": "stderr",
     "output_type": "stream",
     "text": [
      "                                                                                                    \r"
     ]
    },
    {
     "name": "stdout",
     "output_type": "stream",
     "text": [
      "Epoch 25 Loss 4.1554702968597415\n",
      "Epoch 25 Accuracy 0.4280833333333333\n",
      "Epoch 25 Validation Loss 4.89290711347093\n",
      "Epoch 25 Validation Accuracy 0.3699301861702128\n",
      "=====================================\n",
      "[0.2521609042553192, 0.29837101063829785, 0.31898271276595747, 0.3288730053191489, 0.3373503989361702, 0.3441655585106383, 0.34798869680851063, 0.34990026595744683, 0.351811835106383, 0.3542220744680851, 0.35546875, 0.35787898936170215, 0.35904255319148937, 0.3587932180851064, 0.35987367021276595, 0.36070478723404253, 0.3621176861702128, 0.36394614361702127, 0.3651097074468085, 0.3657746010638298, 0.3667719414893617, 0.3681848404255319, 0.3690159574468085]\n"
     ]
    },
    {
     "name": "stderr",
     "output_type": "stream",
     "text": [
      "                                                                                                    \r"
     ]
    },
    {
     "name": "stdout",
     "output_type": "stream",
     "text": [
      "Epoch 26 Loss 4.220167022069295\n",
      "Epoch 26 Accuracy 0.4290625\n",
      "Epoch 26 Validation Loss 4.979050684482493\n",
      "Epoch 26 Validation Accuracy 0.3702626329787234\n",
      "=====================================\n",
      "[0.2521609042553192, 0.29837101063829785, 0.31898271276595747, 0.3288730053191489, 0.3373503989361702, 0.3441655585106383, 0.34798869680851063, 0.34990026595744683, 0.351811835106383, 0.3542220744680851, 0.35546875, 0.35787898936170215, 0.35904255319148937, 0.3587932180851064, 0.35987367021276595, 0.36070478723404253, 0.3621176861702128, 0.36394614361702127, 0.3651097074468085, 0.3657746010638298, 0.3667719414893617, 0.3681848404255319, 0.3690159574468085, 0.3696808510638298]\n"
     ]
    },
    {
     "name": "stderr",
     "output_type": "stream",
     "text": [
      "                                                                                                    \r"
     ]
    },
    {
     "name": "stdout",
     "output_type": "stream",
     "text": [
      "Epoch 27 Loss 4.284220138231913\n",
      "Epoch 27 Accuracy 0.43002083333333335\n",
      "Epoch 27 Validation Loss 5.0643555483919505\n",
      "Epoch 27 Validation Accuracy 0.3700964095744681\n",
      "=====================================\n",
      "[0.2521609042553192, 0.29837101063829785, 0.31898271276595747, 0.3288730053191489, 0.3373503989361702, 0.3441655585106383, 0.34798869680851063, 0.34990026595744683, 0.351811835106383, 0.3542220744680851, 0.35546875, 0.35787898936170215, 0.35904255319148937, 0.3587932180851064, 0.35987367021276595, 0.36070478723404253, 0.3621176861702128, 0.36394614361702127, 0.3651097074468085, 0.3657746010638298, 0.3667719414893617, 0.3681848404255319, 0.3690159574468085, 0.3696808510638298, 0.37017952127659576]\n"
     ]
    },
    {
     "name": "stderr",
     "output_type": "stream",
     "text": [
      "                                                                                                    \r"
     ]
    },
    {
     "name": "stdout",
     "output_type": "stream",
     "text": [
      "Epoch 28 Loss 4.347663715998332\n",
      "Epoch 28 Accuracy 0.4310833333333333\n",
      "Epoch 28 Validation Loss 5.148844764587727\n",
      "Epoch 28 Validation Accuracy 0.37076130319148937\n",
      "=====================================\n",
      "[0.2521609042553192, 0.29837101063829785, 0.31898271276595747, 0.3288730053191489, 0.3373503989361702, 0.3441655585106383, 0.34798869680851063, 0.34990026595744683, 0.351811835106383, 0.3542220744680851, 0.35546875, 0.35787898936170215, 0.35904255319148937, 0.3587932180851064, 0.35987367021276595, 0.36070478723404253, 0.3621176861702128, 0.36394614361702127, 0.3651097074468085, 0.3657746010638298, 0.3667719414893617, 0.3681848404255319, 0.3690159574468085, 0.3696808510638298, 0.37017952127659576, 0.3699301861702128]\n"
     ]
    },
    {
     "name": "stderr",
     "output_type": "stream",
     "text": [
      "                                                                                                    \r"
     ]
    },
    {
     "name": "stdout",
     "output_type": "stream",
     "text": [
      "Epoch 29 Loss 4.410500195503235\n",
      "Epoch 29 Accuracy 0.4326041666666667\n",
      "Epoch 29 Validation Loss 5.232475046147692\n",
      "Epoch 29 Validation Accuracy 0.37059507978723405\n",
      "=====================================\n",
      "[0.2521609042553192, 0.29837101063829785, 0.31898271276595747, 0.3288730053191489, 0.3373503989361702, 0.3441655585106383, 0.34798869680851063, 0.34990026595744683, 0.351811835106383, 0.3542220744680851, 0.35546875, 0.35787898936170215, 0.35904255319148937, 0.3587932180851064, 0.35987367021276595, 0.36070478723404253, 0.3621176861702128, 0.36394614361702127, 0.3651097074468085, 0.3657746010638298, 0.3667719414893617, 0.3681848404255319, 0.3690159574468085, 0.3696808510638298, 0.37017952127659576, 0.3699301861702128, 0.3702626329787234]\n",
      "Training classifier for exit 2\n"
     ]
    },
    {
     "name": "stderr",
     "output_type": "stream",
     "text": [
      "                                                                                                    \r"
     ]
    },
    {
     "name": "stdout",
     "output_type": "stream",
     "text": [
      "Epoch 0 Loss 4.183800046284993\n",
      "Epoch 0 Accuracy 0.22033333333333333\n",
      "Epoch 0 Validation Loss 3.775091885252202\n",
      "Epoch 0 Validation Accuracy 0.35322473404255317\n",
      "=====================================\n"
     ]
    },
    {
     "name": "stderr",
     "output_type": "stream",
     "text": [
      "                                                                                                    \r"
     ]
    },
    {
     "name": "stdout",
     "output_type": "stream",
     "text": [
      "Epoch 1 Loss 3.432848905881246\n",
      "Epoch 1 Accuracy 0.39810416666666665\n",
      "Epoch 1 Validation Loss 3.143058047649708\n",
      "Epoch 1 Validation Accuracy 0.4105718085106383\n",
      "=====================================\n"
     ]
    },
    {
     "name": "stderr",
     "output_type": "stream",
     "text": [
      "                                                                                                    \r"
     ]
    },
    {
     "name": "stdout",
     "output_type": "stream",
     "text": [
      "Epoch 2 Loss 2.887612800280253\n",
      "Epoch 2 Accuracy 0.4504166666666667\n",
      "Epoch 2 Validation Loss 2.7102530649367798\n",
      "Epoch 2 Validation Accuracy 0.44581117021276595\n",
      "=====================================\n"
     ]
    },
    {
     "name": "stderr",
     "output_type": "stream",
     "text": [
      "                                                                                                    \r"
     ]
    },
    {
     "name": "stdout",
     "output_type": "stream",
     "text": [
      "Epoch 3 Loss 2.520935417334239\n",
      "Epoch 3 Accuracy 0.4788541666666667\n",
      "Epoch 3 Validation Loss 2.4307679711504186\n",
      "Epoch 3 Validation Accuracy 0.46908244680851063\n",
      "=====================================\n"
     ]
    },
    {
     "name": "stderr",
     "output_type": "stream",
     "text": [
      "                                                                                                    \r"
     ]
    },
    {
     "name": "stdout",
     "output_type": "stream",
     "text": [
      "Epoch 4 Loss 2.282857122898102\n",
      "Epoch 4 Accuracy 0.4966041666666667\n",
      "Epoch 4 Validation Loss 2.254630837668764\n",
      "Epoch 4 Validation Accuracy 0.4810505319148936\n",
      "=====================================\n",
      "[0.35322473404255317, 0.4105718085106383]\n"
     ]
    },
    {
     "name": "stderr",
     "output_type": "stream",
     "text": [
      "                                                                                                    \r"
     ]
    },
    {
     "name": "stdout",
     "output_type": "stream",
     "text": [
      "Epoch 5 Loss 2.1303903732299805\n",
      "Epoch 5 Accuracy 0.5065208333333333\n",
      "Epoch 5 Validation Loss 2.1462793362901564\n",
      "Epoch 5 Validation Accuracy 0.4845412234042553\n",
      "=====================================\n",
      "[0.35322473404255317, 0.4105718085106383, 0.44581117021276595]\n"
     ]
    },
    {
     "name": "stderr",
     "output_type": "stream",
     "text": [
      "                                                                                                    \r"
     ]
    },
    {
     "name": "stdout",
     "output_type": "stream",
     "text": [
      "Epoch 6 Loss 2.0342096649805703\n",
      "Epoch 6 Accuracy 0.5136666666666667\n",
      "Epoch 6 Validation Loss 2.0826561964572745\n",
      "Epoch 6 Validation Accuracy 0.488031914893617\n",
      "=====================================\n",
      "[0.35322473404255317, 0.4105718085106383, 0.44581117021276595, 0.46908244680851063]\n"
     ]
    },
    {
     "name": "stderr",
     "output_type": "stream",
     "text": [
      "                                                                                                    \r"
     ]
    },
    {
     "name": "stdout",
     "output_type": "stream",
     "text": [
      "Epoch 7 Loss 1.9754033694267272\n",
      "Epoch 7 Accuracy 0.51775\n",
      "Epoch 7 Validation Loss 2.048983779359371\n",
      "Epoch 7 Validation Accuracy 0.49127327127659576\n",
      "=====================================\n",
      "[0.35322473404255317, 0.4105718085106383, 0.44581117021276595, 0.46908244680851063, 0.4810505319148936]\n"
     ]
    },
    {
     "name": "stderr",
     "output_type": "stream",
     "text": [
      "                                                                                                    \r"
     ]
    },
    {
     "name": "stdout",
     "output_type": "stream",
     "text": [
      "Epoch 8 Loss 1.9418210363388062\n",
      "Epoch 8 Accuracy 0.5223125\n",
      "Epoch 8 Validation Loss 2.0356688670655516\n",
      "Epoch 8 Validation Accuracy 0.4923537234042553\n",
      "=====================================\n",
      "[0.35322473404255317, 0.4105718085106383, 0.44581117021276595, 0.46908244680851063, 0.4810505319148936, 0.4845412234042553]\n"
     ]
    },
    {
     "name": "stderr",
     "output_type": "stream",
     "text": [
      "                                                                                                    \r"
     ]
    },
    {
     "name": "stdout",
     "output_type": "stream",
     "text": [
      "Epoch 9 Loss 1.92547376871109\n",
      "Epoch 9 Accuracy 0.5258541666666666\n",
      "Epoch 9 Validation Loss 2.036209613718885\n",
      "Epoch 9 Validation Accuracy 0.49384973404255317\n",
      "=====================================\n",
      "[0.35322473404255317, 0.4105718085106383, 0.44581117021276595, 0.46908244680851063, 0.4810505319148936, 0.4845412234042553, 0.488031914893617]\n"
     ]
    },
    {
     "name": "stderr",
     "output_type": "stream",
     "text": [
      "                                                                                                    \r"
     ]
    },
    {
     "name": "stdout",
     "output_type": "stream",
     "text": [
      "Epoch 10 Loss 1.9209490547180175\n",
      "Epoch 10 Accuracy 0.5283333333333333\n",
      "Epoch 10 Validation Loss 2.0462287753186326\n",
      "Epoch 10 Validation Accuracy 0.49601063829787234\n",
      "=====================================\n",
      "[0.35322473404255317, 0.4105718085106383, 0.44581117021276595, 0.46908244680851063, 0.4810505319148936, 0.4845412234042553, 0.488031914893617, 0.49127327127659576]\n"
     ]
    },
    {
     "name": "stderr",
     "output_type": "stream",
     "text": [
      "                                                                                                    \r"
     ]
    },
    {
     "name": "stdout",
     "output_type": "stream",
     "text": [
      "Epoch 11 Loss 1.924529358545939\n",
      "Epoch 11 Accuracy 0.5313958333333333\n",
      "Epoch 11 Validation Loss 2.062734196160702\n",
      "Epoch 11 Validation Accuracy 0.4968417553191489\n",
      "=====================================\n",
      "[0.35322473404255317, 0.4105718085106383, 0.44581117021276595, 0.46908244680851063, 0.4810505319148936, 0.4845412234042553, 0.488031914893617, 0.49127327127659576, 0.4923537234042553]\n"
     ]
    },
    {
     "name": "stderr",
     "output_type": "stream",
     "text": [
      "                                                                                                    \r"
     ]
    },
    {
     "name": "stdout",
     "output_type": "stream",
     "text": [
      "Epoch 12 Loss 1.9336811742782594\n",
      "Epoch 12 Accuracy 0.5343333333333333\n",
      "Epoch 12 Validation Loss 2.08369354111083\n",
      "Epoch 12 Validation Accuracy 0.4990026595744681\n",
      "=====================================\n",
      "[0.35322473404255317, 0.4105718085106383, 0.44581117021276595, 0.46908244680851063, 0.4810505319148936, 0.4845412234042553, 0.488031914893617, 0.49127327127659576, 0.4923537234042553, 0.49384973404255317]\n"
     ]
    },
    {
     "name": "stderr",
     "output_type": "stream",
     "text": [
      "                                                                                                    \r"
     ]
    },
    {
     "name": "stdout",
     "output_type": "stream",
     "text": [
      "Epoch 13 Loss 1.946632003625234\n",
      "Epoch 13 Accuracy 0.536625\n",
      "Epoch 13 Validation Loss 2.107666458221192\n",
      "Epoch 13 Validation Accuracy 0.5009142287234043\n",
      "=====================================\n",
      "[0.35322473404255317, 0.4105718085106383, 0.44581117021276595, 0.46908244680851063, 0.4810505319148936, 0.4845412234042553, 0.488031914893617, 0.49127327127659576, 0.4923537234042553, 0.49384973404255317, 0.49601063829787234]\n"
     ]
    },
    {
     "name": "stderr",
     "output_type": "stream",
     "text": [
      "                                                                                                    \r"
     ]
    },
    {
     "name": "stdout",
     "output_type": "stream",
     "text": [
      "Epoch 14 Loss 1.9621878023147583\n",
      "Epoch 14 Accuracy 0.5393125\n",
      "Epoch 14 Validation Loss 2.133657898040528\n",
      "Epoch 14 Validation Accuracy 0.5030751329787234\n",
      "=====================================\n",
      "[0.35322473404255317, 0.4105718085106383, 0.44581117021276595, 0.46908244680851063, 0.4810505319148936, 0.4845412234042553, 0.488031914893617, 0.49127327127659576, 0.4923537234042553, 0.49384973404255317, 0.49601063829787234, 0.4968417553191489]\n"
     ]
    },
    {
     "name": "stderr",
     "output_type": "stream",
     "text": [
      "                                                                                                    \r"
     ]
    },
    {
     "name": "stdout",
     "output_type": "stream",
     "text": [
      "Epoch 15 Loss 1.9795828755696614\n",
      "Epoch 15 Accuracy 0.5410416666666666\n",
      "Epoch 15 Validation Loss 2.16109876429781\n",
      "Epoch 15 Validation Accuracy 0.5048204787234043\n",
      "=====================================\n",
      "[0.35322473404255317, 0.4105718085106383, 0.44581117021276595, 0.46908244680851063, 0.4810505319148936, 0.4845412234042553, 0.488031914893617, 0.49127327127659576, 0.4923537234042553, 0.49384973404255317, 0.49601063829787234, 0.4968417553191489, 0.4990026595744681]\n"
     ]
    },
    {
     "name": "stderr",
     "output_type": "stream",
     "text": [
      "                                                                                                    \r"
     ]
    },
    {
     "name": "stdout",
     "output_type": "stream",
     "text": [
      "Epoch 16 Loss 1.9983079876899719\n",
      "Epoch 16 Accuracy 0.5429791666666667\n",
      "Epoch 16 Validation Loss 2.189565215973144\n",
      "Epoch 16 Validation Accuracy 0.5061502659574468\n",
      "=====================================\n",
      "[0.35322473404255317, 0.4105718085106383, 0.44581117021276595, 0.46908244680851063, 0.4810505319148936, 0.4845412234042553, 0.488031914893617, 0.49127327127659576, 0.4923537234042553, 0.49384973404255317, 0.49601063829787234, 0.4968417553191489, 0.4990026595744681, 0.5009142287234043]\n"
     ]
    },
    {
     "name": "stderr",
     "output_type": "stream",
     "text": [
      "                                                                                                    \r"
     ]
    },
    {
     "name": "stdout",
     "output_type": "stream",
     "text": [
      "Epoch 17 Loss 2.0180400142669677\n",
      "Epoch 17 Accuracy 0.5448125\n",
      "Epoch 17 Validation Loss 2.218810836051373\n",
      "Epoch 17 Validation Accuracy 0.5076462765957447\n",
      "=====================================\n",
      "[0.35322473404255317, 0.4105718085106383, 0.44581117021276595, 0.46908244680851063, 0.4810505319148936, 0.4845412234042553, 0.488031914893617, 0.49127327127659576, 0.4923537234042553, 0.49384973404255317, 0.49601063829787234, 0.4968417553191489, 0.4990026595744681, 0.5009142287234043, 0.5030751329787234]\n"
     ]
    },
    {
     "name": "stderr",
     "output_type": "stream",
     "text": [
      "                                                                                                    \r"
     ]
    },
    {
     "name": "stdout",
     "output_type": "stream",
     "text": [
      "Epoch 18 Loss 2.03854541794459\n",
      "Epoch 18 Accuracy 0.5465625\n",
      "Epoch 18 Validation Loss 2.2485910210203617\n",
      "Epoch 18 Validation Accuracy 0.5090591755319149\n",
      "=====================================\n",
      "[0.35322473404255317, 0.4105718085106383, 0.44581117021276595, 0.46908244680851063, 0.4810505319148936, 0.4845412234042553, 0.488031914893617, 0.49127327127659576, 0.4923537234042553, 0.49384973404255317, 0.49601063829787234, 0.4968417553191489, 0.4990026595744681, 0.5009142287234043, 0.5030751329787234, 0.5048204787234043]\n"
     ]
    },
    {
     "name": "stderr",
     "output_type": "stream",
     "text": [
      "                                                                                                    \r"
     ]
    },
    {
     "name": "stdout",
     "output_type": "stream",
     "text": [
      "Epoch 19 Loss 2.0596601150830587\n",
      "Epoch 19 Accuracy 0.548375\n",
      "Epoch 19 Validation Loss 2.2788396896199976\n",
      "Epoch 19 Validation Accuracy 0.5102227393617021\n",
      "=====================================\n",
      "[0.35322473404255317, 0.4105718085106383, 0.44581117021276595, 0.46908244680851063, 0.4810505319148936, 0.4845412234042553, 0.488031914893617, 0.49127327127659576, 0.4923537234042553, 0.49384973404255317, 0.49601063829787234, 0.4968417553191489, 0.4990026595744681, 0.5009142287234043, 0.5030751329787234, 0.5048204787234043, 0.5061502659574468]\n"
     ]
    },
    {
     "name": "stderr",
     "output_type": "stream",
     "text": [
      "                                                                                                    \r"
     ]
    },
    {
     "name": "stdout",
     "output_type": "stream",
     "text": [
      "Epoch 20 Loss 2.0812359908421834\n",
      "Epoch 20 Accuracy 0.550125\n",
      "Epoch 20 Validation Loss 2.3093326510267054\n",
      "Epoch 20 Validation Accuracy 0.51171875\n",
      "=====================================\n",
      "[0.35322473404255317, 0.4105718085106383, 0.44581117021276595, 0.46908244680851063, 0.4810505319148936, 0.4845412234042553, 0.488031914893617, 0.49127327127659576, 0.4923537234042553, 0.49384973404255317, 0.49601063829787234, 0.4968417553191489, 0.4990026595744681, 0.5009142287234043, 0.5030751329787234, 0.5048204787234043, 0.5061502659574468, 0.5076462765957447]\n"
     ]
    },
    {
     "name": "stderr",
     "output_type": "stream",
     "text": [
      "                                                                                                    \r"
     ]
    },
    {
     "name": "stdout",
     "output_type": "stream",
     "text": [
      "Epoch 21 Loss 2.103168710231781\n",
      "Epoch 21 Accuracy 0.5517708333333333\n",
      "Epoch 21 Validation Loss 2.339996746245851\n",
      "Epoch 21 Validation Accuracy 0.5128823138297872\n",
      "=====================================\n",
      "[0.35322473404255317, 0.4105718085106383, 0.44581117021276595, 0.46908244680851063, 0.4810505319148936, 0.4845412234042553, 0.488031914893617, 0.49127327127659576, 0.4923537234042553, 0.49384973404255317, 0.49601063829787234, 0.4968417553191489, 0.4990026595744681, 0.5009142287234043, 0.5030751329787234, 0.5048204787234043, 0.5061502659574468, 0.5076462765957447, 0.5090591755319149]\n"
     ]
    },
    {
     "name": "stderr",
     "output_type": "stream",
     "text": [
      "                                                                                                    \r"
     ]
    },
    {
     "name": "stdout",
     "output_type": "stream",
     "text": [
      "Epoch 22 Loss 2.125344666639964\n",
      "Epoch 22 Accuracy 0.5529166666666666\n",
      "Epoch 22 Validation Loss 2.370752646567974\n",
      "Epoch 22 Validation Accuracy 0.5143783244680851\n",
      "=====================================\n",
      "[0.35322473404255317, 0.4105718085106383, 0.44581117021276595, 0.46908244680851063, 0.4810505319148936, 0.4845412234042553, 0.488031914893617, 0.49127327127659576, 0.4923537234042553, 0.49384973404255317, 0.49601063829787234, 0.4968417553191489, 0.4990026595744681, 0.5009142287234043, 0.5030751329787234, 0.5048204787234043, 0.5061502659574468, 0.5076462765957447, 0.5090591755319149, 0.5102227393617021]\n"
     ]
    },
    {
     "name": "stderr",
     "output_type": "stream",
     "text": [
      "                                                                                                    \r"
     ]
    },
    {
     "name": "stdout",
     "output_type": "stream",
     "text": [
      "Epoch 23 Loss 2.1476688168843587\n",
      "Epoch 23 Accuracy 0.5542291666666667\n",
      "Epoch 23 Validation Loss 2.4014620616080915\n",
      "Epoch 23 Validation Accuracy 0.5160405585106383\n",
      "=====================================\n",
      "[0.35322473404255317, 0.4105718085106383, 0.44581117021276595, 0.46908244680851063, 0.4810505319148936, 0.4845412234042553, 0.488031914893617, 0.49127327127659576, 0.4923537234042553, 0.49384973404255317, 0.49601063829787234, 0.4968417553191489, 0.4990026595744681, 0.5009142287234043, 0.5030751329787234, 0.5048204787234043, 0.5061502659574468, 0.5076462765957447, 0.5090591755319149, 0.5102227393617021, 0.51171875]\n"
     ]
    },
    {
     "name": "stderr",
     "output_type": "stream",
     "text": [
      "                                                                                                    \r"
     ]
    },
    {
     "name": "stdout",
     "output_type": "stream",
     "text": [
      "Epoch 24 Loss 2.1700756564140318\n",
      "Epoch 24 Accuracy 0.555375\n",
      "Epoch 24 Validation Loss 2.4321073287344994\n",
      "Epoch 24 Validation Accuracy 0.516373005319149\n",
      "=====================================\n",
      "[0.35322473404255317, 0.4105718085106383, 0.44581117021276595, 0.46908244680851063, 0.4810505319148936, 0.4845412234042553, 0.488031914893617, 0.49127327127659576, 0.4923537234042553, 0.49384973404255317, 0.49601063829787234, 0.4968417553191489, 0.4990026595744681, 0.5009142287234043, 0.5030751329787234, 0.5048204787234043, 0.5061502659574468, 0.5076462765957447, 0.5090591755319149, 0.5102227393617021, 0.51171875, 0.5128823138297872]\n"
     ]
    },
    {
     "name": "stderr",
     "output_type": "stream",
     "text": [
      "                                                                                                    \r"
     ]
    },
    {
     "name": "stdout",
     "output_type": "stream",
     "text": [
      "Epoch 25 Loss 2.1925216665267944\n",
      "Epoch 25 Accuracy 0.5571041666666666\n",
      "Epoch 25 Validation Loss 2.462595542060568\n",
      "Epoch 25 Validation Accuracy 0.5178690159574468\n",
      "=====================================\n",
      "[0.35322473404255317, 0.4105718085106383, 0.44581117021276595, 0.46908244680851063, 0.4810505319148936, 0.4845412234042553, 0.488031914893617, 0.49127327127659576, 0.4923537234042553, 0.49384973404255317, 0.49601063829787234, 0.4968417553191489, 0.4990026595744681, 0.5009142287234043, 0.5030751329787234, 0.5048204787234043, 0.5061502659574468, 0.5076462765957447, 0.5090591755319149, 0.5102227393617021, 0.51171875, 0.5128823138297872, 0.5143783244680851]\n"
     ]
    },
    {
     "name": "stderr",
     "output_type": "stream",
     "text": [
      "                                                                                                    \r"
     ]
    },
    {
     "name": "stdout",
     "output_type": "stream",
     "text": [
      "Epoch 26 Loss 2.214912467002869\n",
      "Epoch 26 Accuracy 0.5585833333333333\n",
      "Epoch 26 Validation Loss 2.492882118580189\n",
      "Epoch 26 Validation Accuracy 0.5191156914893617\n",
      "=====================================\n",
      "[0.35322473404255317, 0.4105718085106383, 0.44581117021276595, 0.46908244680851063, 0.4810505319148936, 0.4845412234042553, 0.488031914893617, 0.49127327127659576, 0.4923537234042553, 0.49384973404255317, 0.49601063829787234, 0.4968417553191489, 0.4990026595744681, 0.5009142287234043, 0.5030751329787234, 0.5048204787234043, 0.5061502659574468, 0.5076462765957447, 0.5090591755319149, 0.5102227393617021, 0.51171875, 0.5128823138297872, 0.5143783244680851, 0.5160405585106383]\n"
     ]
    },
    {
     "name": "stderr",
     "output_type": "stream",
     "text": [
      "                                                                                                    \r"
     ]
    },
    {
     "name": "stdout",
     "output_type": "stream",
     "text": [
      "Epoch 27 Loss 2.237218859354655\n",
      "Epoch 27 Accuracy 0.560125\n",
      "Epoch 27 Validation Loss 2.5229802588199046\n",
      "Epoch 27 Validation Accuracy 0.519780585106383\n",
      "=====================================\n",
      "[0.35322473404255317, 0.4105718085106383, 0.44581117021276595, 0.46908244680851063, 0.4810505319148936, 0.4845412234042553, 0.488031914893617, 0.49127327127659576, 0.4923537234042553, 0.49384973404255317, 0.49601063829787234, 0.4968417553191489, 0.4990026595744681, 0.5009142287234043, 0.5030751329787234, 0.5048204787234043, 0.5061502659574468, 0.5076462765957447, 0.5090591755319149, 0.5102227393617021, 0.51171875, 0.5128823138297872, 0.5143783244680851, 0.5160405585106383, 0.516373005319149]\n"
     ]
    },
    {
     "name": "stderr",
     "output_type": "stream",
     "text": [
      "                                                                                                    \r"
     ]
    },
    {
     "name": "stdout",
     "output_type": "stream",
     "text": [
      "Epoch 28 Loss 2.259405109246572\n",
      "Epoch 28 Accuracy 0.5615625\n",
      "Epoch 28 Validation Loss 2.5527955255609878\n",
      "Epoch 28 Validation Accuracy 0.5207779255319149\n",
      "=====================================\n",
      "[0.35322473404255317, 0.4105718085106383, 0.44581117021276595, 0.46908244680851063, 0.4810505319148936, 0.4845412234042553, 0.488031914893617, 0.49127327127659576, 0.4923537234042553, 0.49384973404255317, 0.49601063829787234, 0.4968417553191489, 0.4990026595744681, 0.5009142287234043, 0.5030751329787234, 0.5048204787234043, 0.5061502659574468, 0.5076462765957447, 0.5090591755319149, 0.5102227393617021, 0.51171875, 0.5128823138297872, 0.5143783244680851, 0.5160405585106383, 0.516373005319149, 0.5178690159574468]\n"
     ]
    },
    {
     "name": "stderr",
     "output_type": "stream",
     "text": [
      "                                                                                                    \r"
     ]
    },
    {
     "name": "stdout",
     "output_type": "stream",
     "text": [
      "Epoch 29 Loss 2.2814216577212014\n",
      "Epoch 29 Accuracy 0.5629166666666666\n",
      "Epoch 29 Validation Loss 2.582301973662478\n",
      "Epoch 29 Validation Accuracy 0.5213597074468085\n",
      "=====================================\n",
      "[0.35322473404255317, 0.4105718085106383, 0.44581117021276595, 0.46908244680851063, 0.4810505319148936, 0.4845412234042553, 0.488031914893617, 0.49127327127659576, 0.4923537234042553, 0.49384973404255317, 0.49601063829787234, 0.4968417553191489, 0.4990026595744681, 0.5009142287234043, 0.5030751329787234, 0.5048204787234043, 0.5061502659574468, 0.5076462765957447, 0.5090591755319149, 0.5102227393617021, 0.51171875, 0.5128823138297872, 0.5143783244680851, 0.5160405585106383, 0.516373005319149, 0.5178690159574468, 0.5191156914893617]\n",
      "Training classifier for exit 3\n"
     ]
    },
    {
     "name": "stderr",
     "output_type": "stream",
     "text": [
      "                                                                                                    \r"
     ]
    },
    {
     "name": "stdout",
     "output_type": "stream",
     "text": [
      "Epoch 0 Loss 4.341194430033366\n",
      "Epoch 0 Accuracy 0.39308333333333334\n",
      "Epoch 0 Validation Loss 4.065451966955306\n",
      "Epoch 0 Validation Accuracy 0.577875664893617\n",
      "=====================================\n"
     ]
    },
    {
     "name": "stderr",
     "output_type": "stream",
     "text": [
      "                                                                                                    \r"
     ]
    },
    {
     "name": "stdout",
     "output_type": "stream",
     "text": [
      "Epoch 1 Loss 3.8266644115447996\n",
      "Epoch 1 Accuracy 0.5816666666666667\n",
      "Epoch 1 Validation Loss 3.570486369285178\n",
      "Epoch 1 Validation Accuracy 0.5979886968085106\n",
      "=====================================\n"
     ]
    },
    {
     "name": "stderr",
     "output_type": "stream",
     "text": [
      "                                                                                                    \r"
     ]
    },
    {
     "name": "stdout",
     "output_type": "stream",
     "text": [
      "Epoch 2 Loss 3.361147222518921\n",
      "Epoch 2 Accuracy 0.6040208333333333\n",
      "Epoch 2 Validation Loss 3.131704712167699\n",
      "Epoch 2 Validation Accuracy 0.6146941489361702\n",
      "=====================================\n"
     ]
    },
    {
     "name": "stderr",
     "output_type": "stream",
     "text": [
      "                                                                                                    \r"
     ]
    },
    {
     "name": "stdout",
     "output_type": "stream",
     "text": [
      "Epoch 3 Loss 2.9537643973032632\n",
      "Epoch 3 Accuracy 0.6221041666666667\n",
      "Epoch 3 Validation Loss 2.7570433705411057\n",
      "Epoch 3 Validation Accuracy 0.633560505319149\n",
      "=====================================\n"
     ]
    },
    {
     "name": "stderr",
     "output_type": "stream",
     "text": [
      "                                                                                                    \r"
     ]
    },
    {
     "name": "stdout",
     "output_type": "stream",
     "text": [
      "Epoch 4 Loss 2.6090477517445883\n",
      "Epoch 4 Accuracy 0.6404166666666666\n",
      "Epoch 4 Validation Loss 2.4459407912923936\n",
      "Epoch 4 Validation Accuracy 0.6502659574468085\n",
      "=====================================\n",
      "[0.577875664893617, 0.5979886968085106]\n"
     ]
    },
    {
     "name": "stderr",
     "output_type": "stream",
     "text": [
      "                                                                                                    \r"
     ]
    },
    {
     "name": "stdout",
     "output_type": "stream",
     "text": [
      "Epoch 5 Loss 2.323634582678477\n",
      "Epoch 5 Accuracy 0.6591875\n",
      "Epoch 5 Validation Loss 2.191097431360407\n",
      "Epoch 5 Validation Accuracy 0.6689660904255319\n",
      "=====================================\n",
      "[0.577875664893617, 0.5979886968085106, 0.6146941489361702]\n"
     ]
    },
    {
     "name": "stderr",
     "output_type": "stream",
     "text": [
      "                                                                                                    \r"
     ]
    },
    {
     "name": "stdout",
     "output_type": "stream",
     "text": [
      "Epoch 6 Loss 2.0896055245399476\n",
      "Epoch 6 Accuracy 0.675\n",
      "Epoch 6 Validation Loss 1.9833046603710094\n",
      "Epoch 6 Validation Accuracy 0.6827626329787234\n",
      "=====================================\n",
      "[0.577875664893617, 0.5979886968085106, 0.6146941489361702, 0.633560505319149]\n"
     ]
    },
    {
     "name": "stderr",
     "output_type": "stream",
     "text": [
      "                                                                                                    \r"
     ]
    },
    {
     "name": "stdout",
     "output_type": "stream",
     "text": [
      "Epoch 7 Loss 1.8983244846661886\n",
      "Epoch 7 Accuracy 0.6890416666666667\n",
      "Epoch 7 Validation Loss 1.8141682496730318\n",
      "Epoch 7 Validation Accuracy 0.6962267287234043\n",
      "=====================================\n",
      "[0.577875664893617, 0.5979886968085106, 0.6146941489361702, 0.633560505319149, 0.6502659574468085]\n"
     ]
    },
    {
     "name": "stderr",
     "output_type": "stream",
     "text": [
      "                                                                                                    \r"
     ]
    },
    {
     "name": "stdout",
     "output_type": "stream",
     "text": [
      "Epoch 8 Loss 1.7420980401039123\n",
      "Epoch 8 Accuracy 0.7\n",
      "Epoch 8 Validation Loss 1.6764843235624598\n",
      "Epoch 8 Validation Accuracy 0.7041223404255319\n",
      "=====================================\n",
      "[0.577875664893617, 0.5979886968085106, 0.6146941489361702, 0.633560505319149, 0.6502659574468085, 0.6689660904255319]\n"
     ]
    },
    {
     "name": "stderr",
     "output_type": "stream",
     "text": [
      "                                                                                                    \r"
     ]
    },
    {
     "name": "stdout",
     "output_type": "stream",
     "text": [
      "Epoch 9 Loss 1.6144615298906961\n",
      "Epoch 9 Accuracy 0.7079791666666667\n",
      "Epoch 9 Validation Loss 1.5643194520727117\n",
      "Epoch 9 Validation Accuracy 0.7094414893617021\n",
      "=====================================\n",
      "[0.577875664893617, 0.5979886968085106, 0.6146941489361702, 0.633560505319149, 0.6502659574468085, 0.6689660904255319, 0.6827626329787234]\n"
     ]
    },
    {
     "name": "stderr",
     "output_type": "stream",
     "text": [
      "                                                                                                    \r"
     ]
    },
    {
     "name": "stdout",
     "output_type": "stream",
     "text": [
      "Epoch 10 Loss 1.5100672224362692\n",
      "Epoch 10 Accuracy 0.71575\n",
      "Epoch 10 Validation Loss 1.4727648962685402\n",
      "Epoch 10 Validation Accuracy 0.7140126329787234\n",
      "=====================================\n",
      "[0.577875664893617, 0.5979886968085106, 0.6146941489361702, 0.633560505319149, 0.6502659574468085, 0.6689660904255319, 0.6827626329787234, 0.6962267287234043]\n"
     ]
    },
    {
     "name": "stderr",
     "output_type": "stream",
     "text": [
      "                                                                                                    \r"
     ]
    },
    {
     "name": "stdout",
     "output_type": "stream",
     "text": [
      "Epoch 11 Loss 1.4245446654955547\n",
      "Epoch 11 Accuracy 0.720625\n",
      "Epoch 11 Validation Loss 1.3978486879074827\n",
      "Epoch 11 Validation Accuracy 0.7185837765957447\n",
      "=====================================\n",
      "[0.577875664893617, 0.5979886968085106, 0.6146941489361702, 0.633560505319149, 0.6502659574468085, 0.6689660904255319, 0.6827626329787234, 0.6962267287234043, 0.7041223404255319]\n"
     ]
    },
    {
     "name": "stderr",
     "output_type": "stream",
     "text": [
      "                                                                                                    \r"
     ]
    },
    {
     "name": "stdout",
     "output_type": "stream",
     "text": [
      "Epoch 12 Loss 1.3542714219093324\n",
      "Epoch 12 Accuracy 0.7243958333333333\n",
      "Epoch 12 Validation Loss 1.336330903337357\n",
      "Epoch 12 Validation Accuracy 0.7216589095744681\n",
      "=====================================\n",
      "[0.577875664893617, 0.5979886968085106, 0.6146941489361702, 0.633560505319149, 0.6502659574468085, 0.6689660904255319, 0.6827626329787234, 0.6962267287234043, 0.7041223404255319, 0.7094414893617021]\n"
     ]
    },
    {
     "name": "stderr",
     "output_type": "stream",
     "text": [
      "                                                                                                    \r"
     ]
    },
    {
     "name": "stdout",
     "output_type": "stream",
     "text": [
      "Epoch 13 Loss 1.2963424523671467\n",
      "Epoch 13 Accuracy 0.72675\n",
      "Epoch 13 Validation Loss 1.2856351726866784\n",
      "Epoch 13 Validation Accuracy 0.7238198138297872\n",
      "=====================================\n",
      "[0.577875664893617, 0.5979886968085106, 0.6146941489361702, 0.633560505319149, 0.6502659574468085, 0.6689660904255319, 0.6827626329787234, 0.6962267287234043, 0.7041223404255319, 0.7094414893617021, 0.7140126329787234]\n"
     ]
    },
    {
     "name": "stderr",
     "output_type": "stream",
     "text": [
      "                                                                                                    \r"
     ]
    },
    {
     "name": "stdout",
     "output_type": "stream",
     "text": [
      "Epoch 14 Loss 1.2484157768885296\n",
      "Epoch 14 Accuracy 0.7282083333333333\n",
      "Epoch 14 Validation Loss 1.2437201583005013\n",
      "Epoch 14 Validation Accuracy 0.7250664893617021\n",
      "=====================================\n",
      "[0.577875664893617, 0.5979886968085106, 0.6146941489361702, 0.633560505319149, 0.6502659574468085, 0.6689660904255319, 0.6827626329787234, 0.6962267287234043, 0.7041223404255319, 0.7094414893617021, 0.7140126329787234, 0.7185837765957447]\n"
     ]
    },
    {
     "name": "stderr",
     "output_type": "stream",
     "text": [
      "                                                                                                    \r"
     ]
    },
    {
     "name": "stdout",
     "output_type": "stream",
     "text": [
      "Epoch 15 Loss 1.2086169353326162\n",
      "Epoch 15 Accuracy 0.7302083333333333\n",
      "Epoch 15 Validation Loss 1.208941621349213\n",
      "Epoch 15 Validation Accuracy 0.7259807180851063\n",
      "=====================================\n",
      "[0.577875664893617, 0.5979886968085106, 0.6146941489361702, 0.633560505319149, 0.6502659574468085, 0.6689660904255319, 0.6827626329787234, 0.6962267287234043, 0.7041223404255319, 0.7094414893617021, 0.7140126329787234, 0.7185837765957447, 0.7216589095744681]\n"
     ]
    },
    {
     "name": "stderr",
     "output_type": "stream",
     "text": [
      "                                                                                                    \r"
     ]
    },
    {
     "name": "stdout",
     "output_type": "stream",
     "text": [
      "Epoch 16 Loss 1.1754592049916586\n",
      "Epoch 16 Accuracy 0.7318958333333333\n",
      "Epoch 16 Validation Loss 1.18001079020348\n",
      "Epoch 16 Validation Accuracy 0.726811835106383\n",
      "=====================================\n",
      "[0.577875664893617, 0.5979886968085106, 0.6146941489361702, 0.633560505319149, 0.6502659574468085, 0.6689660904255319, 0.6827626329787234, 0.6962267287234043, 0.7041223404255319, 0.7094414893617021, 0.7140126329787234, 0.7185837765957447, 0.7216589095744681, 0.7238198138297872]\n"
     ]
    },
    {
     "name": "stderr",
     "output_type": "stream",
     "text": [
      "                                                                                                    \r"
     ]
    },
    {
     "name": "stdout",
     "output_type": "stream",
     "text": [
      "Epoch 17 Loss 1.14775288661321\n",
      "Epoch 17 Accuracy 0.7325\n",
      "Epoch 17 Validation Loss 1.1559052032993196\n",
      "Epoch 17 Validation Accuracy 0.7274767287234043\n",
      "=====================================\n",
      "[0.577875664893617, 0.5979886968085106, 0.6146941489361702, 0.633560505319149, 0.6502659574468085, 0.6689660904255319, 0.6827626329787234, 0.6962267287234043, 0.7041223404255319, 0.7094414893617021, 0.7140126329787234, 0.7185837765957447, 0.7216589095744681, 0.7238198138297872, 0.7250664893617021]\n"
     ]
    },
    {
     "name": "stderr",
     "output_type": "stream",
     "text": [
      "                                                                                                    \r"
     ]
    },
    {
     "name": "stdout",
     "output_type": "stream",
     "text": [
      "Epoch 18 Loss 1.1245555953979491\n",
      "Epoch 18 Accuracy 0.7334375\n",
      "Epoch 18 Validation Loss 1.1358106250458575\n",
      "Epoch 18 Validation Accuracy 0.7288065159574468\n",
      "=====================================\n",
      "[0.577875664893617, 0.5979886968085106, 0.6146941489361702, 0.633560505319149, 0.6502659574468085, 0.6689660904255319, 0.6827626329787234, 0.6962267287234043, 0.7041223404255319, 0.7094414893617021, 0.7140126329787234, 0.7185837765957447, 0.7216589095744681, 0.7238198138297872, 0.7250664893617021, 0.7259807180851063]\n"
     ]
    },
    {
     "name": "stderr",
     "output_type": "stream",
     "text": [
      "                                                                                                    \r"
     ]
    },
    {
     "name": "stdout",
     "output_type": "stream",
     "text": [
      "Epoch 19 Loss 1.105119707584381\n",
      "Epoch 19 Accuracy 0.7347916666666666\n",
      "Epoch 19 Validation Loss 1.1190757332964147\n",
      "Epoch 19 Validation Accuracy 0.7300531914893617\n",
      "=====================================\n",
      "[0.577875664893617, 0.5979886968085106, 0.6146941489361702, 0.633560505319149, 0.6502659574468085, 0.6689660904255319, 0.6827626329787234, 0.6962267287234043, 0.7041223404255319, 0.7094414893617021, 0.7140126329787234, 0.7185837765957447, 0.7216589095744681, 0.7238198138297872, 0.7250664893617021, 0.7259807180851063, 0.726811835106383]\n"
     ]
    },
    {
     "name": "stderr",
     "output_type": "stream",
     "text": [
      "                                                                                                    \r"
     ]
    },
    {
     "name": "stdout",
     "output_type": "stream",
     "text": [
      "Epoch 20 Loss 1.0888324081103007\n",
      "Epoch 20 Accuracy 0.7354166666666667\n",
      "Epoch 20 Validation Loss 1.1051604497305891\n",
      "Epoch 20 Validation Accuracy 0.7303025265957447\n",
      "=====================================\n",
      "[0.577875664893617, 0.5979886968085106, 0.6146941489361702, 0.633560505319149, 0.6502659574468085, 0.6689660904255319, 0.6827626329787234, 0.6962267287234043, 0.7041223404255319, 0.7094414893617021, 0.7140126329787234, 0.7185837765957447, 0.7216589095744681, 0.7238198138297872, 0.7250664893617021, 0.7259807180851063, 0.726811835106383, 0.7274767287234043]\n"
     ]
    },
    {
     "name": "stderr",
     "output_type": "stream",
     "text": [
      "                                                                                                    \r"
     ]
    },
    {
     "name": "stdout",
     "output_type": "stream",
     "text": [
      "Epoch 21 Loss 1.0751883374055227\n",
      "Epoch 21 Accuracy 0.735875\n",
      "Epoch 21 Validation Loss 1.0936335591559714\n",
      "Epoch 21 Validation Accuracy 0.7305518617021277\n",
      "=====================================\n",
      "[0.577875664893617, 0.5979886968085106, 0.6146941489361702, 0.633560505319149, 0.6502659574468085, 0.6689660904255319, 0.6827626329787234, 0.6962267287234043, 0.7041223404255319, 0.7094414893617021, 0.7140126329787234, 0.7185837765957447, 0.7216589095744681, 0.7238198138297872, 0.7250664893617021, 0.7259807180851063, 0.726811835106383, 0.7274767287234043, 0.7288065159574468]\n"
     ]
    },
    {
     "name": "stderr",
     "output_type": "stream",
     "text": [
      "                                                                                                    \r"
     ]
    },
    {
     "name": "stdout",
     "output_type": "stream",
     "text": [
      "Epoch 22 Loss 1.0637710798581441\n",
      "Epoch 22 Accuracy 0.7366041666666666\n",
      "Epoch 22 Validation Loss 1.0841285421493205\n",
      "Epoch 22 Validation Accuracy 0.7312998670212766\n",
      "=====================================\n",
      "[0.577875664893617, 0.5979886968085106, 0.6146941489361702, 0.633560505319149, 0.6502659574468085, 0.6689660904255319, 0.6827626329787234, 0.6962267287234043, 0.7041223404255319, 0.7094414893617021, 0.7140126329787234, 0.7185837765957447, 0.7216589095744681, 0.7238198138297872, 0.7250664893617021, 0.7259807180851063, 0.726811835106383, 0.7274767287234043, 0.7288065159574468, 0.7300531914893617]\n"
     ]
    },
    {
     "name": "stderr",
     "output_type": "stream",
     "text": [
      "                                                                                                    \r"
     ]
    },
    {
     "name": "stdout",
     "output_type": "stream",
     "text": [
      "Epoch 23 Loss 1.0542520639101665\n",
      "Epoch 23 Accuracy 0.7371875\n",
      "Epoch 23 Validation Loss 1.076357677895972\n",
      "Epoch 23 Validation Accuracy 0.7321309840425532\n",
      "=====================================\n",
      "[0.577875664893617, 0.5979886968085106, 0.6146941489361702, 0.633560505319149, 0.6502659574468085, 0.6689660904255319, 0.6827626329787234, 0.6962267287234043, 0.7041223404255319, 0.7094414893617021, 0.7140126329787234, 0.7185837765957447, 0.7216589095744681, 0.7238198138297872, 0.7250664893617021, 0.7259807180851063, 0.726811835106383, 0.7274767287234043, 0.7288065159574468, 0.7300531914893617, 0.7303025265957447]\n"
     ]
    },
    {
     "name": "stderr",
     "output_type": "stream",
     "text": [
      "                                                                                                    \r"
     ]
    },
    {
     "name": "stdout",
     "output_type": "stream",
     "text": [
      "Epoch 24 Loss 1.0463539816538492\n",
      "Epoch 24 Accuracy 0.7379166666666667\n",
      "Epoch 24 Validation Loss 1.0700608488727124\n",
      "Epoch 24 Validation Accuracy 0.7329621010638298\n",
      "=====================================\n",
      "[0.577875664893617, 0.5979886968085106, 0.6146941489361702, 0.633560505319149, 0.6502659574468085, 0.6689660904255319, 0.6827626329787234, 0.6962267287234043, 0.7041223404255319, 0.7094414893617021, 0.7140126329787234, 0.7185837765957447, 0.7216589095744681, 0.7238198138297872, 0.7250664893617021, 0.7259807180851063, 0.726811835106383, 0.7274767287234043, 0.7288065159574468, 0.7300531914893617, 0.7303025265957447, 0.7305518617021277]\n"
     ]
    },
    {
     "name": "stderr",
     "output_type": "stream",
     "text": [
      "                                                                                                    \r"
     ]
    },
    {
     "name": "stdout",
     "output_type": "stream",
     "text": [
      "Epoch 25 Loss 1.0398478274345397\n",
      "Epoch 25 Accuracy 0.7386458333333333\n",
      "Epoch 25 Validation Loss 1.0650551816884508\n",
      "Epoch 25 Validation Accuracy 0.7330452127659575\n",
      "=====================================\n",
      "[0.577875664893617, 0.5979886968085106, 0.6146941489361702, 0.633560505319149, 0.6502659574468085, 0.6689660904255319, 0.6827626329787234, 0.6962267287234043, 0.7041223404255319, 0.7094414893617021, 0.7140126329787234, 0.7185837765957447, 0.7216589095744681, 0.7238198138297872, 0.7250664893617021, 0.7259807180851063, 0.726811835106383, 0.7274767287234043, 0.7288065159574468, 0.7300531914893617, 0.7303025265957447, 0.7305518617021277, 0.7312998670212766]\n"
     ]
    },
    {
     "name": "stderr",
     "output_type": "stream",
     "text": [
      "                                                                                                    \r"
     ]
    },
    {
     "name": "stdout",
     "output_type": "stream",
     "text": [
      "Epoch 26 Loss 1.0345373294353486\n",
      "Epoch 26 Accuracy 0.7392083333333334\n",
      "Epoch 26 Validation Loss 1.0611479570890994\n",
      "Epoch 26 Validation Accuracy 0.7334607712765957\n",
      "=====================================\n",
      "[0.577875664893617, 0.5979886968085106, 0.6146941489361702, 0.633560505319149, 0.6502659574468085, 0.6689660904255319, 0.6827626329787234, 0.6962267287234043, 0.7041223404255319, 0.7094414893617021, 0.7140126329787234, 0.7185837765957447, 0.7216589095744681, 0.7238198138297872, 0.7250664893617021, 0.7259807180851063, 0.726811835106383, 0.7274767287234043, 0.7288065159574468, 0.7300531914893617, 0.7303025265957447, 0.7305518617021277, 0.7312998670212766, 0.7321309840425532]\n"
     ]
    },
    {
     "name": "stderr",
     "output_type": "stream",
     "text": [
      "                                                                                                    \r"
     ]
    },
    {
     "name": "stdout",
     "output_type": "stream",
     "text": [
      "Epoch 27 Loss 1.030246728658676\n",
      "Epoch 27 Accuracy 0.7395833333333334\n",
      "Epoch 27 Validation Loss 1.058189367994349\n",
      "Epoch 27 Validation Accuracy 0.7342087765957447\n",
      "=====================================\n",
      "[0.577875664893617, 0.5979886968085106, 0.6146941489361702, 0.633560505319149, 0.6502659574468085, 0.6689660904255319, 0.6827626329787234, 0.6962267287234043, 0.7041223404255319, 0.7094414893617021, 0.7140126329787234, 0.7185837765957447, 0.7216589095744681, 0.7238198138297872, 0.7250664893617021, 0.7259807180851063, 0.726811835106383, 0.7274767287234043, 0.7288065159574468, 0.7300531914893617, 0.7303025265957447, 0.7305518617021277, 0.7312998670212766, 0.7321309840425532, 0.7329621010638298]\n"
     ]
    },
    {
     "name": "stderr",
     "output_type": "stream",
     "text": [
      "                                                                                                    \r"
     ]
    },
    {
     "name": "stdout",
     "output_type": "stream",
     "text": [
      "Epoch 28 Loss 1.0268470131556193\n",
      "Epoch 28 Accuracy 0.7403333333333333\n",
      "Epoch 28 Validation Loss 1.0560642182826996\n",
      "Epoch 28 Validation Accuracy 0.734873670212766\n",
      "=====================================\n",
      "[0.577875664893617, 0.5979886968085106, 0.6146941489361702, 0.633560505319149, 0.6502659574468085, 0.6689660904255319, 0.6827626329787234, 0.6962267287234043, 0.7041223404255319, 0.7094414893617021, 0.7140126329787234, 0.7185837765957447, 0.7216589095744681, 0.7238198138297872, 0.7250664893617021, 0.7259807180851063, 0.726811835106383, 0.7274767287234043, 0.7288065159574468, 0.7300531914893617, 0.7303025265957447, 0.7305518617021277, 0.7312998670212766, 0.7321309840425532, 0.7329621010638298, 0.7330452127659575]\n"
     ]
    },
    {
     "name": "stderr",
     "output_type": "stream",
     "text": [
      "                                                                                                    \r"
     ]
    },
    {
     "name": "stdout",
     "output_type": "stream",
     "text": [
      "Epoch 29 Loss 1.024201669216156\n",
      "Epoch 29 Accuracy 0.7412708333333333\n",
      "Epoch 29 Validation Loss 1.054651436970589\n",
      "Epoch 29 Validation Accuracy 0.7347905585106383\n",
      "=====================================\n",
      "[0.577875664893617, 0.5979886968085106, 0.6146941489361702, 0.633560505319149, 0.6502659574468085, 0.6689660904255319, 0.6827626329787234, 0.6962267287234043, 0.7041223404255319, 0.7094414893617021, 0.7140126329787234, 0.7185837765957447, 0.7216589095744681, 0.7238198138297872, 0.7250664893617021, 0.7259807180851063, 0.726811835106383, 0.7274767287234043, 0.7288065159574468, 0.7300531914893617, 0.7303025265957447, 0.7305518617021277, 0.7312998670212766, 0.7321309840425532, 0.7329621010638298, 0.7330452127659575, 0.7334607712765957]\n",
      "Training classifier for exit 4\n"
     ]
    },
    {
     "name": "stderr",
     "output_type": "stream",
     "text": [
      "                                                                                                    \r"
     ]
    },
    {
     "name": "stdout",
     "output_type": "stream",
     "text": [
      "Epoch 0 Loss 3.6521438579559327\n",
      "Epoch 0 Accuracy 0.555125\n",
      "Epoch 0 Validation Loss 2.5909977327001856\n",
      "Epoch 0 Validation Accuracy 0.8974401595744681\n",
      "=====================================\n"
     ]
    },
    {
     "name": "stderr",
     "output_type": "stream",
     "text": [
      "                                                                                                    \r"
     ]
    },
    {
     "name": "stdout",
     "output_type": "stream",
     "text": [
      "Epoch 1 Loss 2.0672439007759094\n",
      "Epoch 1 Accuracy 0.9084166666666667\n",
      "Epoch 1 Validation Loss 1.35358756495283\n",
      "Epoch 1 Validation Accuracy 0.9267785904255319\n",
      "=====================================\n"
     ]
    },
    {
     "name": "stderr",
     "output_type": "stream",
     "text": [
      "                                                                                                    \r"
     ]
    },
    {
     "name": "stdout",
     "output_type": "stream",
     "text": [
      "Epoch 2 Loss 1.1723446969985962\n",
      "Epoch 2 Accuracy 0.9247291666666667\n",
      "Epoch 2 Validation Loss 0.7898542235823388\n",
      "Epoch 2 Validation Accuracy 0.929188829787234\n",
      "=====================================\n"
     ]
    },
    {
     "name": "stderr",
     "output_type": "stream",
     "text": [
      "                                                                                                    \r"
     ]
    },
    {
     "name": "stdout",
     "output_type": "stream",
     "text": [
      "Epoch 3 Loss 0.7519484071334203\n",
      "Epoch 3 Accuracy 0.9257083333333334\n",
      "Epoch 3 Validation Loss 0.5481101615314788\n",
      "Epoch 3 Validation Accuracy 0.9287732712765957\n",
      "=====================================\n"
     ]
    },
    {
     "name": "stderr",
     "output_type": "stream",
     "text": [
      "                                                                                                    \r"
     ]
    },
    {
     "name": "stdout",
     "output_type": "stream",
     "text": [
      "Epoch 4 Loss 0.5551470323999723\n",
      "Epoch 4 Accuracy 0.9259375\n",
      "Epoch 4 Validation Loss 0.43687004350284314\n",
      "Epoch 4 Validation Accuracy 0.928939494680851\n",
      "=====================================\n",
      "[0.8974401595744681, 0.9267785904255319]\n"
     ]
    },
    {
     "name": "stderr",
     "output_type": "stream",
     "text": [
      "                                                                                                    "
     ]
    },
    {
     "name": "stdout",
     "output_type": "stream",
     "text": [
      "Epoch 5 Loss 0.45588672880331677\n",
      "Epoch 5 Accuracy 0.9260416666666667\n"
     ]
    },
    {
     "name": "stderr",
     "output_type": "stream",
     "text": [
      "\r"
     ]
    },
    {
     "name": "stdout",
     "output_type": "stream",
     "text": [
      "Epoch 5 Validation Loss 0.38117594898064083\n",
      "Epoch 5 Validation Accuracy 0.9290226063829787\n",
      "=====================================\n",
      "[0.8974401595744681, 0.9267785904255319, 0.929188829787234]\n"
     ]
    },
    {
     "name": "stderr",
     "output_type": "stream",
     "text": [
      "                                                                                                    \r"
     ]
    },
    {
     "name": "stdout",
     "output_type": "stream",
     "text": [
      "Epoch 6 Loss 0.401931965837876\n",
      "Epoch 6 Accuracy 0.9265416666666667\n",
      "Epoch 6 Validation Loss 0.3515382206186335\n",
      "Epoch 6 Validation Accuracy 0.9296875\n",
      "=====================================\n",
      "[0.8974401595744681, 0.9267785904255319, 0.929188829787234, 0.9287732712765957]\n"
     ]
    },
    {
     "name": "stderr",
     "output_type": "stream",
     "text": [
      "                                                                                                    \r"
     ]
    },
    {
     "name": "stdout",
     "output_type": "stream",
     "text": [
      "Epoch 7 Loss 0.3709538898865382\n",
      "Epoch 7 Accuracy 0.9271458333333333\n",
      "Epoch 7 Validation Loss 0.3353428028206876\n",
      "Epoch 7 Validation Accuracy 0.929936835106383\n",
      "=====================================\n",
      "[0.8974401595744681, 0.9267785904255319, 0.929188829787234, 0.9287732712765957, 0.928939494680851]\n"
     ]
    },
    {
     "name": "stderr",
     "output_type": "stream",
     "text": [
      "                                                                                                    \r"
     ]
    },
    {
     "name": "stdout",
     "output_type": "stream",
     "text": [
      "Epoch 8 Loss 0.3526319702466329\n",
      "Epoch 8 Accuracy 0.9271875\n",
      "Epoch 8 Validation Loss 0.3266480108128583\n",
      "Epoch 8 Validation Accuracy 0.9301030585106383\n",
      "=====================================\n",
      "[0.8974401595744681, 0.9267785904255319, 0.929188829787234, 0.9287732712765957, 0.928939494680851, 0.9290226063829787]\n"
     ]
    },
    {
     "name": "stderr",
     "output_type": "stream",
     "text": [
      "                                                                                                    \r"
     ]
    },
    {
     "name": "stdout",
     "output_type": "stream",
     "text": [
      "Epoch 9 Loss 0.34177506279448666\n",
      "Epoch 9 Accuracy 0.9274166666666667\n",
      "Epoch 9 Validation Loss 0.32243042256920895\n",
      "Epoch 9 Validation Accuracy 0.9306017287234043\n",
      "=====================================\n",
      "[0.8974401595744681, 0.9267785904255319, 0.929188829787234, 0.9287732712765957, 0.928939494680851, 0.9290226063829787, 0.9296875]\n"
     ]
    },
    {
     "name": "stderr",
     "output_type": "stream",
     "text": [
      "                                                                                                    \r"
     ]
    },
    {
     "name": "stdout",
     "output_type": "stream",
     "text": [
      "Epoch 10 Loss 0.3355912702679634\n",
      "Epoch 10 Accuracy 0.9275625\n",
      "Epoch 10 Validation Loss 0.3210177307829578\n",
      "Epoch 10 Validation Accuracy 0.9308510638297872\n",
      "=====================================\n",
      "[0.8974401595744681, 0.9267785904255319, 0.929188829787234, 0.9287732712765957, 0.928939494680851, 0.9290226063829787, 0.9296875, 0.929936835106383]\n"
     ]
    },
    {
     "name": "stderr",
     "output_type": "stream",
     "text": [
      "                                                                                                    \r"
     ]
    },
    {
     "name": "stdout",
     "output_type": "stream",
     "text": [
      "Epoch 11 Loss 0.3324836673885584\n",
      "Epoch 11 Accuracy 0.9276666666666666\n",
      "Epoch 11 Validation Loss 0.3214735235384804\n",
      "Epoch 11 Validation Accuracy 0.9311835106382979\n",
      "=====================================\n",
      "[0.8974401595744681, 0.9267785904255319, 0.929188829787234, 0.9287732712765957, 0.928939494680851, 0.9290226063829787, 0.9296875, 0.929936835106383, 0.9301030585106383]\n"
     ]
    },
    {
     "name": "stderr",
     "output_type": "stream",
     "text": [
      "                                                                                                    \r"
     ]
    },
    {
     "name": "stdout",
     "output_type": "stream",
     "text": [
      "Epoch 12 Loss 0.3314523094768326\n",
      "Epoch 12 Accuracy 0.9277708333333333\n",
      "Epoch 12 Validation Loss 0.32317244388321614\n",
      "Epoch 12 Validation Accuracy 0.9312666223404256\n",
      "=====================================\n",
      "[0.8974401595744681, 0.9267785904255319, 0.929188829787234, 0.9287732712765957, 0.928939494680851, 0.9290226063829787, 0.9296875, 0.929936835106383, 0.9301030585106383, 0.9306017287234043]\n"
     ]
    },
    {
     "name": "stderr",
     "output_type": "stream",
     "text": [
      "                                                                                                    \r"
     ]
    },
    {
     "name": "stdout",
     "output_type": "stream",
     "text": [
      "Epoch 13 Loss 0.3318779115714133\n",
      "Epoch 13 Accuracy 0.927875\n",
      "Epoch 13 Validation Loss 0.32575329496188365\n",
      "Epoch 13 Validation Accuracy 0.9311835106382979\n",
      "=====================================\n",
      "[0.8974401595744681, 0.9267785904255319, 0.929188829787234, 0.9287732712765957, 0.928939494680851, 0.9290226063829787, 0.9296875, 0.929936835106383, 0.9301030585106383, 0.9306017287234043, 0.9308510638297872]\n"
     ]
    },
    {
     "name": "stderr",
     "output_type": "stream",
     "text": [
      "                                                                                                    \r"
     ]
    },
    {
     "name": "stdout",
     "output_type": "stream",
     "text": [
      "Epoch 14 Loss 0.3333444545852641\n",
      "Epoch 14 Accuracy 0.9280416666666667\n",
      "Epoch 14 Validation Loss 0.3289612294670115\n",
      "Epoch 14 Validation Accuracy 0.9311003989361702\n",
      "=====================================\n",
      "[0.8974401595744681, 0.9267785904255319, 0.929188829787234, 0.9287732712765957, 0.928939494680851, 0.9290226063829787, 0.9296875, 0.929936835106383, 0.9301030585106383, 0.9306017287234043, 0.9308510638297872, 0.9311835106382979]\n",
      "Validation accuracies are decreasing, stopping training early\n",
      "Training final classifier\n"
     ]
    },
    {
     "name": "stderr",
     "output_type": "stream",
     "text": [
      "                                                                                                    \r"
     ]
    },
    {
     "name": "stdout",
     "output_type": "stream",
     "text": [
      "Epoch 0 Loss 3.304520942211151\n",
      "Epoch 0 Accuracy 0.32625\n",
      "Epoch 0 Validation Loss 1.410727670852174\n",
      "Epoch 0 Validation Accuracy 0.9167220744680851\n",
      "=====================================\n"
     ]
    },
    {
     "name": "stderr",
     "output_type": "stream",
     "text": [
      "                                                                                                    \r"
     ]
    },
    {
     "name": "stdout",
     "output_type": "stream",
     "text": [
      "Epoch 1 Loss 1.1624503761927287\n",
      "Epoch 1 Accuracy 0.8530625\n",
      "Epoch 1 Validation Loss 0.4728530097673548\n",
      "Epoch 1 Validation Accuracy 0.929936835106383\n",
      "=====================================\n"
     ]
    },
    {
     "name": "stderr",
     "output_type": "stream",
     "text": [
      "                                                                                                    \r"
     ]
    },
    {
     "name": "stdout",
     "output_type": "stream",
     "text": [
      "Epoch 2 Loss 0.5645969970027606\n",
      "Epoch 2 Accuracy 0.9082708333333334\n",
      "Epoch 2 Validation Loss 0.3447642536397944\n",
      "Epoch 2 Validation Accuracy 0.9301030585106383\n",
      "=====================================\n"
     ]
    },
    {
     "name": "stderr",
     "output_type": "stream",
     "text": [
      "                                                                                                    \r"
     ]
    },
    {
     "name": "stdout",
     "output_type": "stream",
     "text": [
      "Epoch 3 Loss 0.4394742521593968\n",
      "Epoch 3 Accuracy 0.9141666666666667\n",
      "Epoch 3 Validation Loss 0.331845621875626\n",
      "Epoch 3 Validation Accuracy 0.930186170212766\n",
      "=====================================\n"
     ]
    },
    {
     "name": "stderr",
     "output_type": "stream",
     "text": [
      "                                                                                                    \r"
     ]
    },
    {
     "name": "stdout",
     "output_type": "stream",
     "text": [
      "Epoch 4 Loss 0.41255797414978346\n",
      "Epoch 4 Accuracy 0.9156666666666666\n",
      "Epoch 4 Validation Loss 0.34021577766125505\n",
      "Epoch 4 Validation Accuracy 0.9301030585106383\n",
      "=====================================\n",
      "[0.9167220744680851, 0.929936835106383]\n"
     ]
    },
    {
     "name": "stderr",
     "output_type": "stream",
     "text": [
      "                                                                                                    \r"
     ]
    },
    {
     "name": "stdout",
     "output_type": "stream",
     "text": [
      "Epoch 5 Loss 0.4140582983071605\n",
      "Epoch 5 Accuracy 0.9172291666666667\n",
      "Epoch 5 Validation Loss 0.3546799464309786\n",
      "Epoch 5 Validation Accuracy 0.9301030585106383\n",
      "=====================================\n",
      "[0.9167220744680851, 0.929936835106383, 0.9301030585106383]\n"
     ]
    },
    {
     "name": "stderr",
     "output_type": "stream",
     "text": [
      "                                                                                                    \r"
     ]
    },
    {
     "name": "stdout",
     "output_type": "stream",
     "text": [
      "Epoch 6 Loss 0.42695323392252127\n",
      "Epoch 6 Accuracy 0.9177916666666667\n",
      "Epoch 6 Validation Loss 0.37111625414183164\n",
      "Epoch 6 Validation Accuracy 0.9308510638297872\n",
      "=====================================\n",
      "[0.9167220744680851, 0.929936835106383, 0.9301030585106383, 0.930186170212766]\n"
     ]
    },
    {
     "name": "stderr",
     "output_type": "stream",
     "text": [
      "                                                                                                    \r"
     ]
    },
    {
     "name": "stdout",
     "output_type": "stream",
     "text": [
      "Epoch 7 Loss 0.4384616528538366\n",
      "Epoch 7 Accuracy 0.9181875\n",
      "Epoch 7 Validation Loss 0.3883568549013518\n",
      "Epoch 7 Validation Accuracy 0.930186170212766\n",
      "=====================================\n",
      "[0.9167220744680851, 0.929936835106383, 0.9301030585106383, 0.930186170212766, 0.9301030585106383]\n"
     ]
    },
    {
     "name": "stderr",
     "output_type": "stream",
     "text": [
      "                                                                                                    \r"
     ]
    },
    {
     "name": "stdout",
     "output_type": "stream",
     "text": [
      "Epoch 8 Loss 0.4536627651453018\n",
      "Epoch 8 Accuracy 0.9184583333333334\n",
      "Epoch 8 Validation Loss 0.40454961327796285\n",
      "Epoch 8 Validation Accuracy 0.930186170212766\n",
      "=====================================\n",
      "[0.9167220744680851, 0.929936835106383, 0.9301030585106383, 0.930186170212766, 0.9301030585106383, 0.9301030585106383]\n"
     ]
    },
    {
     "name": "stderr",
     "output_type": "stream",
     "text": [
      "                                                                                                    \r"
     ]
    },
    {
     "name": "stdout",
     "output_type": "stream",
     "text": [
      "Epoch 9 Loss 0.47181654334999623\n",
      "Epoch 9 Accuracy 0.917375\n",
      "Epoch 9 Validation Loss 0.42051054721579273\n",
      "Epoch 9 Validation Accuracy 0.930435505319149\n",
      "=====================================\n",
      "[0.9167220744680851, 0.929936835106383, 0.9301030585106383, 0.930186170212766, 0.9301030585106383, 0.9301030585106383, 0.9308510638297872]\n"
     ]
    },
    {
     "name": "stderr",
     "output_type": "stream",
     "text": [
      "                                                                                                    \r"
     ]
    },
    {
     "name": "stdout",
     "output_type": "stream",
     "text": [
      "Epoch 10 Loss 0.4838939819124838\n",
      "Epoch 10 Accuracy 0.9192291666666667\n",
      "Epoch 10 Validation Loss 0.43515058309632415\n",
      "Epoch 10 Validation Accuracy 0.9305186170212766\n",
      "=====================================\n",
      "[0.9167220744680851, 0.929936835106383, 0.9301030585106383, 0.930186170212766, 0.9301030585106383, 0.9301030585106383, 0.9308510638297872, 0.930186170212766]\n"
     ]
    },
    {
     "name": "stderr",
     "output_type": "stream",
     "text": [
      "                                                                                                    \r"
     ]
    },
    {
     "name": "stdout",
     "output_type": "stream",
     "text": [
      "Epoch 11 Loss 0.5044522191186745\n",
      "Epoch 11 Accuracy 0.9188333333333333\n",
      "Epoch 11 Validation Loss 0.4488160220034262\n",
      "Epoch 11 Validation Accuracy 0.9307679521276596\n",
      "=====================================\n",
      "[0.9167220744680851, 0.929936835106383, 0.9301030585106383, 0.930186170212766, 0.9301030585106383, 0.9301030585106383, 0.9308510638297872, 0.930186170212766, 0.930186170212766]\n"
     ]
    },
    {
     "name": "stderr",
     "output_type": "stream",
     "text": [
      "                                                                                                    \r"
     ]
    },
    {
     "name": "stdout",
     "output_type": "stream",
     "text": [
      "Epoch 12 Loss 0.5235708794941505\n",
      "Epoch 12 Accuracy 0.9191458333333333\n",
      "Epoch 12 Validation Loss 0.4614912462717992\n",
      "Epoch 12 Validation Accuracy 0.9308510638297872\n",
      "=====================================\n",
      "[0.9167220744680851, 0.929936835106383, 0.9301030585106383, 0.930186170212766, 0.9301030585106383, 0.9301030585106383, 0.9308510638297872, 0.930186170212766, 0.930186170212766, 0.930435505319149]\n"
     ]
    },
    {
     "name": "stderr",
     "output_type": "stream",
     "text": [
      "                                                                                                    \r"
     ]
    },
    {
     "ename": "KeyboardInterrupt",
     "evalue": "",
     "output_type": "error",
     "traceback": [
      "\u001b[1;31m---------------------------------------------------------------------------\u001b[0m",
      "\u001b[1;31mKeyboardInterrupt\u001b[0m                         Traceback (most recent call last)",
      "\u001b[1;32mc:\\Users\\Austin\\Downloads\\EarlyExitNet\\main.ipynb Cell 13\u001b[0m line \u001b[0;36m2\n\u001b[0;32m      <a href='vscode-notebook-cell:/c%3A/Users/Austin/Downloads/EarlyExitNet/main.ipynb#X15sZmlsZQ%3D%3D?line=0'>1</a>\u001b[0m \u001b[39m# train the classifiers\u001b[39;00m\n\u001b[1;32m----> <a href='vscode-notebook-cell:/c%3A/Users/Austin/Downloads/EarlyExitNet/main.ipynb#X15sZmlsZQ%3D%3D?line=1'>2</a>\u001b[0m trainer\u001b[39m.\u001b[39;49mtrain_classifiers(train_dataloader, epoch_count\u001b[39m=\u001b[39;49m\u001b[39m30\u001b[39;49m, validation_loader\u001b[39m=\u001b[39;49mtest_dataloader)\n",
      "File \u001b[1;32mc:\\Users\\Austin\\Downloads\\EarlyExitNet\\EarlyExitTrainer.py:120\u001b[0m, in \u001b[0;36mModelTrainer.train_classifiers\u001b[1;34m(self, train_loader, epoch_count, validation_loader)\u001b[0m\n\u001b[0;32m    116\u001b[0m     \u001b[39mself\u001b[39m\u001b[39m.\u001b[39mmodel\u001b[39m.\u001b[39mexit_modules[i]\u001b[39m.\u001b[39mset_state(TrainingState\u001b[39m.\u001b[39mTRAIN_CLASSIFIER_FORWARD)\n\u001b[0;32m    118\u001b[0m \u001b[39mfor\u001b[39;00m epoch \u001b[39min\u001b[39;00m \u001b[39mrange\u001b[39m(epoch_count):\n\u001b[0;32m    119\u001b[0m     \u001b[39m# TODO: bail out early if last 5 validation accuracies are decreasing\u001b[39;00m\n\u001b[1;32m--> 120\u001b[0m     loss, accuracy, validation_loss, validation_accuracy \u001b[39m=\u001b[39m \u001b[39mself\u001b[39;49m\u001b[39m.\u001b[39;49mtrain_classifier_epoch(train_loader, epoch, validation_loader)\n\u001b[0;32m    121\u001b[0m     validation_losses\u001b[39m.\u001b[39mappend(validation_loss)\n\u001b[0;32m    122\u001b[0m     validation_accuracies\u001b[39m.\u001b[39mappend(validation_accuracy)\n",
      "File \u001b[1;32mc:\\Users\\Austin\\Downloads\\EarlyExitNet\\EarlyExitTrainer.py:38\u001b[0m, in \u001b[0;36mModelTrainer.train_classifier_epoch\u001b[1;34m(self, train_loader, epoch, validation_loader)\u001b[0m\n\u001b[0;32m     34\u001b[0m validation_accuracy \u001b[39m=\u001b[39m \u001b[39m0.0\u001b[39m\n\u001b[0;32m     36\u001b[0m \u001b[39mself\u001b[39m\u001b[39m.\u001b[39mprogress_bar \u001b[39m=\u001b[39m tqdm(train_loader, desc\u001b[39m=\u001b[39m\u001b[39mf\u001b[39m\u001b[39m'\u001b[39m\u001b[39mEpoch \u001b[39m\u001b[39m{\u001b[39;00mepoch\u001b[39m}\u001b[39;00m\u001b[39m'\u001b[39m, ncols\u001b[39m=\u001b[39m\u001b[39m100\u001b[39m, leave\u001b[39m=\u001b[39m\u001b[39mFalse\u001b[39;00m)\n\u001b[1;32m---> 38\u001b[0m \u001b[39mfor\u001b[39;00m i, (X, y) \u001b[39min\u001b[39;00m \u001b[39menumerate\u001b[39m(\u001b[39mself\u001b[39m\u001b[39m.\u001b[39mprogress_bar):\n\u001b[0;32m     39\u001b[0m     X \u001b[39m=\u001b[39m X\u001b[39m.\u001b[39mto(\u001b[39mself\u001b[39m\u001b[39m.\u001b[39mdevice)\n\u001b[0;32m     40\u001b[0m     y \u001b[39m=\u001b[39m y\u001b[39m.\u001b[39mto(\u001b[39mself\u001b[39m\u001b[39m.\u001b[39mdevice)\n",
      "File \u001b[1;32mc:\\Users\\Austin\\anaconda3\\envs\\env\\lib\\site-packages\\tqdm\\std.py:1182\u001b[0m, in \u001b[0;36mtqdm.__iter__\u001b[1;34m(self)\u001b[0m\n\u001b[0;32m   1179\u001b[0m time \u001b[39m=\u001b[39m \u001b[39mself\u001b[39m\u001b[39m.\u001b[39m_time\n\u001b[0;32m   1181\u001b[0m \u001b[39mtry\u001b[39;00m:\n\u001b[1;32m-> 1182\u001b[0m     \u001b[39mfor\u001b[39;00m obj \u001b[39min\u001b[39;00m iterable:\n\u001b[0;32m   1183\u001b[0m         \u001b[39myield\u001b[39;00m obj\n\u001b[0;32m   1184\u001b[0m         \u001b[39m# Update and possibly print the progressbar.\u001b[39;00m\n\u001b[0;32m   1185\u001b[0m         \u001b[39m# Note: does not call self.update(1) for speed optimisation.\u001b[39;00m\n",
      "File \u001b[1;32mc:\\Users\\Austin\\anaconda3\\envs\\env\\lib\\site-packages\\torch\\utils\\data\\dataloader.py:438\u001b[0m, in \u001b[0;36mDataLoader.__iter__\u001b[1;34m(self)\u001b[0m\n\u001b[0;32m    436\u001b[0m     \u001b[39mreturn\u001b[39;00m \u001b[39mself\u001b[39m\u001b[39m.\u001b[39m_iterator\n\u001b[0;32m    437\u001b[0m \u001b[39melse\u001b[39;00m:\n\u001b[1;32m--> 438\u001b[0m     \u001b[39mreturn\u001b[39;00m \u001b[39mself\u001b[39;49m\u001b[39m.\u001b[39;49m_get_iterator()\n",
      "File \u001b[1;32mc:\\Users\\Austin\\anaconda3\\envs\\env\\lib\\site-packages\\torch\\utils\\data\\dataloader.py:386\u001b[0m, in \u001b[0;36mDataLoader._get_iterator\u001b[1;34m(self)\u001b[0m\n\u001b[0;32m    384\u001b[0m \u001b[39melse\u001b[39;00m:\n\u001b[0;32m    385\u001b[0m     \u001b[39mself\u001b[39m\u001b[39m.\u001b[39mcheck_worker_number_rationality()\n\u001b[1;32m--> 386\u001b[0m     \u001b[39mreturn\u001b[39;00m _MultiProcessingDataLoaderIter(\u001b[39mself\u001b[39;49m)\n",
      "File \u001b[1;32mc:\\Users\\Austin\\anaconda3\\envs\\env\\lib\\site-packages\\torch\\utils\\data\\dataloader.py:1039\u001b[0m, in \u001b[0;36m_MultiProcessingDataLoaderIter.__init__\u001b[1;34m(self, loader)\u001b[0m\n\u001b[0;32m   1032\u001b[0m w\u001b[39m.\u001b[39mdaemon \u001b[39m=\u001b[39m \u001b[39mTrue\u001b[39;00m\n\u001b[0;32m   1033\u001b[0m \u001b[39m# NB: Process.start() actually take some time as it needs to\u001b[39;00m\n\u001b[0;32m   1034\u001b[0m \u001b[39m#     start a process and pass the arguments over via a pipe.\u001b[39;00m\n\u001b[0;32m   1035\u001b[0m \u001b[39m#     Therefore, we only add a worker to self._workers list after\u001b[39;00m\n\u001b[0;32m   1036\u001b[0m \u001b[39m#     it started, so that we do not call .join() if program dies\u001b[39;00m\n\u001b[0;32m   1037\u001b[0m \u001b[39m#     before it starts, and __del__ tries to join but will get:\u001b[39;00m\n\u001b[0;32m   1038\u001b[0m \u001b[39m#     AssertionError: can only join a started process.\u001b[39;00m\n\u001b[1;32m-> 1039\u001b[0m w\u001b[39m.\u001b[39;49mstart()\n\u001b[0;32m   1040\u001b[0m \u001b[39mself\u001b[39m\u001b[39m.\u001b[39m_index_queues\u001b[39m.\u001b[39mappend(index_queue)\n\u001b[0;32m   1041\u001b[0m \u001b[39mself\u001b[39m\u001b[39m.\u001b[39m_workers\u001b[39m.\u001b[39mappend(w)\n",
      "File \u001b[1;32mc:\\Users\\Austin\\anaconda3\\envs\\env\\lib\\multiprocessing\\process.py:121\u001b[0m, in \u001b[0;36mBaseProcess.start\u001b[1;34m(self)\u001b[0m\n\u001b[0;32m    118\u001b[0m \u001b[39massert\u001b[39;00m \u001b[39mnot\u001b[39;00m _current_process\u001b[39m.\u001b[39m_config\u001b[39m.\u001b[39mget(\u001b[39m'\u001b[39m\u001b[39mdaemon\u001b[39m\u001b[39m'\u001b[39m), \\\n\u001b[0;32m    119\u001b[0m        \u001b[39m'\u001b[39m\u001b[39mdaemonic processes are not allowed to have children\u001b[39m\u001b[39m'\u001b[39m\n\u001b[0;32m    120\u001b[0m _cleanup()\n\u001b[1;32m--> 121\u001b[0m \u001b[39mself\u001b[39m\u001b[39m.\u001b[39m_popen \u001b[39m=\u001b[39m \u001b[39mself\u001b[39;49m\u001b[39m.\u001b[39;49m_Popen(\u001b[39mself\u001b[39;49m)\n\u001b[0;32m    122\u001b[0m \u001b[39mself\u001b[39m\u001b[39m.\u001b[39m_sentinel \u001b[39m=\u001b[39m \u001b[39mself\u001b[39m\u001b[39m.\u001b[39m_popen\u001b[39m.\u001b[39msentinel\n\u001b[0;32m    123\u001b[0m \u001b[39m# Avoid a refcycle if the target function holds an indirect\u001b[39;00m\n\u001b[0;32m    124\u001b[0m \u001b[39m# reference to the process object (see bpo-30775)\u001b[39;00m\n",
      "File \u001b[1;32mc:\\Users\\Austin\\anaconda3\\envs\\env\\lib\\multiprocessing\\context.py:224\u001b[0m, in \u001b[0;36mProcess._Popen\u001b[1;34m(process_obj)\u001b[0m\n\u001b[0;32m    222\u001b[0m \u001b[39m@staticmethod\u001b[39m\n\u001b[0;32m    223\u001b[0m \u001b[39mdef\u001b[39;00m \u001b[39m_Popen\u001b[39m(process_obj):\n\u001b[1;32m--> 224\u001b[0m     \u001b[39mreturn\u001b[39;00m _default_context\u001b[39m.\u001b[39;49mget_context()\u001b[39m.\u001b[39;49mProcess\u001b[39m.\u001b[39;49m_Popen(process_obj)\n",
      "File \u001b[1;32mc:\\Users\\Austin\\anaconda3\\envs\\env\\lib\\multiprocessing\\context.py:327\u001b[0m, in \u001b[0;36mSpawnProcess._Popen\u001b[1;34m(process_obj)\u001b[0m\n\u001b[0;32m    324\u001b[0m \u001b[39m@staticmethod\u001b[39m\n\u001b[0;32m    325\u001b[0m \u001b[39mdef\u001b[39;00m \u001b[39m_Popen\u001b[39m(process_obj):\n\u001b[0;32m    326\u001b[0m     \u001b[39mfrom\u001b[39;00m \u001b[39m.\u001b[39;00m\u001b[39mpopen_spawn_win32\u001b[39;00m \u001b[39mimport\u001b[39;00m Popen\n\u001b[1;32m--> 327\u001b[0m     \u001b[39mreturn\u001b[39;00m Popen(process_obj)\n",
      "File \u001b[1;32mc:\\Users\\Austin\\anaconda3\\envs\\env\\lib\\multiprocessing\\popen_spawn_win32.py:93\u001b[0m, in \u001b[0;36mPopen.__init__\u001b[1;34m(self, process_obj)\u001b[0m\n\u001b[0;32m     91\u001b[0m \u001b[39mtry\u001b[39;00m:\n\u001b[0;32m     92\u001b[0m     reduction\u001b[39m.\u001b[39mdump(prep_data, to_child)\n\u001b[1;32m---> 93\u001b[0m     reduction\u001b[39m.\u001b[39;49mdump(process_obj, to_child)\n\u001b[0;32m     94\u001b[0m \u001b[39mfinally\u001b[39;00m:\n\u001b[0;32m     95\u001b[0m     set_spawning_popen(\u001b[39mNone\u001b[39;00m)\n",
      "File \u001b[1;32mc:\\Users\\Austin\\anaconda3\\envs\\env\\lib\\multiprocessing\\reduction.py:60\u001b[0m, in \u001b[0;36mdump\u001b[1;34m(obj, file, protocol)\u001b[0m\n\u001b[0;32m     58\u001b[0m \u001b[39mdef\u001b[39;00m \u001b[39mdump\u001b[39m(obj, file, protocol\u001b[39m=\u001b[39m\u001b[39mNone\u001b[39;00m):\n\u001b[0;32m     59\u001b[0m \u001b[39m    \u001b[39m\u001b[39m'''Replacement for pickle.dump() using ForkingPickler.'''\u001b[39;00m\n\u001b[1;32m---> 60\u001b[0m     ForkingPickler(file, protocol)\u001b[39m.\u001b[39;49mdump(obj)\n",
      "\u001b[1;31mKeyboardInterrupt\u001b[0m: "
     ]
    }
   ],
   "source": [
    "# train the classifiers\n",
    "trainer.train_classifiers(train_dataloader, epoch_count=30, validation_loader=test_dataloader)\n"
   ]
  },
  {
   "cell_type": "code",
   "execution_count": 11,
   "metadata": {},
   "outputs": [
    {
     "ename": "FileNotFoundError",
     "evalue": "[Errno 2] No such file or directory: 'models\\\\vgg_cifar100\\\\model_type\\\\final_classifier.pkl'",
     "output_type": "error",
     "traceback": [
      "\u001b[1;31m---------------------------------------------------------------------------\u001b[0m",
      "\u001b[1;31mFileNotFoundError\u001b[0m                         Traceback (most recent call last)",
      "\u001b[1;32mc:\\Users\\Austin\\Downloads\\EarlyExitNet\\main.ipynb Cell 14\u001b[0m line \u001b[0;36m6\n\u001b[0;32m      <a href='vscode-notebook-cell:/c%3A/Users/Austin/Downloads/EarlyExitNet/main.ipynb#X16sZmlsZQ%3D%3D?line=0'>1</a>\u001b[0m \u001b[39m# train the exits\u001b[39;00m\n\u001b[0;32m      <a href='vscode-notebook-cell:/c%3A/Users/Austin/Downloads/EarlyExitNet/main.ipynb#X16sZmlsZQ%3D%3D?line=1'>2</a>\u001b[0m \n\u001b[0;32m      <a href='vscode-notebook-cell:/c%3A/Users/Austin/Downloads/EarlyExitNet/main.ipynb#X16sZmlsZQ%3D%3D?line=2'>3</a>\u001b[0m \u001b[39m#trainer.train_exit_layers(train_dataloader, epoch_count=30, validation_loader=test_dataloader)\u001b[39;00m\n\u001b[0;32m      <a href='vscode-notebook-cell:/c%3A/Users/Austin/Downloads/EarlyExitNet/main.ipynb#X16sZmlsZQ%3D%3D?line=3'>4</a>\u001b[0m \u001b[39mimport\u001b[39;00m \u001b[39mpickle\u001b[39;00m\n\u001b[1;32m----> <a href='vscode-notebook-cell:/c%3A/Users/Austin/Downloads/EarlyExitNet/main.ipynb#X16sZmlsZQ%3D%3D?line=5'>6</a>\u001b[0m pickle\u001b[39m.\u001b[39mdump(\u001b[39mopen\u001b[39;49m(os\u001b[39m.\u001b[39;49mpath\u001b[39m.\u001b[39;49mjoin(model_path, \u001b[39m\"\u001b[39;49m\u001b[39mmodel_type\u001b[39;49m\u001b[39m\"\u001b[39;49m, \u001b[39m\"\u001b[39;49m\u001b[39mfinal_classifier.pkl\u001b[39;49m\u001b[39m\"\u001b[39;49m), \u001b[39m'\u001b[39;49m\u001b[39mwb\u001b[39;49m\u001b[39m'\u001b[39;49m), trainer\u001b[39m.\u001b[39mmodel)\n",
      "File \u001b[1;32mc:\\Users\\Austin\\anaconda3\\envs\\env\\lib\\site-packages\\IPython\\core\\interactiveshell.py:284\u001b[0m, in \u001b[0;36m_modified_open\u001b[1;34m(file, *args, **kwargs)\u001b[0m\n\u001b[0;32m    277\u001b[0m \u001b[39mif\u001b[39;00m file \u001b[39min\u001b[39;00m {\u001b[39m0\u001b[39m, \u001b[39m1\u001b[39m, \u001b[39m2\u001b[39m}:\n\u001b[0;32m    278\u001b[0m     \u001b[39mraise\u001b[39;00m \u001b[39mValueError\u001b[39;00m(\n\u001b[0;32m    279\u001b[0m         \u001b[39mf\u001b[39m\u001b[39m\"\u001b[39m\u001b[39mIPython won\u001b[39m\u001b[39m'\u001b[39m\u001b[39mt let you open fd=\u001b[39m\u001b[39m{\u001b[39;00mfile\u001b[39m}\u001b[39;00m\u001b[39m by default \u001b[39m\u001b[39m\"\u001b[39m\n\u001b[0;32m    280\u001b[0m         \u001b[39m\"\u001b[39m\u001b[39mas it is likely to crash IPython. If you know what you are doing, \u001b[39m\u001b[39m\"\u001b[39m\n\u001b[0;32m    281\u001b[0m         \u001b[39m\"\u001b[39m\u001b[39myou can use builtins\u001b[39m\u001b[39m'\u001b[39m\u001b[39m open.\u001b[39m\u001b[39m\"\u001b[39m\n\u001b[0;32m    282\u001b[0m     )\n\u001b[1;32m--> 284\u001b[0m \u001b[39mreturn\u001b[39;00m io_open(file, \u001b[39m*\u001b[39;49margs, \u001b[39m*\u001b[39;49m\u001b[39m*\u001b[39;49mkwargs)\n",
      "\u001b[1;31mFileNotFoundError\u001b[0m: [Errno 2] No such file or directory: 'models\\\\vgg_cifar100\\\\model_type\\\\final_classifier.pkl'"
     ]
    }
   ],
   "source": [
    "# train the exits\n",
    "\n",
    "#trainer.train_exit_layers(train_dataloader, epoch_count=30, validation_loader=test_dataloader)\n",
    "import pickle\n",
    "\n",
    "pickle.dump(open(os.path.join(model_path, \"final_classifier.pkl\"), 'wb'), trainer.model)"
   ]
  }
 ],
 "metadata": {
  "kernelspec": {
   "display_name": "Python 3",
   "language": "python",
   "name": "python3"
  },
  "language_info": {
   "codemirror_mode": {
    "name": "ipython",
    "version": 3
   },
   "file_extension": ".py",
   "mimetype": "text/x-python",
   "name": "python",
   "nbconvert_exporter": "python",
   "pygments_lexer": "ipython3",
   "version": "3.8.18"
  }
 },
 "nbformat": 4,
 "nbformat_minor": 0
}
