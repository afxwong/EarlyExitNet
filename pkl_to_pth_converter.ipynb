{
 "cells": [
  {
   "cell_type": "code",
   "execution_count": 6,
   "metadata": {},
   "outputs": [
    {
     "name": "stdout",
     "output_type": "stream",
     "text": [
      "The autoreload extension is already loaded. To reload it, use:\n",
      "  %reload_ext autoreload\n",
      "Requirement already satisfied: torch in /Users/dylanmace/miniforge3/envs/earlyexit/lib/python3.11/site-packages (from -r requirements.txt (line 1)) (2.1.0)\n",
      "Requirement already satisfied: torchvision in /Users/dylanmace/miniforge3/envs/earlyexit/lib/python3.11/site-packages (from -r requirements.txt (line 2)) (0.16.0)\n",
      "Requirement already satisfied: tqdm in /Users/dylanmace/miniforge3/envs/earlyexit/lib/python3.11/site-packages (from -r requirements.txt (line 3)) (4.66.1)\n",
      "Requirement already satisfied: numpy in /Users/dylanmace/miniforge3/envs/earlyexit/lib/python3.11/site-packages (from -r requirements.txt (line 4)) (1.26.0)\n",
      "Requirement already satisfied: pandas in /Users/dylanmace/miniforge3/envs/earlyexit/lib/python3.11/site-packages (from -r requirements.txt (line 5)) (2.1.1)\n",
      "Requirement already satisfied: matplotlib in /Users/dylanmace/miniforge3/envs/earlyexit/lib/python3.11/site-packages (from -r requirements.txt (line 6)) (3.8.0)\n",
      "Requirement already satisfied: datasets in /Users/dylanmace/miniforge3/envs/earlyexit/lib/python3.11/site-packages (from -r requirements.txt (line 7)) (2.14.5)\n",
      "Requirement already satisfied: filelock in /Users/dylanmace/miniforge3/envs/earlyexit/lib/python3.11/site-packages (from torch->-r requirements.txt (line 1)) (3.12.4)\n",
      "Requirement already satisfied: typing-extensions in /Users/dylanmace/miniforge3/envs/earlyexit/lib/python3.11/site-packages (from torch->-r requirements.txt (line 1)) (4.8.0)\n",
      "Requirement already satisfied: sympy in /Users/dylanmace/miniforge3/envs/earlyexit/lib/python3.11/site-packages (from torch->-r requirements.txt (line 1)) (1.12)\n",
      "Requirement already satisfied: networkx in /Users/dylanmace/miniforge3/envs/earlyexit/lib/python3.11/site-packages (from torch->-r requirements.txt (line 1)) (3.1)\n",
      "Requirement already satisfied: jinja2 in /Users/dylanmace/miniforge3/envs/earlyexit/lib/python3.11/site-packages (from torch->-r requirements.txt (line 1)) (3.1.2)\n",
      "Requirement already satisfied: fsspec in /Users/dylanmace/miniforge3/envs/earlyexit/lib/python3.11/site-packages (from torch->-r requirements.txt (line 1)) (2023.6.0)\n",
      "Requirement already satisfied: requests in /Users/dylanmace/miniforge3/envs/earlyexit/lib/python3.11/site-packages (from torchvision->-r requirements.txt (line 2)) (2.31.0)\n",
      "Requirement already satisfied: pillow!=8.3.*,>=5.3.0 in /Users/dylanmace/miniforge3/envs/earlyexit/lib/python3.11/site-packages (from torchvision->-r requirements.txt (line 2)) (10.0.1)\n",
      "Requirement already satisfied: python-dateutil>=2.8.2 in /Users/dylanmace/miniforge3/envs/earlyexit/lib/python3.11/site-packages (from pandas->-r requirements.txt (line 5)) (2.8.2)\n",
      "Requirement already satisfied: pytz>=2020.1 in /Users/dylanmace/miniforge3/envs/earlyexit/lib/python3.11/site-packages (from pandas->-r requirements.txt (line 5)) (2023.3.post1)\n",
      "Requirement already satisfied: tzdata>=2022.1 in /Users/dylanmace/miniforge3/envs/earlyexit/lib/python3.11/site-packages (from pandas->-r requirements.txt (line 5)) (2023.3)\n",
      "Requirement already satisfied: contourpy>=1.0.1 in /Users/dylanmace/miniforge3/envs/earlyexit/lib/python3.11/site-packages (from matplotlib->-r requirements.txt (line 6)) (1.1.1)\n",
      "Requirement already satisfied: cycler>=0.10 in /Users/dylanmace/miniforge3/envs/earlyexit/lib/python3.11/site-packages (from matplotlib->-r requirements.txt (line 6)) (0.12.1)\n",
      "Requirement already satisfied: fonttools>=4.22.0 in /Users/dylanmace/miniforge3/envs/earlyexit/lib/python3.11/site-packages (from matplotlib->-r requirements.txt (line 6)) (4.43.1)\n",
      "Requirement already satisfied: kiwisolver>=1.0.1 in /Users/dylanmace/miniforge3/envs/earlyexit/lib/python3.11/site-packages (from matplotlib->-r requirements.txt (line 6)) (1.4.5)\n",
      "Requirement already satisfied: packaging>=20.0 in /Users/dylanmace/miniforge3/envs/earlyexit/lib/python3.11/site-packages (from matplotlib->-r requirements.txt (line 6)) (23.2)\n",
      "Requirement already satisfied: pyparsing>=2.3.1 in /Users/dylanmace/miniforge3/envs/earlyexit/lib/python3.11/site-packages (from matplotlib->-r requirements.txt (line 6)) (3.1.1)\n",
      "Requirement already satisfied: pyarrow>=8.0.0 in /Users/dylanmace/miniforge3/envs/earlyexit/lib/python3.11/site-packages (from datasets->-r requirements.txt (line 7)) (13.0.0)\n",
      "Requirement already satisfied: dill<0.3.8,>=0.3.0 in /Users/dylanmace/miniforge3/envs/earlyexit/lib/python3.11/site-packages (from datasets->-r requirements.txt (line 7)) (0.3.7)\n",
      "Requirement already satisfied: xxhash in /Users/dylanmace/miniforge3/envs/earlyexit/lib/python3.11/site-packages (from datasets->-r requirements.txt (line 7)) (3.4.1)\n",
      "Requirement already satisfied: multiprocess in /Users/dylanmace/miniforge3/envs/earlyexit/lib/python3.11/site-packages (from datasets->-r requirements.txt (line 7)) (0.70.15)\n",
      "Requirement already satisfied: aiohttp in /Users/dylanmace/miniforge3/envs/earlyexit/lib/python3.11/site-packages (from datasets->-r requirements.txt (line 7)) (3.8.6)\n",
      "Requirement already satisfied: huggingface-hub<1.0.0,>=0.14.0 in /Users/dylanmace/miniforge3/envs/earlyexit/lib/python3.11/site-packages (from datasets->-r requirements.txt (line 7)) (0.17.3)\n",
      "Requirement already satisfied: pyyaml>=5.1 in /Users/dylanmace/miniforge3/envs/earlyexit/lib/python3.11/site-packages (from datasets->-r requirements.txt (line 7)) (6.0.1)\n",
      "Requirement already satisfied: attrs>=17.3.0 in /Users/dylanmace/miniforge3/envs/earlyexit/lib/python3.11/site-packages (from aiohttp->datasets->-r requirements.txt (line 7)) (23.1.0)\n",
      "Requirement already satisfied: charset-normalizer<4.0,>=2.0 in /Users/dylanmace/miniforge3/envs/earlyexit/lib/python3.11/site-packages (from aiohttp->datasets->-r requirements.txt (line 7)) (3.3.0)\n",
      "Requirement already satisfied: multidict<7.0,>=4.5 in /Users/dylanmace/miniforge3/envs/earlyexit/lib/python3.11/site-packages (from aiohttp->datasets->-r requirements.txt (line 7)) (6.0.4)\n",
      "Requirement already satisfied: async-timeout<5.0,>=4.0.0a3 in /Users/dylanmace/miniforge3/envs/earlyexit/lib/python3.11/site-packages (from aiohttp->datasets->-r requirements.txt (line 7)) (4.0.3)\n",
      "Requirement already satisfied: yarl<2.0,>=1.0 in /Users/dylanmace/miniforge3/envs/earlyexit/lib/python3.11/site-packages (from aiohttp->datasets->-r requirements.txt (line 7)) (1.9.2)\n",
      "Requirement already satisfied: frozenlist>=1.1.1 in /Users/dylanmace/miniforge3/envs/earlyexit/lib/python3.11/site-packages (from aiohttp->datasets->-r requirements.txt (line 7)) (1.4.0)\n",
      "Requirement already satisfied: aiosignal>=1.1.2 in /Users/dylanmace/miniforge3/envs/earlyexit/lib/python3.11/site-packages (from aiohttp->datasets->-r requirements.txt (line 7)) (1.3.1)\n",
      "Requirement already satisfied: six>=1.5 in /Users/dylanmace/miniforge3/envs/earlyexit/lib/python3.11/site-packages (from python-dateutil>=2.8.2->pandas->-r requirements.txt (line 5)) (1.16.0)\n",
      "Requirement already satisfied: idna<4,>=2.5 in /Users/dylanmace/miniforge3/envs/earlyexit/lib/python3.11/site-packages (from requests->torchvision->-r requirements.txt (line 2)) (3.4)\n",
      "Requirement already satisfied: urllib3<3,>=1.21.1 in /Users/dylanmace/miniforge3/envs/earlyexit/lib/python3.11/site-packages (from requests->torchvision->-r requirements.txt (line 2)) (2.0.6)\n",
      "Requirement already satisfied: certifi>=2017.4.17 in /Users/dylanmace/miniforge3/envs/earlyexit/lib/python3.11/site-packages (from requests->torchvision->-r requirements.txt (line 2)) (2023.7.22)\n",
      "Requirement already satisfied: MarkupSafe>=2.0 in /Users/dylanmace/miniforge3/envs/earlyexit/lib/python3.11/site-packages (from jinja2->torch->-r requirements.txt (line 1)) (2.1.3)\n",
      "Requirement already satisfied: mpmath>=0.19 in /Users/dylanmace/miniforge3/envs/earlyexit/lib/python3.11/site-packages (from sympy->torch->-r requirements.txt (line 1)) (1.3.0)\n",
      "Note: you may need to restart the kernel to use updated packages.\n"
     ]
    }
   ],
   "source": [
    "%load_ext autoreload\n",
    "%autoreload 2\n",
    "\n",
    "%pip install -r requirements.txt"
   ]
  },
  {
   "cell_type": "code",
   "execution_count": 7,
   "metadata": {
    "collapsed": true
   },
   "outputs": [],
   "source": [
    "import sys\n",
    "import os\n",
    "import torch\n",
    "import torch.nn as nn\n",
    "from torch.utils.data import DataLoader, Dataset, random_split\n",
    "import torchvision\n",
    "import torchvision.models as models\n",
    "from torchvision import transforms\n",
    "from datasets import load_dataset, concatenate_datasets"
   ]
  },
  {
   "cell_type": "code",
   "execution_count": 8,
   "metadata": {},
   "outputs": [
    {
     "name": "stdout",
     "output_type": "stream",
     "text": [
      "PyTorch version: 2.1.0\n",
      "Is MPS (Metal Performance Shader) built? True\n",
      "Is MPS available? True\n",
      "Is CUDA available? False\n",
      "Using device: mps\n"
     ]
    }
   ],
   "source": [
    "print(f\"PyTorch version: {torch.__version__}\")\n",
    "\n",
    "# Check PyTorch has access to MPS (Metal Performance Shader, Apple's GPU architecture)\n",
    "print(f\"Is MPS (Metal Performance Shader) built? {torch.backends.mps.is_built()}\")\n",
    "print(f\"Is MPS available? {torch.backends.mps.is_available()}\")\n",
    "\n",
    "# Check for CUDA support\n",
    "print(f\"Is CUDA available? {torch.cuda.is_available()}\")\n",
    "\n",
    "# Set the device\n",
    "if torch.backends.mps.is_available():\n",
    "    device = \"mps\"\n",
    "elif torch.cuda.is_available():\n",
    "    device = \"cuda\"\n",
    "else:\n",
    "    device = \"cpu\"\n",
    "\n",
    "print(f\"Using device: {device}\")\n"
   ]
  },
  {
   "cell_type": "code",
   "execution_count": 9,
   "metadata": {},
   "outputs": [],
   "source": [
    "# pick which model to load\n",
    "model_name = \"vgg_cifar100\" # either \"resnet\" or \"vgg_cifar10\" or \"vgg_cifar100\"\n",
    "\n",
    "model_path = os.path.join(\"models\", model_name)"
   ]
  },
  {
   "cell_type": "code",
   "execution_count": 10,
   "metadata": {
    "collapsed": false
   },
   "outputs": [
    {
     "name": "stderr",
     "output_type": "stream",
     "text": [
      "Using cache found in /Users/dylanmace/.cache/torch/hub/chenyaofo_pytorch-cifar-models_master\n"
     ]
    },
    {
     "name": "stdout",
     "output_type": "stream",
     "text": [
      "Found model at path full_model_with_exit_gates_alpha_0_6 to convert\n",
      "Found model at path final_classifier to convert\n",
      "Found model at path full_model_with_exit_gates_alpha_0_8 to convert\n",
      "Found model at path final_classifier to convert\n"
     ]
    }
   ],
   "source": [
    "from EarlyExitModel import EarlyExitModel\n",
    "import pickle\n",
    "import io\n",
    "\n",
    "# This loads VGG architecture into program memory. Looks out of place but needs to be here. This will get fixed when we rewrite model saving and loading\n",
    "torch.hub.load(\"chenyaofo/pytorch-cifar-models\", \"cifar100_vgg11_bn\", pretrained=True)\n",
    "\n",
    "# Need a custom unpickler to load the model onto the CPU since it was trained on a GPU and dumped, not saved\n",
    "class CPU_Unpickler(pickle.Unpickler):\n",
    "    def find_class(self, module, name):\n",
    "        if module == 'torch.storage' and name == '_load_from_bytes':\n",
    "            return lambda b: torch.load(io.BytesIO(b), map_location='cpu')\n",
    "        else: return super().find_class(module, name)\n",
    "\n",
    "def load_model(path):\n",
    "    # Load the model (classifiers trained, but no gates)\n",
    "    # Load the model onto the CPU\n",
    "    f = open(os.path.join(model_path, f\"full_model_with_exit_gates_alpha_{alpha_no_decimals}.pkl\"), \"rb\")\n",
    "    model = CPU_Unpickler(f).load()\n",
    "\n",
    "    # Set the device on the model and its submodules\n",
    "    model.device = device    \n",
    "    model = model.to(device)\n",
    "    model.costs = model.compute_costs_per_exit_module()\n",
    "\n",
    "    return model\n",
    "\n",
    "\n",
    "\n",
    "alpha_list = [i / 100 for i in range(0, 101)]\n",
    "for alpha in alpha_list:\n",
    "    alpha_no_decimals = str(alpha).replace('.', '_')\n",
    "    for path in [f\"full_model_with_exit_gates_alpha_{alpha_no_decimals}\", \"final_classifier\"]:\n",
    "        try:\n",
    "            model = load_model(path)\n",
    "            print(f\"Found model at path {path} to convert\")\n",
    "        except FileNotFoundError:\n",
    "            continue\n",
    "        model_name = f\"{path}.pth\"\n",
    "        state_dict_path = os.path.join(model_path, model_name)\n",
    "\n",
    "        torch.save(model.state_dict(), state_dict_path)"
   ]
  }
 ],
 "metadata": {
  "kernelspec": {
   "display_name": "Python 3",
   "language": "python",
   "name": "python3"
  },
  "language_info": {
   "codemirror_mode": {
    "name": "ipython",
    "version": 3
   },
   "file_extension": ".py",
   "mimetype": "text/x-python",
   "name": "python",
   "nbconvert_exporter": "python",
   "pygments_lexer": "ipython3",
   "version": "3.11.6"
  }
 },
 "nbformat": 4,
 "nbformat_minor": 0
}
