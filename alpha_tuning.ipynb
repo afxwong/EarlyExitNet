{
 "cells": [
  {
   "cell_type": "code",
   "execution_count": 34,
   "metadata": {},
   "outputs": [
    {
     "name": "stdout",
     "output_type": "stream",
     "text": [
      "The autoreload extension is already loaded. To reload it, use:\n",
      "  %reload_ext autoreload\n",
      "Requirement already satisfied: torch in c:\\users\\austin\\anaconda3\\envs\\env\\lib\\site-packages (from -r requirements.txt (line 1)) (2.1.0+cu118)\n",
      "Requirement already satisfied: torchvision in c:\\users\\austin\\anaconda3\\envs\\env\\lib\\site-packages (from -r requirements.txt (line 2)) (0.16.0+cu118)\n",
      "Requirement already satisfied: tqdm in c:\\users\\austin\\anaconda3\\envs\\env\\lib\\site-packages (from -r requirements.txt (line 3)) (4.66.1)\n",
      "Requirement already satisfied: numpy in c:\\users\\austin\\anaconda3\\envs\\env\\lib\\site-packages (from -r requirements.txt (line 4)) (1.24.4)\n",
      "Requirement already satisfied: pandas in c:\\users\\austin\\anaconda3\\envs\\env\\lib\\site-packages (from -r requirements.txt (line 5)) (2.0.3)\n",
      "Requirement already satisfied: matplotlib in c:\\users\\austin\\anaconda3\\envs\\env\\lib\\site-packages (from -r requirements.txt (line 6)) (3.7.3)\n",
      "Requirement already satisfied: datasets in c:\\users\\austin\\anaconda3\\envs\\env\\lib\\site-packages (from -r requirements.txt (line 7)) (2.14.6)\n",
      "Requirement already satisfied: filelock in c:\\users\\austin\\anaconda3\\envs\\env\\lib\\site-packages (from torch->-r requirements.txt (line 1)) (3.13.0)\n",
      "Requirement already satisfied: typing-extensions in c:\\users\\austin\\anaconda3\\envs\\env\\lib\\site-packages (from torch->-r requirements.txt (line 1)) (4.8.0)\n",
      "Requirement already satisfied: sympy in c:\\users\\austin\\anaconda3\\envs\\env\\lib\\site-packages (from torch->-r requirements.txt (line 1)) (1.12)\n",
      "Requirement already satisfied: networkx in c:\\users\\austin\\anaconda3\\envs\\env\\lib\\site-packages (from torch->-r requirements.txt (line 1)) (3.1)\n",
      "Requirement already satisfied: jinja2 in c:\\users\\austin\\anaconda3\\envs\\env\\lib\\site-packages (from torch->-r requirements.txt (line 1)) (3.1.2)\n",
      "Requirement already satisfied: fsspec in c:\\users\\austin\\anaconda3\\envs\\env\\lib\\site-packages (from torch->-r requirements.txt (line 1)) (2023.10.0)\n",
      "Requirement already satisfied: requests in c:\\users\\austin\\anaconda3\\envs\\env\\lib\\site-packages (from torchvision->-r requirements.txt (line 2)) (2.31.0)\n",
      "Requirement already satisfied: pillow!=8.3.*,>=5.3.0 in c:\\users\\austin\\anaconda3\\envs\\env\\lib\\site-packages (from torchvision->-r requirements.txt (line 2)) (10.1.0)\n",
      "Requirement already satisfied: colorama in c:\\users\\austin\\anaconda3\\envs\\env\\lib\\site-packages (from tqdm->-r requirements.txt (line 3)) (0.4.6)\n",
      "Requirement already satisfied: python-dateutil>=2.8.2 in c:\\users\\austin\\anaconda3\\envs\\env\\lib\\site-packages (from pandas->-r requirements.txt (line 5)) (2.8.2)\n",
      "Requirement already satisfied: pytz>=2020.1 in c:\\users\\austin\\anaconda3\\envs\\env\\lib\\site-packages (from pandas->-r requirements.txt (line 5)) (2023.3.post1)\n",
      "Requirement already satisfied: tzdata>=2022.1 in c:\\users\\austin\\anaconda3\\envs\\env\\lib\\site-packages (from pandas->-r requirements.txt (line 5)) (2023.3)\n",
      "Requirement already satisfied: contourpy>=1.0.1 in c:\\users\\austin\\anaconda3\\envs\\env\\lib\\site-packages (from matplotlib->-r requirements.txt (line 6)) (1.1.1)\n",
      "Requirement already satisfied: cycler>=0.10 in c:\\users\\austin\\anaconda3\\envs\\env\\lib\\site-packages (from matplotlib->-r requirements.txt (line 6)) (0.12.1)\n",
      "Requirement already satisfied: fonttools>=4.22.0 in c:\\users\\austin\\anaconda3\\envs\\env\\lib\\site-packages (from matplotlib->-r requirements.txt (line 6)) (4.43.1)\n",
      "Requirement already satisfied: kiwisolver>=1.0.1 in c:\\users\\austin\\anaconda3\\envs\\env\\lib\\site-packages (from matplotlib->-r requirements.txt (line 6)) (1.4.5)\n",
      "Requirement already satisfied: packaging>=20.0 in c:\\users\\austin\\anaconda3\\envs\\env\\lib\\site-packages (from matplotlib->-r requirements.txt (line 6)) (23.2)\n",
      "Requirement already satisfied: pyparsing>=2.3.1 in c:\\users\\austin\\anaconda3\\envs\\env\\lib\\site-packages (from matplotlib->-r requirements.txt (line 6)) (3.1.1)\n",
      "Requirement already satisfied: importlib-resources>=3.2.0 in c:\\users\\austin\\anaconda3\\envs\\env\\lib\\site-packages (from matplotlib->-r requirements.txt (line 6)) (6.1.0)\n",
      "Requirement already satisfied: pyarrow>=8.0.0 in c:\\users\\austin\\anaconda3\\envs\\env\\lib\\site-packages (from datasets->-r requirements.txt (line 7)) (13.0.0)\n",
      "Requirement already satisfied: dill<0.3.8,>=0.3.0 in c:\\users\\austin\\anaconda3\\envs\\env\\lib\\site-packages (from datasets->-r requirements.txt (line 7)) (0.3.7)\n",
      "Requirement already satisfied: xxhash in c:\\users\\austin\\anaconda3\\envs\\env\\lib\\site-packages (from datasets->-r requirements.txt (line 7)) (3.4.1)\n",
      "Requirement already satisfied: multiprocess in c:\\users\\austin\\anaconda3\\envs\\env\\lib\\site-packages (from datasets->-r requirements.txt (line 7)) (0.70.15)\n",
      "Requirement already satisfied: aiohttp in c:\\users\\austin\\anaconda3\\envs\\env\\lib\\site-packages (from datasets->-r requirements.txt (line 7)) (3.8.6)\n",
      "Requirement already satisfied: huggingface-hub<1.0.0,>=0.14.0 in c:\\users\\austin\\anaconda3\\envs\\env\\lib\\site-packages (from datasets->-r requirements.txt (line 7)) (0.17.3)\n",
      "Requirement already satisfied: pyyaml>=5.1 in c:\\users\\austin\\anaconda3\\envs\\env\\lib\\site-packages (from datasets->-r requirements.txt (line 7)) (6.0.1)\n",
      "Requirement already satisfied: attrs>=17.3.0 in c:\\users\\austin\\anaconda3\\envs\\env\\lib\\site-packages (from aiohttp->datasets->-r requirements.txt (line 7)) (23.1.0)\n",
      "Requirement already satisfied: charset-normalizer<4.0,>=2.0 in c:\\users\\austin\\anaconda3\\envs\\env\\lib\\site-packages (from aiohttp->datasets->-r requirements.txt (line 7)) (3.3.1)\n",
      "Requirement already satisfied: multidict<7.0,>=4.5 in c:\\users\\austin\\anaconda3\\envs\\env\\lib\\site-packages (from aiohttp->datasets->-r requirements.txt (line 7)) (6.0.4)\n",
      "Requirement already satisfied: async-timeout<5.0,>=4.0.0a3 in c:\\users\\austin\\anaconda3\\envs\\env\\lib\\site-packages (from aiohttp->datasets->-r requirements.txt (line 7)) (4.0.3)\n",
      "Requirement already satisfied: yarl<2.0,>=1.0 in c:\\users\\austin\\anaconda3\\envs\\env\\lib\\site-packages (from aiohttp->datasets->-r requirements.txt (line 7)) (1.9.2)\n",
      "Requirement already satisfied: frozenlist>=1.1.1 in c:\\users\\austin\\anaconda3\\envs\\env\\lib\\site-packages (from aiohttp->datasets->-r requirements.txt (line 7)) (1.4.0)\n",
      "Requirement already satisfied: aiosignal>=1.1.2 in c:\\users\\austin\\anaconda3\\envs\\env\\lib\\site-packages (from aiohttp->datasets->-r requirements.txt (line 7)) (1.3.1)\n",
      "Requirement already satisfied: zipp>=3.1.0 in c:\\users\\austin\\anaconda3\\envs\\env\\lib\\site-packages (from importlib-resources>=3.2.0->matplotlib->-r requirements.txt (line 6)) (3.17.0)\n",
      "Requirement already satisfied: six>=1.5 in c:\\users\\austin\\anaconda3\\envs\\env\\lib\\site-packages (from python-dateutil>=2.8.2->pandas->-r requirements.txt (line 5)) (1.16.0)\n",
      "Requirement already satisfied: idna<4,>=2.5 in c:\\users\\austin\\anaconda3\\envs\\env\\lib\\site-packages (from requests->torchvision->-r requirements.txt (line 2)) (3.4)\n",
      "Requirement already satisfied: urllib3<3,>=1.21.1 in c:\\users\\austin\\anaconda3\\envs\\env\\lib\\site-packages (from requests->torchvision->-r requirements.txt (line 2)) (2.0.7)\n",
      "Requirement already satisfied: certifi>=2017.4.17 in c:\\users\\austin\\anaconda3\\envs\\env\\lib\\site-packages (from requests->torchvision->-r requirements.txt (line 2)) (2023.7.22)\n",
      "Requirement already satisfied: MarkupSafe>=2.0 in c:\\users\\austin\\anaconda3\\envs\\env\\lib\\site-packages (from jinja2->torch->-r requirements.txt (line 1)) (2.1.3)\n",
      "Requirement already satisfied: mpmath>=0.19 in c:\\users\\austin\\anaconda3\\envs\\env\\lib\\site-packages (from sympy->torch->-r requirements.txt (line 1)) (1.3.0)\n",
      "Note: you may need to restart the kernel to use updated packages.\n"
     ]
    }
   ],
   "source": [
    "%load_ext autoreload\n",
    "%autoreload 2\n",
    "\n",
    "%pip install -r requirements.txt"
   ]
  },
  {
   "cell_type": "code",
   "execution_count": 35,
   "metadata": {
    "collapsed": true
   },
   "outputs": [],
   "source": [
    "import sys\n",
    "import os\n",
    "import torch\n",
    "import torch.nn as nn\n",
    "from torch.utils.data import DataLoader, Dataset, random_split\n",
    "import torchvision\n",
    "import torchvision.models as models\n",
    "from torchvision import transforms\n",
    "from datasets import load_dataset, concatenate_datasets"
   ]
  },
  {
   "cell_type": "code",
   "execution_count": 36,
   "metadata": {},
   "outputs": [
    {
     "name": "stdout",
     "output_type": "stream",
     "text": [
      "PyTorch version: 2.1.0+cu118\n",
      "Is MPS (Metal Performance Shader) built? False\n",
      "Is MPS available? False\n",
      "Is CUDA available? True\n",
      "Using device: cuda\n"
     ]
    }
   ],
   "source": [
    "print(f\"PyTorch version: {torch.__version__}\")\n",
    "\n",
    "# Check PyTorch has access to MPS (Metal Performance Shader, Apple's GPU architecture)\n",
    "print(f\"Is MPS (Metal Performance Shader) built? {torch.backends.mps.is_built()}\")\n",
    "print(f\"Is MPS available? {torch.backends.mps.is_available()}\")\n",
    "\n",
    "# Check for CUDA support\n",
    "print(f\"Is CUDA available? {torch.cuda.is_available()}\")\n",
    "\n",
    "# Set the device\n",
    "if torch.backends.mps.is_available():\n",
    "    device = \"mps\"\n",
    "elif torch.cuda.is_available():\n",
    "    device = \"cuda\"\n",
    "else:\n",
    "    device = \"cpu\"\n",
    "\n",
    "print(f\"Using device: {device}\")\n"
   ]
  },
  {
   "cell_type": "code",
   "execution_count": 37,
   "metadata": {},
   "outputs": [],
   "source": [
    "# pick which model to load\n",
    "model_name = \"densenet_cifar100\" # either \"resnet\" or \"vgg_cifar10\" or \"vgg_cifar100\"\n",
    "num_classes = 100 if \"cifar100\" in model_name else 10\n",
    "model_path = os.path.join(\"models\", model_name)"
   ]
  },
  {
   "cell_type": "code",
   "execution_count": 38,
   "metadata": {
    "collapsed": false
   },
   "outputs": [],
   "source": [
    "from DataLoader import CustomDataset\n",
    "import numpy as np\n",
    "\n",
    "if model_name == \"resnet\":\n",
    "    # use the imagenette dataset\n",
    "    hf_dataset = load_dataset(\"frgfm/imagenette\", '320px')\n",
    "    hf_dataset = concatenate_datasets(hf_dataset.values())\n",
    "    transform = transforms.Compose([\n",
    "        transforms.Resize((224, 224)),\n",
    "        transforms.ToTensor(),\n",
    "    ])\n",
    "\n",
    "elif model_name == \"vgg_cifar10\":\n",
    "    # use the cifar10 dataset\n",
    "    hf_dataset = load_dataset(\"cifar10\")\n",
    "    hf_dataset = concatenate_datasets(hf_dataset.values())\n",
    "    \n",
    "    transform = transforms.Compose([\n",
    "        transforms.Resize((32, 32)),\n",
    "        transforms.ToTensor(),\n",
    "        transforms.Normalize(mean=[0.507, 0.4865, 0.4409],\n",
    "                             std=[0.2673, 0.2564, 0.2761])\n",
    "    ])\n",
    "elif \"cifar100\" in model_name:\n",
    "    # use the cifar100 dataset\n",
    "    hf_dataset = load_dataset(\"cifar100\")\n",
    "    hf_dataset = concatenate_datasets(hf_dataset.values())\n",
    "    \n",
    "    transform = transforms.Compose([\n",
    "        transforms.Resize((32, 32)),\n",
    "        transforms.ToTensor(),\n",
    "    ])\n",
    "    \n",
    "torch_dataset = CustomDataset(hf_dataset, transform=transform)\n",
    "\n",
    "batch_size = 32 if model_name == \"resnet\" else 64\n",
    "\n",
    "test_size = 0.2\n",
    "test_volume = int(test_size * len(torch_dataset))\n",
    "train_volume = len(torch_dataset) - test_volume\n",
    "\n",
    "train_dataset, test_dataset = random_split(torch_dataset, [train_volume, test_volume])\n",
    "train_dataloader = DataLoader(\n",
    "    train_dataset,\n",
    "    batch_size=batch_size,\n",
    "    shuffle=False, \n",
    "    num_workers=4\n",
    ")\n",
    "\n",
    "test_dataloader = DataLoader(\n",
    "    test_dataset,\n",
    "    batch_size=batch_size,\n",
    "    shuffle=False,\n",
    "    num_workers=4\n",
    ")"
   ]
  },
  {
   "cell_type": "code",
   "execution_count": 39,
   "metadata": {
    "collapsed": false
   },
   "outputs": [
    {
     "name": "stdout",
     "output_type": "stream",
     "text": [
      "Loading EarlyExit DenseNet121 model architecture...\n",
      "Adding exits...\n",
      "Setting model weights...\n"
     ]
    },
    {
     "data": {
      "text/plain": [
       "EarlyExitModel(\n",
       "  (model): DenseNet(\n",
       "    (conv1): Conv2d(3, 24, kernel_size=(3, 3), stride=(1, 1), padding=(1, 1), bias=False)\n",
       "    (dense1): Sequential(\n",
       "      (0): Bottleneck(\n",
       "        (bn1): BatchNorm2d(24, eps=1e-05, momentum=0.1, affine=True, track_running_stats=True)\n",
       "        (conv1): Conv2d(24, 48, kernel_size=(1, 1), stride=(1, 1), bias=False)\n",
       "        (bn2): BatchNorm2d(48, eps=1e-05, momentum=0.1, affine=True, track_running_stats=True)\n",
       "        (conv2): Conv2d(48, 12, kernel_size=(3, 3), stride=(1, 1), padding=(1, 1), bias=False)\n",
       "      )\n",
       "      (1): Bottleneck(\n",
       "        (bn1): BatchNorm2d(36, eps=1e-05, momentum=0.1, affine=True, track_running_stats=True)\n",
       "        (conv1): Conv2d(36, 48, kernel_size=(1, 1), stride=(1, 1), bias=False)\n",
       "        (bn2): BatchNorm2d(48, eps=1e-05, momentum=0.1, affine=True, track_running_stats=True)\n",
       "        (conv2): Conv2d(48, 12, kernel_size=(3, 3), stride=(1, 1), padding=(1, 1), bias=False)\n",
       "      )\n",
       "      (2): Bottleneck(\n",
       "        (bn1): BatchNorm2d(48, eps=1e-05, momentum=0.1, affine=True, track_running_stats=True)\n",
       "        (conv1): Conv2d(48, 48, kernel_size=(1, 1), stride=(1, 1), bias=False)\n",
       "        (bn2): BatchNorm2d(48, eps=1e-05, momentum=0.1, affine=True, track_running_stats=True)\n",
       "        (conv2): Conv2d(48, 12, kernel_size=(3, 3), stride=(1, 1), padding=(1, 1), bias=False)\n",
       "      )\n",
       "      (3): Bottleneck(\n",
       "        (bn1): BatchNorm2d(60, eps=1e-05, momentum=0.1, affine=True, track_running_stats=True)\n",
       "        (conv1): Conv2d(60, 48, kernel_size=(1, 1), stride=(1, 1), bias=False)\n",
       "        (bn2): BatchNorm2d(48, eps=1e-05, momentum=0.1, affine=True, track_running_stats=True)\n",
       "        (conv2): Conv2d(48, 12, kernel_size=(3, 3), stride=(1, 1), padding=(1, 1), bias=False)\n",
       "      )\n",
       "      (4): Bottleneck(\n",
       "        (bn1): BatchNorm2d(72, eps=1e-05, momentum=0.1, affine=True, track_running_stats=True)\n",
       "        (conv1): Conv2d(72, 48, kernel_size=(1, 1), stride=(1, 1), bias=False)\n",
       "        (bn2): BatchNorm2d(48, eps=1e-05, momentum=0.1, affine=True, track_running_stats=True)\n",
       "        (conv2): Conv2d(48, 12, kernel_size=(3, 3), stride=(1, 1), padding=(1, 1), bias=False)\n",
       "      )\n",
       "      (5): Bottleneck(\n",
       "        (bn1): BatchNorm2d(84, eps=1e-05, momentum=0.1, affine=True, track_running_stats=True)\n",
       "        (conv1): Conv2d(84, 48, kernel_size=(1, 1), stride=(1, 1), bias=False)\n",
       "        (bn2): BatchNorm2d(48, eps=1e-05, momentum=0.1, affine=True, track_running_stats=True)\n",
       "        (conv2): Conv2d(48, 12, kernel_size=(3, 3), stride=(1, 1), padding=(1, 1), bias=False)\n",
       "      )\n",
       "    )\n",
       "    (trans1): Transition(\n",
       "      (bn): BatchNorm2d(96, eps=1e-05, momentum=0.1, affine=True, track_running_stats=True)\n",
       "      (conv): Conv2d(96, 48, kernel_size=(1, 1), stride=(1, 1), bias=False)\n",
       "      (pool): AvgPool2d(kernel_size=2, stride=2, padding=0)\n",
       "    )\n",
       "    (dense2): OptionalExitModule(\n",
       "      (module): Sequential(\n",
       "        (0): Bottleneck(\n",
       "          (bn1): BatchNorm2d(48, eps=1e-05, momentum=0.1, affine=True, track_running_stats=True)\n",
       "          (conv1): Conv2d(48, 48, kernel_size=(1, 1), stride=(1, 1), bias=False)\n",
       "          (bn2): BatchNorm2d(48, eps=1e-05, momentum=0.1, affine=True, track_running_stats=True)\n",
       "          (conv2): Conv2d(48, 12, kernel_size=(3, 3), stride=(1, 1), padding=(1, 1), bias=False)\n",
       "        )\n",
       "        (1): Bottleneck(\n",
       "          (bn1): BatchNorm2d(60, eps=1e-05, momentum=0.1, affine=True, track_running_stats=True)\n",
       "          (conv1): Conv2d(60, 48, kernel_size=(1, 1), stride=(1, 1), bias=False)\n",
       "          (bn2): BatchNorm2d(48, eps=1e-05, momentum=0.1, affine=True, track_running_stats=True)\n",
       "          (conv2): Conv2d(48, 12, kernel_size=(3, 3), stride=(1, 1), padding=(1, 1), bias=False)\n",
       "        )\n",
       "        (2): Bottleneck(\n",
       "          (bn1): BatchNorm2d(72, eps=1e-05, momentum=0.1, affine=True, track_running_stats=True)\n",
       "          (conv1): Conv2d(72, 48, kernel_size=(1, 1), stride=(1, 1), bias=False)\n",
       "          (bn2): BatchNorm2d(48, eps=1e-05, momentum=0.1, affine=True, track_running_stats=True)\n",
       "          (conv2): Conv2d(48, 12, kernel_size=(3, 3), stride=(1, 1), padding=(1, 1), bias=False)\n",
       "        )\n",
       "        (3): Bottleneck(\n",
       "          (bn1): BatchNorm2d(84, eps=1e-05, momentum=0.1, affine=True, track_running_stats=True)\n",
       "          (conv1): Conv2d(84, 48, kernel_size=(1, 1), stride=(1, 1), bias=False)\n",
       "          (bn2): BatchNorm2d(48, eps=1e-05, momentum=0.1, affine=True, track_running_stats=True)\n",
       "          (conv2): Conv2d(48, 12, kernel_size=(3, 3), stride=(1, 1), padding=(1, 1), bias=False)\n",
       "        )\n",
       "        (4): Bottleneck(\n",
       "          (bn1): BatchNorm2d(96, eps=1e-05, momentum=0.1, affine=True, track_running_stats=True)\n",
       "          (conv1): Conv2d(96, 48, kernel_size=(1, 1), stride=(1, 1), bias=False)\n",
       "          (bn2): BatchNorm2d(48, eps=1e-05, momentum=0.1, affine=True, track_running_stats=True)\n",
       "          (conv2): Conv2d(48, 12, kernel_size=(3, 3), stride=(1, 1), padding=(1, 1), bias=False)\n",
       "        )\n",
       "        (5): Bottleneck(\n",
       "          (bn1): BatchNorm2d(108, eps=1e-05, momentum=0.1, affine=True, track_running_stats=True)\n",
       "          (conv1): Conv2d(108, 48, kernel_size=(1, 1), stride=(1, 1), bias=False)\n",
       "          (bn2): BatchNorm2d(48, eps=1e-05, momentum=0.1, affine=True, track_running_stats=True)\n",
       "          (conv2): Conv2d(48, 12, kernel_size=(3, 3), stride=(1, 1), padding=(1, 1), bias=False)\n",
       "        )\n",
       "        (6): Bottleneck(\n",
       "          (bn1): BatchNorm2d(120, eps=1e-05, momentum=0.1, affine=True, track_running_stats=True)\n",
       "          (conv1): Conv2d(120, 48, kernel_size=(1, 1), stride=(1, 1), bias=False)\n",
       "          (bn2): BatchNorm2d(48, eps=1e-05, momentum=0.1, affine=True, track_running_stats=True)\n",
       "          (conv2): Conv2d(48, 12, kernel_size=(3, 3), stride=(1, 1), padding=(1, 1), bias=False)\n",
       "        )\n",
       "        (7): Bottleneck(\n",
       "          (bn1): BatchNorm2d(132, eps=1e-05, momentum=0.1, affine=True, track_running_stats=True)\n",
       "          (conv1): Conv2d(132, 48, kernel_size=(1, 1), stride=(1, 1), bias=False)\n",
       "          (bn2): BatchNorm2d(48, eps=1e-05, momentum=0.1, affine=True, track_running_stats=True)\n",
       "          (conv2): Conv2d(48, 12, kernel_size=(3, 3), stride=(1, 1), padding=(1, 1), bias=False)\n",
       "        )\n",
       "        (8): Bottleneck(\n",
       "          (bn1): BatchNorm2d(144, eps=1e-05, momentum=0.1, affine=True, track_running_stats=True)\n",
       "          (conv1): Conv2d(144, 48, kernel_size=(1, 1), stride=(1, 1), bias=False)\n",
       "          (bn2): BatchNorm2d(48, eps=1e-05, momentum=0.1, affine=True, track_running_stats=True)\n",
       "          (conv2): Conv2d(48, 12, kernel_size=(3, 3), stride=(1, 1), padding=(1, 1), bias=False)\n",
       "        )\n",
       "        (9): Bottleneck(\n",
       "          (bn1): BatchNorm2d(156, eps=1e-05, momentum=0.1, affine=True, track_running_stats=True)\n",
       "          (conv1): Conv2d(156, 48, kernel_size=(1, 1), stride=(1, 1), bias=False)\n",
       "          (bn2): BatchNorm2d(48, eps=1e-05, momentum=0.1, affine=True, track_running_stats=True)\n",
       "          (conv2): Conv2d(48, 12, kernel_size=(3, 3), stride=(1, 1), padding=(1, 1), bias=False)\n",
       "        )\n",
       "        (10): Bottleneck(\n",
       "          (bn1): BatchNorm2d(168, eps=1e-05, momentum=0.1, affine=True, track_running_stats=True)\n",
       "          (conv1): Conv2d(168, 48, kernel_size=(1, 1), stride=(1, 1), bias=False)\n",
       "          (bn2): BatchNorm2d(48, eps=1e-05, momentum=0.1, affine=True, track_running_stats=True)\n",
       "          (conv2): Conv2d(48, 12, kernel_size=(3, 3), stride=(1, 1), padding=(1, 1), bias=False)\n",
       "        )\n",
       "        (11): Bottleneck(\n",
       "          (bn1): BatchNorm2d(180, eps=1e-05, momentum=0.1, affine=True, track_running_stats=True)\n",
       "          (conv1): Conv2d(180, 48, kernel_size=(1, 1), stride=(1, 1), bias=False)\n",
       "          (bn2): BatchNorm2d(48, eps=1e-05, momentum=0.1, affine=True, track_running_stats=True)\n",
       "          (conv2): Conv2d(48, 12, kernel_size=(3, 3), stride=(1, 1), padding=(1, 1), bias=False)\n",
       "        )\n",
       "      )\n",
       "      (exit_gate): Linear(in_features=12288, out_features=1, bias=True)\n",
       "      (classifier): Linear(in_features=12288, out_features=100, bias=True)\n",
       "    )\n",
       "    (trans2): Transition(\n",
       "      (bn): BatchNorm2d(192, eps=1e-05, momentum=0.1, affine=True, track_running_stats=True)\n",
       "      (conv): Conv2d(192, 96, kernel_size=(1, 1), stride=(1, 1), bias=False)\n",
       "      (pool): AvgPool2d(kernel_size=2, stride=2, padding=0)\n",
       "    )\n",
       "    (dense3): OptionalExitModule(\n",
       "      (module): Sequential(\n",
       "        (0): Bottleneck(\n",
       "          (bn1): BatchNorm2d(96, eps=1e-05, momentum=0.1, affine=True, track_running_stats=True)\n",
       "          (conv1): Conv2d(96, 48, kernel_size=(1, 1), stride=(1, 1), bias=False)\n",
       "          (bn2): BatchNorm2d(48, eps=1e-05, momentum=0.1, affine=True, track_running_stats=True)\n",
       "          (conv2): Conv2d(48, 12, kernel_size=(3, 3), stride=(1, 1), padding=(1, 1), bias=False)\n",
       "        )\n",
       "        (1): Bottleneck(\n",
       "          (bn1): BatchNorm2d(108, eps=1e-05, momentum=0.1, affine=True, track_running_stats=True)\n",
       "          (conv1): Conv2d(108, 48, kernel_size=(1, 1), stride=(1, 1), bias=False)\n",
       "          (bn2): BatchNorm2d(48, eps=1e-05, momentum=0.1, affine=True, track_running_stats=True)\n",
       "          (conv2): Conv2d(48, 12, kernel_size=(3, 3), stride=(1, 1), padding=(1, 1), bias=False)\n",
       "        )\n",
       "        (2): Bottleneck(\n",
       "          (bn1): BatchNorm2d(120, eps=1e-05, momentum=0.1, affine=True, track_running_stats=True)\n",
       "          (conv1): Conv2d(120, 48, kernel_size=(1, 1), stride=(1, 1), bias=False)\n",
       "          (bn2): BatchNorm2d(48, eps=1e-05, momentum=0.1, affine=True, track_running_stats=True)\n",
       "          (conv2): Conv2d(48, 12, kernel_size=(3, 3), stride=(1, 1), padding=(1, 1), bias=False)\n",
       "        )\n",
       "        (3): Bottleneck(\n",
       "          (bn1): BatchNorm2d(132, eps=1e-05, momentum=0.1, affine=True, track_running_stats=True)\n",
       "          (conv1): Conv2d(132, 48, kernel_size=(1, 1), stride=(1, 1), bias=False)\n",
       "          (bn2): BatchNorm2d(48, eps=1e-05, momentum=0.1, affine=True, track_running_stats=True)\n",
       "          (conv2): Conv2d(48, 12, kernel_size=(3, 3), stride=(1, 1), padding=(1, 1), bias=False)\n",
       "        )\n",
       "        (4): Bottleneck(\n",
       "          (bn1): BatchNorm2d(144, eps=1e-05, momentum=0.1, affine=True, track_running_stats=True)\n",
       "          (conv1): Conv2d(144, 48, kernel_size=(1, 1), stride=(1, 1), bias=False)\n",
       "          (bn2): BatchNorm2d(48, eps=1e-05, momentum=0.1, affine=True, track_running_stats=True)\n",
       "          (conv2): Conv2d(48, 12, kernel_size=(3, 3), stride=(1, 1), padding=(1, 1), bias=False)\n",
       "        )\n",
       "        (5): Bottleneck(\n",
       "          (bn1): BatchNorm2d(156, eps=1e-05, momentum=0.1, affine=True, track_running_stats=True)\n",
       "          (conv1): Conv2d(156, 48, kernel_size=(1, 1), stride=(1, 1), bias=False)\n",
       "          (bn2): BatchNorm2d(48, eps=1e-05, momentum=0.1, affine=True, track_running_stats=True)\n",
       "          (conv2): Conv2d(48, 12, kernel_size=(3, 3), stride=(1, 1), padding=(1, 1), bias=False)\n",
       "        )\n",
       "        (6): Bottleneck(\n",
       "          (bn1): BatchNorm2d(168, eps=1e-05, momentum=0.1, affine=True, track_running_stats=True)\n",
       "          (conv1): Conv2d(168, 48, kernel_size=(1, 1), stride=(1, 1), bias=False)\n",
       "          (bn2): BatchNorm2d(48, eps=1e-05, momentum=0.1, affine=True, track_running_stats=True)\n",
       "          (conv2): Conv2d(48, 12, kernel_size=(3, 3), stride=(1, 1), padding=(1, 1), bias=False)\n",
       "        )\n",
       "        (7): Bottleneck(\n",
       "          (bn1): BatchNorm2d(180, eps=1e-05, momentum=0.1, affine=True, track_running_stats=True)\n",
       "          (conv1): Conv2d(180, 48, kernel_size=(1, 1), stride=(1, 1), bias=False)\n",
       "          (bn2): BatchNorm2d(48, eps=1e-05, momentum=0.1, affine=True, track_running_stats=True)\n",
       "          (conv2): Conv2d(48, 12, kernel_size=(3, 3), stride=(1, 1), padding=(1, 1), bias=False)\n",
       "        )\n",
       "        (8): Bottleneck(\n",
       "          (bn1): BatchNorm2d(192, eps=1e-05, momentum=0.1, affine=True, track_running_stats=True)\n",
       "          (conv1): Conv2d(192, 48, kernel_size=(1, 1), stride=(1, 1), bias=False)\n",
       "          (bn2): BatchNorm2d(48, eps=1e-05, momentum=0.1, affine=True, track_running_stats=True)\n",
       "          (conv2): Conv2d(48, 12, kernel_size=(3, 3), stride=(1, 1), padding=(1, 1), bias=False)\n",
       "        )\n",
       "        (9): Bottleneck(\n",
       "          (bn1): BatchNorm2d(204, eps=1e-05, momentum=0.1, affine=True, track_running_stats=True)\n",
       "          (conv1): Conv2d(204, 48, kernel_size=(1, 1), stride=(1, 1), bias=False)\n",
       "          (bn2): BatchNorm2d(48, eps=1e-05, momentum=0.1, affine=True, track_running_stats=True)\n",
       "          (conv2): Conv2d(48, 12, kernel_size=(3, 3), stride=(1, 1), padding=(1, 1), bias=False)\n",
       "        )\n",
       "        (10): Bottleneck(\n",
       "          (bn1): BatchNorm2d(216, eps=1e-05, momentum=0.1, affine=True, track_running_stats=True)\n",
       "          (conv1): Conv2d(216, 48, kernel_size=(1, 1), stride=(1, 1), bias=False)\n",
       "          (bn2): BatchNorm2d(48, eps=1e-05, momentum=0.1, affine=True, track_running_stats=True)\n",
       "          (conv2): Conv2d(48, 12, kernel_size=(3, 3), stride=(1, 1), padding=(1, 1), bias=False)\n",
       "        )\n",
       "        (11): Bottleneck(\n",
       "          (bn1): BatchNorm2d(228, eps=1e-05, momentum=0.1, affine=True, track_running_stats=True)\n",
       "          (conv1): Conv2d(228, 48, kernel_size=(1, 1), stride=(1, 1), bias=False)\n",
       "          (bn2): BatchNorm2d(48, eps=1e-05, momentum=0.1, affine=True, track_running_stats=True)\n",
       "          (conv2): Conv2d(48, 12, kernel_size=(3, 3), stride=(1, 1), padding=(1, 1), bias=False)\n",
       "        )\n",
       "        (12): Bottleneck(\n",
       "          (bn1): BatchNorm2d(240, eps=1e-05, momentum=0.1, affine=True, track_running_stats=True)\n",
       "          (conv1): Conv2d(240, 48, kernel_size=(1, 1), stride=(1, 1), bias=False)\n",
       "          (bn2): BatchNorm2d(48, eps=1e-05, momentum=0.1, affine=True, track_running_stats=True)\n",
       "          (conv2): Conv2d(48, 12, kernel_size=(3, 3), stride=(1, 1), padding=(1, 1), bias=False)\n",
       "        )\n",
       "        (13): Bottleneck(\n",
       "          (bn1): BatchNorm2d(252, eps=1e-05, momentum=0.1, affine=True, track_running_stats=True)\n",
       "          (conv1): Conv2d(252, 48, kernel_size=(1, 1), stride=(1, 1), bias=False)\n",
       "          (bn2): BatchNorm2d(48, eps=1e-05, momentum=0.1, affine=True, track_running_stats=True)\n",
       "          (conv2): Conv2d(48, 12, kernel_size=(3, 3), stride=(1, 1), padding=(1, 1), bias=False)\n",
       "        )\n",
       "        (14): Bottleneck(\n",
       "          (bn1): BatchNorm2d(264, eps=1e-05, momentum=0.1, affine=True, track_running_stats=True)\n",
       "          (conv1): Conv2d(264, 48, kernel_size=(1, 1), stride=(1, 1), bias=False)\n",
       "          (bn2): BatchNorm2d(48, eps=1e-05, momentum=0.1, affine=True, track_running_stats=True)\n",
       "          (conv2): Conv2d(48, 12, kernel_size=(3, 3), stride=(1, 1), padding=(1, 1), bias=False)\n",
       "        )\n",
       "        (15): Bottleneck(\n",
       "          (bn1): BatchNorm2d(276, eps=1e-05, momentum=0.1, affine=True, track_running_stats=True)\n",
       "          (conv1): Conv2d(276, 48, kernel_size=(1, 1), stride=(1, 1), bias=False)\n",
       "          (bn2): BatchNorm2d(48, eps=1e-05, momentum=0.1, affine=True, track_running_stats=True)\n",
       "          (conv2): Conv2d(48, 12, kernel_size=(3, 3), stride=(1, 1), padding=(1, 1), bias=False)\n",
       "        )\n",
       "        (16): Bottleneck(\n",
       "          (bn1): BatchNorm2d(288, eps=1e-05, momentum=0.1, affine=True, track_running_stats=True)\n",
       "          (conv1): Conv2d(288, 48, kernel_size=(1, 1), stride=(1, 1), bias=False)\n",
       "          (bn2): BatchNorm2d(48, eps=1e-05, momentum=0.1, affine=True, track_running_stats=True)\n",
       "          (conv2): Conv2d(48, 12, kernel_size=(3, 3), stride=(1, 1), padding=(1, 1), bias=False)\n",
       "        )\n",
       "        (17): Bottleneck(\n",
       "          (bn1): BatchNorm2d(300, eps=1e-05, momentum=0.1, affine=True, track_running_stats=True)\n",
       "          (conv1): Conv2d(300, 48, kernel_size=(1, 1), stride=(1, 1), bias=False)\n",
       "          (bn2): BatchNorm2d(48, eps=1e-05, momentum=0.1, affine=True, track_running_stats=True)\n",
       "          (conv2): Conv2d(48, 12, kernel_size=(3, 3), stride=(1, 1), padding=(1, 1), bias=False)\n",
       "        )\n",
       "        (18): Bottleneck(\n",
       "          (bn1): BatchNorm2d(312, eps=1e-05, momentum=0.1, affine=True, track_running_stats=True)\n",
       "          (conv1): Conv2d(312, 48, kernel_size=(1, 1), stride=(1, 1), bias=False)\n",
       "          (bn2): BatchNorm2d(48, eps=1e-05, momentum=0.1, affine=True, track_running_stats=True)\n",
       "          (conv2): Conv2d(48, 12, kernel_size=(3, 3), stride=(1, 1), padding=(1, 1), bias=False)\n",
       "        )\n",
       "        (19): Bottleneck(\n",
       "          (bn1): BatchNorm2d(324, eps=1e-05, momentum=0.1, affine=True, track_running_stats=True)\n",
       "          (conv1): Conv2d(324, 48, kernel_size=(1, 1), stride=(1, 1), bias=False)\n",
       "          (bn2): BatchNorm2d(48, eps=1e-05, momentum=0.1, affine=True, track_running_stats=True)\n",
       "          (conv2): Conv2d(48, 12, kernel_size=(3, 3), stride=(1, 1), padding=(1, 1), bias=False)\n",
       "        )\n",
       "        (20): Bottleneck(\n",
       "          (bn1): BatchNorm2d(336, eps=1e-05, momentum=0.1, affine=True, track_running_stats=True)\n",
       "          (conv1): Conv2d(336, 48, kernel_size=(1, 1), stride=(1, 1), bias=False)\n",
       "          (bn2): BatchNorm2d(48, eps=1e-05, momentum=0.1, affine=True, track_running_stats=True)\n",
       "          (conv2): Conv2d(48, 12, kernel_size=(3, 3), stride=(1, 1), padding=(1, 1), bias=False)\n",
       "        )\n",
       "        (21): Bottleneck(\n",
       "          (bn1): BatchNorm2d(348, eps=1e-05, momentum=0.1, affine=True, track_running_stats=True)\n",
       "          (conv1): Conv2d(348, 48, kernel_size=(1, 1), stride=(1, 1), bias=False)\n",
       "          (bn2): BatchNorm2d(48, eps=1e-05, momentum=0.1, affine=True, track_running_stats=True)\n",
       "          (conv2): Conv2d(48, 12, kernel_size=(3, 3), stride=(1, 1), padding=(1, 1), bias=False)\n",
       "        )\n",
       "        (22): Bottleneck(\n",
       "          (bn1): BatchNorm2d(360, eps=1e-05, momentum=0.1, affine=True, track_running_stats=True)\n",
       "          (conv1): Conv2d(360, 48, kernel_size=(1, 1), stride=(1, 1), bias=False)\n",
       "          (bn2): BatchNorm2d(48, eps=1e-05, momentum=0.1, affine=True, track_running_stats=True)\n",
       "          (conv2): Conv2d(48, 12, kernel_size=(3, 3), stride=(1, 1), padding=(1, 1), bias=False)\n",
       "        )\n",
       "        (23): Bottleneck(\n",
       "          (bn1): BatchNorm2d(372, eps=1e-05, momentum=0.1, affine=True, track_running_stats=True)\n",
       "          (conv1): Conv2d(372, 48, kernel_size=(1, 1), stride=(1, 1), bias=False)\n",
       "          (bn2): BatchNorm2d(48, eps=1e-05, momentum=0.1, affine=True, track_running_stats=True)\n",
       "          (conv2): Conv2d(48, 12, kernel_size=(3, 3), stride=(1, 1), padding=(1, 1), bias=False)\n",
       "        )\n",
       "      )\n",
       "      (exit_gate): Linear(in_features=6144, out_features=1, bias=True)\n",
       "      (classifier): Linear(in_features=6144, out_features=100, bias=True)\n",
       "    )\n",
       "    (trans3): Transition(\n",
       "      (bn): BatchNorm2d(384, eps=1e-05, momentum=0.1, affine=True, track_running_stats=True)\n",
       "      (conv): Conv2d(384, 192, kernel_size=(1, 1), stride=(1, 1), bias=False)\n",
       "      (pool): AvgPool2d(kernel_size=2, stride=2, padding=0)\n",
       "    )\n",
       "    (dense4): OptionalExitModule(\n",
       "      (module): Sequential(\n",
       "        (0): Bottleneck(\n",
       "          (bn1): BatchNorm2d(192, eps=1e-05, momentum=0.1, affine=True, track_running_stats=True)\n",
       "          (conv1): Conv2d(192, 48, kernel_size=(1, 1), stride=(1, 1), bias=False)\n",
       "          (bn2): BatchNorm2d(48, eps=1e-05, momentum=0.1, affine=True, track_running_stats=True)\n",
       "          (conv2): Conv2d(48, 12, kernel_size=(3, 3), stride=(1, 1), padding=(1, 1), bias=False)\n",
       "        )\n",
       "        (1): Bottleneck(\n",
       "          (bn1): BatchNorm2d(204, eps=1e-05, momentum=0.1, affine=True, track_running_stats=True)\n",
       "          (conv1): Conv2d(204, 48, kernel_size=(1, 1), stride=(1, 1), bias=False)\n",
       "          (bn2): BatchNorm2d(48, eps=1e-05, momentum=0.1, affine=True, track_running_stats=True)\n",
       "          (conv2): Conv2d(48, 12, kernel_size=(3, 3), stride=(1, 1), padding=(1, 1), bias=False)\n",
       "        )\n",
       "        (2): Bottleneck(\n",
       "          (bn1): BatchNorm2d(216, eps=1e-05, momentum=0.1, affine=True, track_running_stats=True)\n",
       "          (conv1): Conv2d(216, 48, kernel_size=(1, 1), stride=(1, 1), bias=False)\n",
       "          (bn2): BatchNorm2d(48, eps=1e-05, momentum=0.1, affine=True, track_running_stats=True)\n",
       "          (conv2): Conv2d(48, 12, kernel_size=(3, 3), stride=(1, 1), padding=(1, 1), bias=False)\n",
       "        )\n",
       "        (3): Bottleneck(\n",
       "          (bn1): BatchNorm2d(228, eps=1e-05, momentum=0.1, affine=True, track_running_stats=True)\n",
       "          (conv1): Conv2d(228, 48, kernel_size=(1, 1), stride=(1, 1), bias=False)\n",
       "          (bn2): BatchNorm2d(48, eps=1e-05, momentum=0.1, affine=True, track_running_stats=True)\n",
       "          (conv2): Conv2d(48, 12, kernel_size=(3, 3), stride=(1, 1), padding=(1, 1), bias=False)\n",
       "        )\n",
       "        (4): Bottleneck(\n",
       "          (bn1): BatchNorm2d(240, eps=1e-05, momentum=0.1, affine=True, track_running_stats=True)\n",
       "          (conv1): Conv2d(240, 48, kernel_size=(1, 1), stride=(1, 1), bias=False)\n",
       "          (bn2): BatchNorm2d(48, eps=1e-05, momentum=0.1, affine=True, track_running_stats=True)\n",
       "          (conv2): Conv2d(48, 12, kernel_size=(3, 3), stride=(1, 1), padding=(1, 1), bias=False)\n",
       "        )\n",
       "        (5): Bottleneck(\n",
       "          (bn1): BatchNorm2d(252, eps=1e-05, momentum=0.1, affine=True, track_running_stats=True)\n",
       "          (conv1): Conv2d(252, 48, kernel_size=(1, 1), stride=(1, 1), bias=False)\n",
       "          (bn2): BatchNorm2d(48, eps=1e-05, momentum=0.1, affine=True, track_running_stats=True)\n",
       "          (conv2): Conv2d(48, 12, kernel_size=(3, 3), stride=(1, 1), padding=(1, 1), bias=False)\n",
       "        )\n",
       "        (6): Bottleneck(\n",
       "          (bn1): BatchNorm2d(264, eps=1e-05, momentum=0.1, affine=True, track_running_stats=True)\n",
       "          (conv1): Conv2d(264, 48, kernel_size=(1, 1), stride=(1, 1), bias=False)\n",
       "          (bn2): BatchNorm2d(48, eps=1e-05, momentum=0.1, affine=True, track_running_stats=True)\n",
       "          (conv2): Conv2d(48, 12, kernel_size=(3, 3), stride=(1, 1), padding=(1, 1), bias=False)\n",
       "        )\n",
       "        (7): Bottleneck(\n",
       "          (bn1): BatchNorm2d(276, eps=1e-05, momentum=0.1, affine=True, track_running_stats=True)\n",
       "          (conv1): Conv2d(276, 48, kernel_size=(1, 1), stride=(1, 1), bias=False)\n",
       "          (bn2): BatchNorm2d(48, eps=1e-05, momentum=0.1, affine=True, track_running_stats=True)\n",
       "          (conv2): Conv2d(48, 12, kernel_size=(3, 3), stride=(1, 1), padding=(1, 1), bias=False)\n",
       "        )\n",
       "        (8): Bottleneck(\n",
       "          (bn1): BatchNorm2d(288, eps=1e-05, momentum=0.1, affine=True, track_running_stats=True)\n",
       "          (conv1): Conv2d(288, 48, kernel_size=(1, 1), stride=(1, 1), bias=False)\n",
       "          (bn2): BatchNorm2d(48, eps=1e-05, momentum=0.1, affine=True, track_running_stats=True)\n",
       "          (conv2): Conv2d(48, 12, kernel_size=(3, 3), stride=(1, 1), padding=(1, 1), bias=False)\n",
       "        )\n",
       "        (9): Bottleneck(\n",
       "          (bn1): BatchNorm2d(300, eps=1e-05, momentum=0.1, affine=True, track_running_stats=True)\n",
       "          (conv1): Conv2d(300, 48, kernel_size=(1, 1), stride=(1, 1), bias=False)\n",
       "          (bn2): BatchNorm2d(48, eps=1e-05, momentum=0.1, affine=True, track_running_stats=True)\n",
       "          (conv2): Conv2d(48, 12, kernel_size=(3, 3), stride=(1, 1), padding=(1, 1), bias=False)\n",
       "        )\n",
       "        (10): Bottleneck(\n",
       "          (bn1): BatchNorm2d(312, eps=1e-05, momentum=0.1, affine=True, track_running_stats=True)\n",
       "          (conv1): Conv2d(312, 48, kernel_size=(1, 1), stride=(1, 1), bias=False)\n",
       "          (bn2): BatchNorm2d(48, eps=1e-05, momentum=0.1, affine=True, track_running_stats=True)\n",
       "          (conv2): Conv2d(48, 12, kernel_size=(3, 3), stride=(1, 1), padding=(1, 1), bias=False)\n",
       "        )\n",
       "        (11): Bottleneck(\n",
       "          (bn1): BatchNorm2d(324, eps=1e-05, momentum=0.1, affine=True, track_running_stats=True)\n",
       "          (conv1): Conv2d(324, 48, kernel_size=(1, 1), stride=(1, 1), bias=False)\n",
       "          (bn2): BatchNorm2d(48, eps=1e-05, momentum=0.1, affine=True, track_running_stats=True)\n",
       "          (conv2): Conv2d(48, 12, kernel_size=(3, 3), stride=(1, 1), padding=(1, 1), bias=False)\n",
       "        )\n",
       "        (12): Bottleneck(\n",
       "          (bn1): BatchNorm2d(336, eps=1e-05, momentum=0.1, affine=True, track_running_stats=True)\n",
       "          (conv1): Conv2d(336, 48, kernel_size=(1, 1), stride=(1, 1), bias=False)\n",
       "          (bn2): BatchNorm2d(48, eps=1e-05, momentum=0.1, affine=True, track_running_stats=True)\n",
       "          (conv2): Conv2d(48, 12, kernel_size=(3, 3), stride=(1, 1), padding=(1, 1), bias=False)\n",
       "        )\n",
       "        (13): Bottleneck(\n",
       "          (bn1): BatchNorm2d(348, eps=1e-05, momentum=0.1, affine=True, track_running_stats=True)\n",
       "          (conv1): Conv2d(348, 48, kernel_size=(1, 1), stride=(1, 1), bias=False)\n",
       "          (bn2): BatchNorm2d(48, eps=1e-05, momentum=0.1, affine=True, track_running_stats=True)\n",
       "          (conv2): Conv2d(48, 12, kernel_size=(3, 3), stride=(1, 1), padding=(1, 1), bias=False)\n",
       "        )\n",
       "        (14): Bottleneck(\n",
       "          (bn1): BatchNorm2d(360, eps=1e-05, momentum=0.1, affine=True, track_running_stats=True)\n",
       "          (conv1): Conv2d(360, 48, kernel_size=(1, 1), stride=(1, 1), bias=False)\n",
       "          (bn2): BatchNorm2d(48, eps=1e-05, momentum=0.1, affine=True, track_running_stats=True)\n",
       "          (conv2): Conv2d(48, 12, kernel_size=(3, 3), stride=(1, 1), padding=(1, 1), bias=False)\n",
       "        )\n",
       "        (15): Bottleneck(\n",
       "          (bn1): BatchNorm2d(372, eps=1e-05, momentum=0.1, affine=True, track_running_stats=True)\n",
       "          (conv1): Conv2d(372, 48, kernel_size=(1, 1), stride=(1, 1), bias=False)\n",
       "          (bn2): BatchNorm2d(48, eps=1e-05, momentum=0.1, affine=True, track_running_stats=True)\n",
       "          (conv2): Conv2d(48, 12, kernel_size=(3, 3), stride=(1, 1), padding=(1, 1), bias=False)\n",
       "        )\n",
       "      )\n",
       "      (exit_gate): Linear(in_features=3072, out_features=1, bias=True)\n",
       "      (classifier): Linear(in_features=3072, out_features=100, bias=True)\n",
       "    )\n",
       "    (bn): BatchNorm2d(384, eps=1e-05, momentum=0.1, affine=True, track_running_stats=True)\n",
       "    (linear): Linear(in_features=384, out_features=100, bias=True)\n",
       "  )\n",
       ")"
      ]
     },
     "execution_count": 39,
     "metadata": {},
     "output_type": "execute_result"
    }
   ],
   "source": [
    "import ModelLoader\n",
    "\n",
    "loader = ModelLoader.ModelLoader(model_name, device, dataloader=train_dataloader)\n",
    "\n",
    "# preview the model architecture\n",
    "model = loader.load_model(num_outputs=num_classes, trained_classifiers=True)\n",
    "model"
   ]
  },
  {
   "cell_type": "markdown",
   "metadata": {},
   "source": [
    "## Early Exit Model Training"
   ]
  },
  {
   "cell_type": "markdown",
   "metadata": {},
   "source": [
    "If you want tensorboard support, you need to run the following commands on **macOS**:\n",
    "\n",
    "This clears your logs:\n",
    "```\n",
    "rm -rf runs/*\n",
    "```\n",
    "\n",
    "This shows your public IP address:\n",
    "```\n",
    "dig -4 TXT +short o-o.myaddr.l.google.com @ns1.google.com\n",
    "```\n",
    "\n",
    "This starts tensorboard at this address:\n",
    "```\n",
    "tensorboard --host 0.0.0.0 --logdir={model_path}/runs\n",
    "```\n",
    "```\n",
    "\n"
   ]
  },
  {
   "cell_type": "markdown",
   "metadata": {},
   "source": [
    "If you want tensorboard support, you need to run the following commands on **Windows**:\n",
    "\n",
    "This clears your logs:\n",
    "```\n",
    "rmdir /s /q runs\n",
    "```\n",
    "\n",
    "This shows your IP address:\n",
    "```\n",
    "powershell -command \"$ipAddress = (Invoke-WebRequest -Uri 'http://ipinfo.io/ip').Content.Trim(); Write-Host 'Your IP address is: ' $ipAddress\"  \n",
    "```\n",
    "\n",
    "This starts tensorboard at this address:\n",
    "```\n",
    "tensorboard --host 0.0.0.0 --logdir={model_path}\\runs\n",
    "```"
   ]
  },
  {
   "cell_type": "code",
   "execution_count": 40,
   "metadata": {},
   "outputs": [],
   "source": [
    "from EarlyExitTrainer import ModelTrainer\n",
    "\n",
    "trainer = ModelTrainer(model, device, model_dir=model_path)"
   ]
  },
  {
   "cell_type": "code",
   "execution_count": 41,
   "metadata": {},
   "outputs": [
    {
     "name": "stdout",
     "output_type": "stream",
     "text": [
      "Training with alpha=0.3404\n",
      "Loading EarlyExit DenseNet121 model architecture...\n",
      "Adding exits...\n",
      "Setting model weights...\n"
     ]
    },
    {
     "name": "stderr",
     "output_type": "stream",
     "text": [
      "                                                                                                    \r"
     ]
    },
    {
     "name": "stdout",
     "output_type": "stream",
     "text": [
      "Epoch 0 Validation Time 0.02061557262501818\n",
      "Epoch 0 Validation Accuracy 0.4829621010638298\n",
      "=====================================\n"
     ]
    },
    {
     "name": "stderr",
     "output_type": "stream",
     "text": [
      "                                                                                                    \r"
     ]
    },
    {
     "name": "stdout",
     "output_type": "stream",
     "text": [
      "Epoch 1 Validation Time 0.028339068940345276\n",
      "Epoch 1 Validation Accuracy 0.5954122340425532\n",
      "=====================================\n"
     ]
    },
    {
     "name": "stderr",
     "output_type": "stream",
     "text": [
      "                                                                                                    \r"
     ]
    },
    {
     "name": "stdout",
     "output_type": "stream",
     "text": [
      "Epoch 2 Validation Time 0.03378029706630301\n",
      "Epoch 2 Validation Accuracy 0.8824800531914894\n",
      "=====================================\n",
      "Training with alpha=0.3408\n",
      "Loading EarlyExit DenseNet121 model architecture...\n",
      "Adding exits...\n",
      "Setting model weights...\n"
     ]
    },
    {
     "name": "stderr",
     "output_type": "stream",
     "text": [
      "                                                                                                    \r"
     ]
    },
    {
     "name": "stdout",
     "output_type": "stream",
     "text": [
      "Epoch 0 Validation Time 0.021169922453291874\n",
      "Epoch 0 Validation Accuracy 0.48238031914893614\n",
      "=====================================\n"
     ]
    },
    {
     "name": "stderr",
     "output_type": "stream",
     "text": [
      "                                                                                                    \r"
     ]
    },
    {
     "name": "stdout",
     "output_type": "stream",
     "text": [
      "Epoch 1 Validation Time 0.02892451210224882\n",
      "Epoch 1 Validation Accuracy 0.5801196808510638\n",
      "=====================================\n"
     ]
    },
    {
     "name": "stderr",
     "output_type": "stream",
     "text": [
      "                                                                                                    \r"
     ]
    },
    {
     "name": "stdout",
     "output_type": "stream",
     "text": [
      "Epoch 2 Validation Time 0.03555140343118221\n",
      "Epoch 2 Validation Accuracy 0.8812333776595744\n",
      "=====================================\n",
      "Training with alpha=0.3412\n",
      "Loading EarlyExit DenseNet121 model architecture...\n",
      "Adding exits...\n",
      "Setting model weights...\n"
     ]
    },
    {
     "name": "stderr",
     "output_type": "stream",
     "text": [
      "                                                                                                    \r"
     ]
    },
    {
     "name": "stdout",
     "output_type": "stream",
     "text": [
      "Epoch 0 Validation Time 0.022010076553263563\n",
      "Epoch 0 Validation Accuracy 0.48179853723404253\n",
      "=====================================\n"
     ]
    },
    {
     "name": "stderr",
     "output_type": "stream",
     "text": [
      "                                                                                                    \r"
     ]
    },
    {
     "name": "stdout",
     "output_type": "stream",
     "text": [
      "Epoch 1 Validation Time 0.029137884048705407\n",
      "Epoch 1 Validation Accuracy 0.5659906914893617\n",
      "=====================================\n"
     ]
    },
    {
     "name": "stderr",
     "output_type": "stream",
     "text": [
      "                                                                                                    \r"
     ]
    },
    {
     "name": "stdout",
     "output_type": "stream",
     "text": [
      "Epoch 2 Validation Time 0.03542983405133511\n",
      "Epoch 2 Validation Accuracy 0.8800698138297872\n",
      "=====================================\n",
      "Training with alpha=0.3416\n",
      "Loading EarlyExit DenseNet121 model architecture...\n",
      "Adding exits...\n",
      "Setting model weights...\n"
     ]
    },
    {
     "name": "stderr",
     "output_type": "stream",
     "text": [
      "                                                                                                    \r"
     ]
    },
    {
     "name": "stdout",
     "output_type": "stream",
     "text": [
      "Epoch 0 Validation Time 0.019898793798811893\n",
      "Epoch 0 Validation Accuracy 0.4812998670212766\n",
      "=====================================\n"
     ]
    },
    {
     "name": "stderr",
     "output_type": "stream",
     "text": [
      "                                                                                                    \r"
     ]
    },
    {
     "name": "stdout",
     "output_type": "stream",
     "text": [
      "Epoch 1 Validation Time 0.028631983919346585\n",
      "Epoch 1 Validation Accuracy 0.5513630319148937\n",
      "=====================================\n"
     ]
    },
    {
     "name": "stderr",
     "output_type": "stream",
     "text": [
      "                                                                                                    \r"
     ]
    },
    {
     "name": "stdout",
     "output_type": "stream",
     "text": [
      "Epoch 2 Validation Time 0.03504745630507774\n",
      "Epoch 2 Validation Accuracy 0.8795711436170213\n",
      "=====================================\n",
      "Training with alpha=0.342\n",
      "Loading EarlyExit DenseNet121 model architecture...\n",
      "Adding exits...\n",
      "Setting model weights...\n"
     ]
    },
    {
     "name": "stderr",
     "output_type": "stream",
     "text": [
      "                                                                                                    \r"
     ]
    },
    {
     "name": "stdout",
     "output_type": "stream",
     "text": [
      "Epoch 0 Validation Time 0.020440201810065735\n",
      "Epoch 0 Validation Accuracy 0.480718085106383\n",
      "=====================================\n"
     ]
    },
    {
     "name": "stderr",
     "output_type": "stream",
     "text": [
      "                                                                                                    \r"
     ]
    },
    {
     "name": "stdout",
     "output_type": "stream",
     "text": [
      "Epoch 1 Validation Time 0.02886112573299002\n",
      "Epoch 1 Validation Accuracy 0.5392287234042553\n",
      "=====================================\n"
     ]
    },
    {
     "name": "stderr",
     "output_type": "stream",
     "text": [
      "                                                                                                    \r"
     ]
    },
    {
     "name": "stdout",
     "output_type": "stream",
     "text": [
      "Epoch 2 Validation Time 0.03610532588147102\n",
      "Epoch 2 Validation Accuracy 0.8774102393617021\n",
      "=====================================\n",
      "Training with alpha=0.3424\n",
      "Loading EarlyExit DenseNet121 model architecture...\n",
      "Adding exits...\n",
      "Setting model weights...\n"
     ]
    },
    {
     "name": "stderr",
     "output_type": "stream",
     "text": [
      "                                                                                                    \r"
     ]
    },
    {
     "name": "stdout",
     "output_type": "stream",
     "text": [
      "Epoch 0 Validation Time 0.019318135494881487\n",
      "Epoch 0 Validation Accuracy 0.480219414893617\n",
      "=====================================\n"
     ]
    },
    {
     "name": "stderr",
     "output_type": "stream",
     "text": [
      "                                                                                                    \r"
     ]
    },
    {
     "name": "stdout",
     "output_type": "stream",
     "text": [
      "Epoch 1 Validation Time 0.028642645541657793\n",
      "Epoch 1 Validation Accuracy 0.5277593085106383\n",
      "=====================================\n"
     ]
    },
    {
     "name": "stderr",
     "output_type": "stream",
     "text": [
      "                                                                                                    \r"
     ]
    },
    {
     "name": "stdout",
     "output_type": "stream",
     "text": [
      "Epoch 2 Validation Time 0.03494629580923851\n",
      "Epoch 2 Validation Accuracy 0.875748005319149\n",
      "=====================================\n",
      "Training with alpha=0.3428\n",
      "Loading EarlyExit DenseNet121 model architecture...\n",
      "Adding exits...\n",
      "Setting model weights...\n"
     ]
    },
    {
     "name": "stderr",
     "output_type": "stream",
     "text": [
      "                                                                                                    \r"
     ]
    },
    {
     "name": "stdout",
     "output_type": "stream",
     "text": [
      "Epoch 0 Validation Time 0.020132783879625037\n",
      "Epoch 0 Validation Accuracy 0.4798869680851064\n",
      "=====================================\n"
     ]
    },
    {
     "name": "stderr",
     "output_type": "stream",
     "text": [
      "                                                                                                    \r"
     ]
    },
    {
     "name": "stdout",
     "output_type": "stream",
     "text": [
      "Epoch 1 Validation Time 0.028700657347415354\n",
      "Epoch 1 Validation Accuracy 0.5188663563829787\n",
      "=====================================\n"
     ]
    },
    {
     "name": "stderr",
     "output_type": "stream",
     "text": [
      "                                                                                                    \r"
     ]
    },
    {
     "name": "stdout",
     "output_type": "stream",
     "text": [
      "Epoch 2 Validation Time 0.03491855174937147\n",
      "Epoch 2 Validation Accuracy 0.8725066489361702\n",
      "=====================================\n",
      "Training with alpha=0.3432\n",
      "Loading EarlyExit DenseNet121 model architecture...\n",
      "Adding exits...\n",
      "Setting model weights...\n"
     ]
    },
    {
     "name": "stderr",
     "output_type": "stream",
     "text": [
      "                                                                                                    \r"
     ]
    },
    {
     "name": "stdout",
     "output_type": "stream",
     "text": [
      "Epoch 0 Validation Time 0.01868122435630636\n",
      "Epoch 0 Validation Accuracy 0.47980385638297873\n",
      "=====================================\n"
     ]
    },
    {
     "name": "stderr",
     "output_type": "stream",
     "text": [
      "                                                                                                    \r"
     ]
    },
    {
     "name": "stdout",
     "output_type": "stream",
     "text": [
      "Epoch 1 Validation Time 0.028457354991994005\n",
      "Epoch 1 Validation Accuracy 0.5110538563829787\n",
      "=====================================\n"
     ]
    },
    {
     "name": "stderr",
     "output_type": "stream",
     "text": [
      "                                                                                                    \r"
     ]
    },
    {
     "name": "stdout",
     "output_type": "stream",
     "text": [
      "Epoch 2 Validation Time 0.034678980391076274\n",
      "Epoch 2 Validation Accuracy 0.8685172872340425\n",
      "=====================================\n",
      "Training with alpha=0.3436\n",
      "Loading EarlyExit DenseNet121 model architecture...\n",
      "Adding exits...\n",
      "Setting model weights...\n"
     ]
    },
    {
     "name": "stderr",
     "output_type": "stream",
     "text": [
      "                                                                                                    \r"
     ]
    },
    {
     "name": "stdout",
     "output_type": "stream",
     "text": [
      "Epoch 0 Validation Time 0.019148857035535448\n",
      "Epoch 0 Validation Accuracy 0.4794714095744681\n",
      "=====================================\n"
     ]
    },
    {
     "name": "stderr",
     "output_type": "stream",
     "text": [
      "                                                                                                    \r"
     ]
    },
    {
     "name": "stdout",
     "output_type": "stream",
     "text": [
      "Epoch 1 Validation Time 0.027712086413769012\n",
      "Epoch 1 Validation Accuracy 0.5045711436170213\n",
      "=====================================\n"
     ]
    },
    {
     "name": "stderr",
     "output_type": "stream",
     "text": [
      "                                                                                                    \r"
     ]
    },
    {
     "name": "stdout",
     "output_type": "stream",
     "text": [
      "Epoch 2 Validation Time 0.03302975030655556\n",
      "Epoch 2 Validation Accuracy 0.8642785904255319\n",
      "=====================================\n",
      "Training with alpha=0.344\n",
      "Loading EarlyExit DenseNet121 model architecture...\n",
      "Adding exits...\n",
      "Setting model weights...\n"
     ]
    },
    {
     "name": "stderr",
     "output_type": "stream",
     "text": [
      "                                                                                                    \r"
     ]
    },
    {
     "name": "stdout",
     "output_type": "stream",
     "text": [
      "Epoch 0 Validation Time 0.01693073612578372\n",
      "Epoch 0 Validation Accuracy 0.4793051861702128\n",
      "=====================================\n"
     ]
    },
    {
     "name": "stderr",
     "output_type": "stream",
     "text": [
      "                                                                                                    \r"
     ]
    },
    {
     "name": "stdout",
     "output_type": "stream",
     "text": [
      "Epoch 1 Validation Time 0.02686678982795553\n",
      "Epoch 1 Validation Accuracy 0.4987533244680851\n",
      "=====================================\n"
     ]
    },
    {
     "name": "stderr",
     "output_type": "stream",
     "text": [
      "                                                                                                    \r"
     ]
    },
    {
     "name": "stdout",
     "output_type": "stream",
     "text": [
      "Epoch 2 Validation Time 0.03332378382378436\n",
      "Epoch 2 Validation Accuracy 0.859624335106383\n",
      "=====================================\n",
      "Training with alpha=0.3444\n",
      "Loading EarlyExit DenseNet121 model architecture...\n",
      "Adding exits...\n",
      "Setting model weights...\n"
     ]
    },
    {
     "name": "stderr",
     "output_type": "stream",
     "text": [
      "                                                                                                    \r"
     ]
    },
    {
     "name": "stdout",
     "output_type": "stream",
     "text": [
      "Epoch 0 Validation Time 0.017706829182645108\n",
      "Epoch 0 Validation Accuracy 0.47913896276595747\n",
      "=====================================\n"
     ]
    },
    {
     "name": "stderr",
     "output_type": "stream",
     "text": [
      "                                                                                                    \r"
     ]
    },
    {
     "name": "stdout",
     "output_type": "stream",
     "text": [
      "Epoch 1 Validation Time 0.02686589702646783\n",
      "Epoch 1 Validation Accuracy 0.49459773936170215\n",
      "=====================================\n"
     ]
    },
    {
     "name": "stderr",
     "output_type": "stream",
     "text": [
      "                                                                                                    \r"
     ]
    },
    {
     "name": "stdout",
     "output_type": "stream",
     "text": [
      "Epoch 2 Validation Time 0.03421183088992504\n",
      "Epoch 2 Validation Accuracy 0.852310505319149\n",
      "=====================================\n",
      "Training with alpha=0.3448\n",
      "Loading EarlyExit DenseNet121 model architecture...\n",
      "Adding exits...\n",
      "Setting model weights...\n"
     ]
    },
    {
     "name": "stderr",
     "output_type": "stream",
     "text": [
      "                                                                                                    \r"
     ]
    },
    {
     "name": "stdout",
     "output_type": "stream",
     "text": [
      "Epoch 0 Validation Time 0.016670067259605896\n",
      "Epoch 0 Validation Accuracy 0.47913896276595747\n",
      "=====================================\n"
     ]
    },
    {
     "name": "stderr",
     "output_type": "stream",
     "text": [
      "                                                                                                    \r"
     ]
    },
    {
     "name": "stdout",
     "output_type": "stream",
     "text": [
      "Epoch 1 Validation Time 0.024961754362633887\n",
      "Epoch 1 Validation Accuracy 0.4907746010638298\n",
      "=====================================\n"
     ]
    },
    {
     "name": "stderr",
     "output_type": "stream",
     "text": [
      "                                                                                                    \r"
     ]
    },
    {
     "name": "stdout",
     "output_type": "stream",
     "text": [
      "Epoch 2 Validation Time 0.032733326262616096\n",
      "Epoch 2 Validation Accuracy 0.8448304521276596\n",
      "=====================================\n",
      "Training with alpha=0.3452\n",
      "Loading EarlyExit DenseNet121 model architecture...\n",
      "Adding exits...\n",
      "Setting model weights...\n"
     ]
    },
    {
     "name": "stderr",
     "output_type": "stream",
     "text": [
      "                                                                                                    \r"
     ]
    },
    {
     "name": "stdout",
     "output_type": "stream",
     "text": [
      "Epoch 0 Validation Time 0.01751010722302376\n",
      "Epoch 0 Validation Accuracy 0.47897273936170215\n",
      "=====================================\n"
     ]
    },
    {
     "name": "stderr",
     "output_type": "stream",
     "text": [
      "                                                                                                    \r"
     ]
    },
    {
     "name": "stdout",
     "output_type": "stream",
     "text": [
      "Epoch 1 Validation Time 0.024255609258692315\n",
      "Epoch 1 Validation Accuracy 0.48695146276595747\n",
      "=====================================\n"
     ]
    },
    {
     "name": "stderr",
     "output_type": "stream",
     "text": [
      "                                                                                                    \r"
     ]
    },
    {
     "name": "stdout",
     "output_type": "stream",
     "text": [
      "Epoch 2 Validation Time 0.03336048760312669\n",
      "Epoch 2 Validation Accuracy 0.8346908244680851\n",
      "=====================================\n",
      "Training with alpha=0.3456\n",
      "Loading EarlyExit DenseNet121 model architecture...\n",
      "Adding exits...\n",
      "Setting model weights...\n"
     ]
    },
    {
     "name": "stderr",
     "output_type": "stream",
     "text": [
      "                                                                                                    \r"
     ]
    },
    {
     "name": "stdout",
     "output_type": "stream",
     "text": [
      "Epoch 0 Validation Time 0.016185760498046875\n",
      "Epoch 0 Validation Accuracy 0.47897273936170215\n",
      "=====================================\n"
     ]
    },
    {
     "name": "stderr",
     "output_type": "stream",
     "text": [
      "                                                                                                    \r"
     ]
    },
    {
     "name": "stdout",
     "output_type": "stream",
     "text": [
      "Epoch 1 Validation Time 0.022169814464893748\n",
      "Epoch 1 Validation Accuracy 0.4842087765957447\n",
      "=====================================\n"
     ]
    },
    {
     "name": "stderr",
     "output_type": "stream",
     "text": [
      "                                                                                                    \r"
     ]
    },
    {
     "name": "stdout",
     "output_type": "stream",
     "text": [
      "Epoch 2 Validation Time 0.03204218123821502\n",
      "Epoch 2 Validation Accuracy 0.8238031914893617\n",
      "=====================================\n",
      "Training with alpha=0.346\n",
      "Loading EarlyExit DenseNet121 model architecture...\n",
      "Adding exits...\n",
      "Setting model weights...\n"
     ]
    },
    {
     "name": "stderr",
     "output_type": "stream",
     "text": [
      "                                                                                                    \r"
     ]
    },
    {
     "name": "stdout",
     "output_type": "stream",
     "text": [
      "Epoch 0 Validation Time 0.017269962645591573\n",
      "Epoch 0 Validation Accuracy 0.4788896276595745\n",
      "=====================================\n"
     ]
    },
    {
     "name": "stderr",
     "output_type": "stream",
     "text": [
      "                                                                                                    \r"
     ]
    },
    {
     "name": "stdout",
     "output_type": "stream",
     "text": [
      "Epoch 1 Validation Time 0.022452316385634403\n",
      "Epoch 1 Validation Accuracy 0.48287898936170215\n",
      "=====================================\n"
     ]
    },
    {
     "name": "stderr",
     "output_type": "stream",
     "text": [
      "                                                                                                    \r"
     ]
    },
    {
     "name": "stdout",
     "output_type": "stream",
     "text": [
      "Epoch 2 Validation Time 0.032888281852641005\n",
      "Epoch 2 Validation Accuracy 0.8096742021276596\n",
      "=====================================\n",
      "Training with alpha=0.3464\n",
      "Loading EarlyExit DenseNet121 model architecture...\n",
      "Adding exits...\n",
      "Setting model weights...\n"
     ]
    },
    {
     "name": "stderr",
     "output_type": "stream",
     "text": [
      "                                                                                                    \r"
     ]
    },
    {
     "name": "stdout",
     "output_type": "stream",
     "text": [
      "Epoch 0 Validation Time 0.015936715805784187\n",
      "Epoch 0 Validation Accuracy 0.4788896276595745\n",
      "=====================================\n"
     ]
    },
    {
     "name": "stderr",
     "output_type": "stream",
     "text": [
      "                                                                                                    \r"
     ]
    },
    {
     "name": "stdout",
     "output_type": "stream",
     "text": [
      "Epoch 1 Validation Time 0.020032643003666653\n",
      "Epoch 1 Validation Accuracy 0.4816323138297872\n",
      "=====================================\n"
     ]
    },
    {
     "name": "stderr",
     "output_type": "stream",
     "text": [
      "                                                                                                    \r"
     ]
    },
    {
     "name": "stdout",
     "output_type": "stream",
     "text": [
      "Epoch 2 Validation Time 0.0304783100777484\n",
      "Epoch 2 Validation Accuracy 0.7943816489361702\n",
      "=====================================\n",
      "Training with alpha=0.3468\n",
      "Loading EarlyExit DenseNet121 model architecture...\n",
      "Adding exits...\n",
      "Setting model weights...\n"
     ]
    },
    {
     "name": "stderr",
     "output_type": "stream",
     "text": [
      "                                                                                                    \r"
     ]
    },
    {
     "name": "stdout",
     "output_type": "stream",
     "text": [
      "Epoch 0 Validation Time 0.016029846160969835\n",
      "Epoch 0 Validation Accuracy 0.4788896276595745\n",
      "=====================================\n"
     ]
    },
    {
     "name": "stderr",
     "output_type": "stream",
     "text": [
      "                                                                                                    \r"
     ]
    },
    {
     "name": "stdout",
     "output_type": "stream",
     "text": [
      "Epoch 1 Validation Time 0.018702292695958564\n",
      "Epoch 1 Validation Accuracy 0.4806349734042553\n",
      "=====================================\n"
     ]
    },
    {
     "name": "stderr",
     "output_type": "stream",
     "text": [
      "                                                                                                    \r"
     ]
    },
    {
     "name": "stdout",
     "output_type": "stream",
     "text": [
      "Epoch 2 Validation Time 0.030893248446444248\n",
      "Epoch 2 Validation Accuracy 0.7762632978723404\n",
      "=====================================\n",
      "Training with alpha=0.3472\n",
      "Loading EarlyExit DenseNet121 model architecture...\n",
      "Adding exits...\n",
      "Setting model weights...\n"
     ]
    },
    {
     "name": "stderr",
     "output_type": "stream",
     "text": [
      "                                                                                                    \r"
     ]
    },
    {
     "name": "stdout",
     "output_type": "stream",
     "text": [
      "Epoch 0 Validation Time 0.016886726338812646\n",
      "Epoch 0 Validation Accuracy 0.47880651595744683\n",
      "=====================================\n"
     ]
    },
    {
     "name": "stderr",
     "output_type": "stream",
     "text": [
      "                                                                                                    \r"
     ]
    },
    {
     "name": "stdout",
     "output_type": "stream",
     "text": [
      "Epoch 1 Validation Time 0.018866270146471388\n",
      "Epoch 1 Validation Accuracy 0.4800531914893617\n",
      "=====================================\n"
     ]
    },
    {
     "name": "stderr",
     "output_type": "stream",
     "text": [
      "                                                                                                    \r"
     ]
    },
    {
     "name": "stdout",
     "output_type": "stream",
     "text": [
      "Epoch 2 Validation Time 0.03127107975330758\n",
      "Epoch 2 Validation Accuracy 0.7571476063829787\n",
      "=====================================\n",
      "Training with alpha=0.3476\n",
      "Loading EarlyExit DenseNet121 model architecture...\n",
      "Adding exits...\n",
      "Setting model weights...\n"
     ]
    },
    {
     "name": "stderr",
     "output_type": "stream",
     "text": [
      "                                                                                                    \r"
     ]
    },
    {
     "name": "stdout",
     "output_type": "stream",
     "text": [
      "Epoch 0 Validation Time 0.015850626407785617\n",
      "Epoch 0 Validation Accuracy 0.47880651595744683\n",
      "=====================================\n"
     ]
    },
    {
     "name": "stderr",
     "output_type": "stream",
     "text": [
      "                                                                                                    \r"
     ]
    },
    {
     "name": "stdout",
     "output_type": "stream",
     "text": [
      "Epoch 1 Validation Time 0.01753763569162247\n",
      "Epoch 1 Validation Accuracy 0.4797207446808511\n",
      "=====================================\n"
     ]
    },
    {
     "name": "stderr",
     "output_type": "stream",
     "text": [
      "                                                                                                    \r"
     ]
    },
    {
     "name": "stdout",
     "output_type": "stream",
     "text": [
      "Epoch 2 Validation Time 0.030499554694967068\n",
      "Epoch 2 Validation Accuracy 0.7367021276595744\n",
      "=====================================\n",
      "Training with alpha=0.348\n",
      "Loading EarlyExit DenseNet121 model architecture...\n",
      "Adding exits...\n",
      "Setting model weights...\n"
     ]
    },
    {
     "name": "stderr",
     "output_type": "stream",
     "text": [
      "                                                                                                    \r"
     ]
    },
    {
     "name": "stdout",
     "output_type": "stream",
     "text": [
      "Epoch 0 Validation Time 0.01587731787498961\n",
      "Epoch 0 Validation Accuracy 0.47880651595744683\n",
      "=====================================\n"
     ]
    },
    {
     "name": "stderr",
     "output_type": "stream",
     "text": [
      "                                                                                                    \r"
     ]
    },
    {
     "name": "stdout",
     "output_type": "stream",
     "text": [
      "Epoch 1 Validation Time 0.017377169842415666\n",
      "Epoch 1 Validation Accuracy 0.4793051861702128\n",
      "=====================================\n"
     ]
    },
    {
     "name": "stderr",
     "output_type": "stream",
     "text": [
      "                                                                                                    \r"
     ]
    },
    {
     "name": "stdout",
     "output_type": "stream",
     "text": [
      "Epoch 2 Validation Time 0.03059031861893674\n",
      "Epoch 2 Validation Accuracy 0.71484375\n",
      "=====================================\n",
      "Training with alpha=0.3484\n",
      "Loading EarlyExit DenseNet121 model architecture...\n",
      "Adding exits...\n",
      "Setting model weights...\n"
     ]
    },
    {
     "name": "stderr",
     "output_type": "stream",
     "text": [
      "                                                                                                    \r"
     ]
    },
    {
     "name": "stdout",
     "output_type": "stream",
     "text": [
      "Epoch 0 Validation Time 0.015812840867549815\n",
      "Epoch 0 Validation Accuracy 0.47880651595744683\n",
      "=====================================\n"
     ]
    },
    {
     "name": "stderr",
     "output_type": "stream",
     "text": [
      "                                                                                                    \r"
     ]
    },
    {
     "name": "stdout",
     "output_type": "stream",
     "text": [
      "Epoch 1 Validation Time 0.01619597191506244\n",
      "Epoch 1 Validation Accuracy 0.4790558510638298\n",
      "=====================================\n"
     ]
    },
    {
     "name": "stderr",
     "output_type": "stream",
     "text": [
      "                                                                                                    \r"
     ]
    },
    {
     "name": "stdout",
     "output_type": "stream",
     "text": [
      "Epoch 2 Validation Time 0.029094543862850108\n",
      "Epoch 2 Validation Accuracy 0.6920711436170213\n",
      "=====================================\n",
      "Training with alpha=0.3488\n",
      "Loading EarlyExit DenseNet121 model architecture...\n",
      "Adding exits...\n",
      "Setting model weights...\n"
     ]
    },
    {
     "name": "stderr",
     "output_type": "stream",
     "text": [
      "                                                                                                    \r"
     ]
    },
    {
     "name": "stdout",
     "output_type": "stream",
     "text": [
      "Epoch 0 Validation Time 0.016919193115640194\n",
      "Epoch 0 Validation Accuracy 0.47880651595744683\n",
      "=====================================\n"
     ]
    },
    {
     "name": "stderr",
     "output_type": "stream",
     "text": [
      "                                                                                                    \r"
     ]
    },
    {
     "name": "stdout",
     "output_type": "stream",
     "text": [
      "Epoch 1 Validation Time 0.017041510724006816\n",
      "Epoch 1 Validation Accuracy 0.4788896276595745\n",
      "=====================================\n"
     ]
    },
    {
     "name": "stderr",
     "output_type": "stream",
     "text": [
      "                                                                                                    \r"
     ]
    },
    {
     "name": "stdout",
     "output_type": "stream",
     "text": [
      "Epoch 2 Validation Time 0.029445062292383074\n",
      "Epoch 2 Validation Accuracy 0.6708776595744681\n",
      "=====================================\n",
      "Training with alpha=0.3492\n",
      "Loading EarlyExit DenseNet121 model architecture...\n",
      "Adding exits...\n",
      "Setting model weights...\n"
     ]
    },
    {
     "name": "stderr",
     "output_type": "stream",
     "text": [
      "                                                                                                    \r"
     ]
    },
    {
     "name": "stdout",
     "output_type": "stream",
     "text": [
      "Epoch 0 Validation Time 0.015829072353687693\n",
      "Epoch 0 Validation Accuracy 0.47880651595744683\n",
      "=====================================\n"
     ]
    },
    {
     "name": "stderr",
     "output_type": "stream",
     "text": [
      "                                                                                                    \r"
     ]
    },
    {
     "name": "stdout",
     "output_type": "stream",
     "text": [
      "Epoch 1 Validation Time 0.015845199848743195\n",
      "Epoch 1 Validation Accuracy 0.4788896276595745\n",
      "=====================================\n"
     ]
    },
    {
     "name": "stderr",
     "output_type": "stream",
     "text": [
      "                                                                                                    \r"
     ]
    },
    {
     "name": "stdout",
     "output_type": "stream",
     "text": [
      "Epoch 2 Validation Time 0.02863103785413377\n",
      "Epoch 2 Validation Accuracy 0.6478557180851063\n",
      "=====================================\n",
      "Training with alpha=0.3496\n",
      "Loading EarlyExit DenseNet121 model architecture...\n",
      "Adding exits...\n",
      "Setting model weights...\n"
     ]
    },
    {
     "name": "stderr",
     "output_type": "stream",
     "text": [
      "                                                                                                    \r"
     ]
    },
    {
     "name": "stdout",
     "output_type": "stream",
     "text": [
      "Epoch 0 Validation Time 0.016590567345314836\n",
      "Epoch 0 Validation Accuracy 0.47880651595744683\n",
      "=====================================\n"
     ]
    },
    {
     "name": "stderr",
     "output_type": "stream",
     "text": [
      "                                                                                                    \r"
     ]
    },
    {
     "name": "stdout",
     "output_type": "stream",
     "text": [
      "Epoch 1 Validation Time 0.017127657190282294\n",
      "Epoch 1 Validation Accuracy 0.47880651595744683\n",
      "=====================================\n"
     ]
    },
    {
     "name": "stderr",
     "output_type": "stream",
     "text": [
      "                                                                                                    \r"
     ]
    },
    {
     "name": "stdout",
     "output_type": "stream",
     "text": [
      "Epoch 2 Validation Time 0.029190390668016798\n",
      "Epoch 2 Validation Accuracy 0.6264128989361702\n",
      "=====================================\n",
      "Training with alpha=0.35\n",
      "Loading EarlyExit DenseNet121 model architecture...\n",
      "Adding exits...\n",
      "Setting model weights...\n"
     ]
    },
    {
     "name": "stderr",
     "output_type": "stream",
     "text": [
      "                                                                                                    \r"
     ]
    },
    {
     "name": "stdout",
     "output_type": "stream",
     "text": [
      "Epoch 0 Validation Time 0.015606251168758311\n",
      "Epoch 0 Validation Accuracy 0.4787234042553192\n",
      "=====================================\n"
     ]
    },
    {
     "name": "stderr",
     "output_type": "stream",
     "text": [
      "                                                                                                    \r"
     ]
    },
    {
     "name": "stdout",
     "output_type": "stream",
     "text": [
      "Epoch 1 Validation Time 0.01572842927689248\n",
      "Epoch 1 Validation Accuracy 0.4787234042553192\n",
      "=====================================\n"
     ]
    },
    {
     "name": "stderr",
     "output_type": "stream",
     "text": [
      "                                                                                                    \r"
     ]
    },
    {
     "name": "stdout",
     "output_type": "stream",
     "text": [
      "Epoch 2 Validation Time 0.02841364322824681\n",
      "Epoch 2 Validation Accuracy 0.6056349734042553\n",
      "=====================================\n",
      "Training with alpha=0.3504\n",
      "Loading EarlyExit DenseNet121 model architecture...\n",
      "Adding exits...\n",
      "Setting model weights...\n"
     ]
    },
    {
     "name": "stderr",
     "output_type": "stream",
     "text": [
      "                                                                                                    \r"
     ]
    },
    {
     "name": "stdout",
     "output_type": "stream",
     "text": [
      "Epoch 0 Validation Time 0.016664416232007616\n",
      "Epoch 0 Validation Accuracy 0.4787234042553192\n",
      "=====================================\n"
     ]
    },
    {
     "name": "stderr",
     "output_type": "stream",
     "text": [
      "                                                                                                    \r"
     ]
    },
    {
     "name": "stdout",
     "output_type": "stream",
     "text": [
      "Epoch 1 Validation Time 0.01641942465558965\n",
      "Epoch 1 Validation Accuracy 0.4787234042553192\n",
      "=====================================\n"
     ]
    },
    {
     "name": "stderr",
     "output_type": "stream",
     "text": [
      "                                                                                                    \r"
     ]
    },
    {
     "name": "stdout",
     "output_type": "stream",
     "text": [
      "Epoch 2 Validation Time 0.029020123025204275\n",
      "Epoch 2 Validation Accuracy 0.5842752659574468\n",
      "=====================================\n",
      "Training with alpha=0.3508\n",
      "Loading EarlyExit DenseNet121 model architecture...\n",
      "Adding exits...\n",
      "Setting model weights...\n"
     ]
    },
    {
     "name": "stderr",
     "output_type": "stream",
     "text": [
      "                                                                                                    \r"
     ]
    },
    {
     "name": "stdout",
     "output_type": "stream",
     "text": [
      "Epoch 0 Validation Time 0.0156533844927524\n",
      "Epoch 0 Validation Accuracy 0.4787234042553192\n",
      "=====================================\n"
     ]
    },
    {
     "name": "stderr",
     "output_type": "stream",
     "text": [
      "                                                                                                    \r"
     ]
    },
    {
     "name": "stdout",
     "output_type": "stream",
     "text": [
      "Epoch 1 Validation Time 0.015679852759584466\n",
      "Epoch 1 Validation Accuracy 0.4787234042553192\n",
      "=====================================\n"
     ]
    },
    {
     "name": "stderr",
     "output_type": "stream",
     "text": [
      "                                                                                                    \r"
     ]
    },
    {
     "name": "stdout",
     "output_type": "stream",
     "text": [
      "Epoch 2 Validation Time 0.028212684266110684\n",
      "Epoch 2 Validation Accuracy 0.5659906914893617\n",
      "=====================================\n",
      "Training with alpha=0.3512\n",
      "Loading EarlyExit DenseNet121 model architecture...\n",
      "Adding exits...\n",
      "Setting model weights...\n"
     ]
    },
    {
     "name": "stderr",
     "output_type": "stream",
     "text": [
      "                                                                                                    \r"
     ]
    },
    {
     "name": "stdout",
     "output_type": "stream",
     "text": [
      "Epoch 0 Validation Time 0.01634980135775627\n",
      "Epoch 0 Validation Accuracy 0.4787234042553192\n",
      "=====================================\n"
     ]
    },
    {
     "name": "stderr",
     "output_type": "stream",
     "text": [
      "                                                                                                    \r"
     ]
    },
    {
     "name": "stdout",
     "output_type": "stream",
     "text": [
      "Epoch 1 Validation Time 0.01635984791086075\n",
      "Epoch 1 Validation Accuracy 0.4787234042553192\n",
      "=====================================\n"
     ]
    },
    {
     "name": "stderr",
     "output_type": "stream",
     "text": [
      "                                                                                                    \r"
     ]
    },
    {
     "name": "stdout",
     "output_type": "stream",
     "text": [
      "Epoch 2 Validation Time 0.028823565929494005\n",
      "Epoch 2 Validation Accuracy 0.5497839095744681\n",
      "=====================================\n",
      "Training with alpha=0.3516\n",
      "Loading EarlyExit DenseNet121 model architecture...\n",
      "Adding exits...\n",
      "Setting model weights...\n"
     ]
    },
    {
     "name": "stderr",
     "output_type": "stream",
     "text": [
      "                                                                                                    \r"
     ]
    },
    {
     "name": "stdout",
     "output_type": "stream",
     "text": [
      "Epoch 0 Validation Time 0.015695507222033563\n",
      "Epoch 0 Validation Accuracy 0.4787234042553192\n",
      "=====================================\n"
     ]
    },
    {
     "name": "stderr",
     "output_type": "stream",
     "text": [
      "                                                                                                    \r"
     ]
    },
    {
     "name": "stdout",
     "output_type": "stream",
     "text": [
      "Epoch 1 Validation Time 0.015717822186490323\n",
      "Epoch 1 Validation Accuracy 0.4787234042553192\n",
      "=====================================\n"
     ]
    },
    {
     "name": "stderr",
     "output_type": "stream",
     "text": [
      "                                                                                                    \r"
     ]
    },
    {
     "name": "stdout",
     "output_type": "stream",
     "text": [
      "Epoch 2 Validation Time 0.02814408185634207\n",
      "Epoch 2 Validation Accuracy 0.5339095744680851\n",
      "=====================================\n",
      "Training with alpha=0.352\n",
      "Loading EarlyExit DenseNet121 model architecture...\n",
      "Adding exits...\n",
      "Setting model weights...\n"
     ]
    },
    {
     "name": "stderr",
     "output_type": "stream",
     "text": [
      "                                                                                                    \r"
     ]
    },
    {
     "name": "stdout",
     "output_type": "stream",
     "text": [
      "Epoch 0 Validation Time 0.016531289891993747\n",
      "Epoch 0 Validation Accuracy 0.4787234042553192\n",
      "=====================================\n"
     ]
    },
    {
     "name": "stderr",
     "output_type": "stream",
     "text": [
      "                                                                                                    \r"
     ]
    },
    {
     "name": "stdout",
     "output_type": "stream",
     "text": [
      "Epoch 1 Validation Time 0.016875988625465556\n",
      "Epoch 1 Validation Accuracy 0.4787234042553192\n",
      "=====================================\n"
     ]
    },
    {
     "name": "stderr",
     "output_type": "stream",
     "text": [
      "                                                                                                    \r"
     ]
    },
    {
     "name": "stdout",
     "output_type": "stream",
     "text": [
      "Epoch 2 Validation Time 0.0283026822069858\n",
      "Epoch 2 Validation Accuracy 0.5216090425531915\n",
      "=====================================\n",
      "Training with alpha=0.3524\n",
      "Loading EarlyExit DenseNet121 model architecture...\n",
      "Adding exits...\n",
      "Setting model weights...\n"
     ]
    },
    {
     "name": "stderr",
     "output_type": "stream",
     "text": [
      "                                                                                                    \r"
     ]
    },
    {
     "name": "stdout",
     "output_type": "stream",
     "text": [
      "Epoch 0 Validation Time 0.015646963677507765\n",
      "Epoch 0 Validation Accuracy 0.4787234042553192\n",
      "=====================================\n"
     ]
    },
    {
     "name": "stderr",
     "output_type": "stream",
     "text": [
      "                                                                                                    \r"
     ]
    },
    {
     "name": "stdout",
     "output_type": "stream",
     "text": [
      "Epoch 1 Validation Time 0.0156120277465658\n",
      "Epoch 1 Validation Accuracy 0.4787234042553192\n",
      "=====================================\n"
     ]
    },
    {
     "name": "stderr",
     "output_type": "stream",
     "text": [
      "                                                                                                    \r"
     ]
    },
    {
     "name": "stdout",
     "output_type": "stream",
     "text": [
      "Epoch 2 Validation Time 0.027765960135358446\n",
      "Epoch 2 Validation Accuracy 0.5104720744680851\n",
      "=====================================\n",
      "Training with alpha=0.3528\n",
      "Loading EarlyExit DenseNet121 model architecture...\n",
      "Adding exits...\n",
      "Setting model weights...\n"
     ]
    },
    {
     "name": "stderr",
     "output_type": "stream",
     "text": [
      "                                                                                                    \r"
     ]
    },
    {
     "name": "stdout",
     "output_type": "stream",
     "text": [
      "Epoch 0 Validation Time 0.016795791210012234\n",
      "Epoch 0 Validation Accuracy 0.4787234042553192\n",
      "=====================================\n"
     ]
    },
    {
     "name": "stderr",
     "output_type": "stream",
     "text": [
      "                                                                                                    \r"
     ]
    },
    {
     "name": "stdout",
     "output_type": "stream",
     "text": [
      "Epoch 1 Validation Time 0.01623341885018856\n",
      "Epoch 1 Validation Accuracy 0.4787234042553192\n",
      "=====================================\n"
     ]
    },
    {
     "name": "stderr",
     "output_type": "stream",
     "text": [
      "                                                                                                    \r"
     ]
    },
    {
     "name": "stdout",
     "output_type": "stream",
     "text": [
      "Epoch 2 Validation Time 0.028303070271268806\n",
      "Epoch 2 Validation Accuracy 0.5026595744680851\n",
      "=====================================\n",
      "Training with alpha=0.3532\n",
      "Loading EarlyExit DenseNet121 model architecture...\n",
      "Adding exits...\n",
      "Setting model weights...\n"
     ]
    },
    {
     "name": "stderr",
     "output_type": "stream",
     "text": [
      "                                                                                                    \r"
     ]
    },
    {
     "name": "stdout",
     "output_type": "stream",
     "text": [
      "Epoch 0 Validation Time 0.01561594770309773\n",
      "Epoch 0 Validation Accuracy 0.4787234042553192\n",
      "=====================================\n"
     ]
    },
    {
     "name": "stderr",
     "output_type": "stream",
     "text": [
      "                                                                                                    \r"
     ]
    },
    {
     "name": "stdout",
     "output_type": "stream",
     "text": [
      "Epoch 1 Validation Time 0.01570036436649079\n",
      "Epoch 1 Validation Accuracy 0.4787234042553192\n",
      "=====================================\n"
     ]
    },
    {
     "name": "stderr",
     "output_type": "stream",
     "text": [
      "                                                                                                    \r"
     ]
    },
    {
     "name": "stdout",
     "output_type": "stream",
     "text": [
      "Epoch 2 Validation Time 0.026249952772830393\n",
      "Epoch 2 Validation Accuracy 0.4952626329787234\n",
      "=====================================\n",
      "Training with alpha=0.3536\n",
      "Loading EarlyExit DenseNet121 model architecture...\n",
      "Adding exits...\n",
      "Setting model weights...\n"
     ]
    },
    {
     "name": "stderr",
     "output_type": "stream",
     "text": [
      "                                                                                                    \r"
     ]
    },
    {
     "name": "stdout",
     "output_type": "stream",
     "text": [
      "Epoch 0 Validation Time 0.016407961541033807\n",
      "Epoch 0 Validation Accuracy 0.4787234042553192\n",
      "=====================================\n"
     ]
    },
    {
     "name": "stderr",
     "output_type": "stream",
     "text": [
      "                                                                                                    \r"
     ]
    },
    {
     "name": "stdout",
     "output_type": "stream",
     "text": [
      "Epoch 1 Validation Time 0.01676520641813887\n",
      "Epoch 1 Validation Accuracy 0.4787234042553192\n",
      "=====================================\n"
     ]
    },
    {
     "name": "stderr",
     "output_type": "stream",
     "text": [
      "                                                                                                    \r"
     ]
    },
    {
     "name": "stdout",
     "output_type": "stream",
     "text": [
      "Epoch 2 Validation Time 0.025553043852461144\n",
      "Epoch 2 Validation Accuracy 0.48994348404255317\n",
      "=====================================\n",
      "Training with alpha=0.354\n",
      "Loading EarlyExit DenseNet121 model architecture...\n",
      "Adding exits...\n",
      "Setting model weights...\n"
     ]
    },
    {
     "name": "stderr",
     "output_type": "stream",
     "text": [
      "                                                                                                    \r"
     ]
    },
    {
     "name": "stdout",
     "output_type": "stream",
     "text": [
      "Epoch 0 Validation Time 0.015627431108596476\n",
      "Epoch 0 Validation Accuracy 0.4787234042553192\n",
      "=====================================\n"
     ]
    },
    {
     "name": "stderr",
     "output_type": "stream",
     "text": [
      "                                                                                                    \r"
     ]
    },
    {
     "name": "stdout",
     "output_type": "stream",
     "text": [
      "Epoch 1 Validation Time 0.01555888703528871\n",
      "Epoch 1 Validation Accuracy 0.4787234042553192\n",
      "=====================================\n"
     ]
    },
    {
     "name": "stderr",
     "output_type": "stream",
     "text": [
      "                                                                                                    \r"
     ]
    },
    {
     "name": "stdout",
     "output_type": "stream",
     "text": [
      "Epoch 2 Validation Time 0.022962230317136074\n",
      "Epoch 2 Validation Accuracy 0.48603723404255317\n",
      "=====================================\n",
      "Training with alpha=0.3544\n",
      "Loading EarlyExit DenseNet121 model architecture...\n",
      "Adding exits...\n",
      "Setting model weights...\n"
     ]
    },
    {
     "name": "stderr",
     "output_type": "stream",
     "text": [
      "                                                                                                    \r"
     ]
    },
    {
     "name": "stdout",
     "output_type": "stream",
     "text": [
      "Epoch 0 Validation Time 0.015674229632032678\n",
      "Epoch 0 Validation Accuracy 0.4787234042553192\n",
      "=====================================\n"
     ]
    },
    {
     "name": "stderr",
     "output_type": "stream",
     "text": [
      "                                                                                                    \r"
     ]
    },
    {
     "name": "stdout",
     "output_type": "stream",
     "text": [
      "Epoch 1 Validation Time 0.016335610379564002\n",
      "Epoch 1 Validation Accuracy 0.4787234042553192\n",
      "=====================================\n"
     ]
    },
    {
     "name": "stderr",
     "output_type": "stream",
     "text": [
      "                                                                                                    \r"
     ]
    },
    {
     "name": "stdout",
     "output_type": "stream",
     "text": [
      "Epoch 2 Validation Time 0.022329312689760898\n",
      "Epoch 2 Validation Accuracy 0.48329454787234044\n",
      "=====================================\n",
      "Training with alpha=0.3548\n",
      "Loading EarlyExit DenseNet121 model architecture...\n",
      "Adding exits...\n",
      "Setting model weights...\n"
     ]
    },
    {
     "name": "stderr",
     "output_type": "stream",
     "text": [
      "                                                                                                    \r"
     ]
    },
    {
     "name": "stdout",
     "output_type": "stream",
     "text": [
      "Epoch 0 Validation Time 0.015732945279872165\n",
      "Epoch 0 Validation Accuracy 0.4787234042553192\n",
      "=====================================\n"
     ]
    },
    {
     "name": "stderr",
     "output_type": "stream",
     "text": [
      "                                                                                                    \r"
     ]
    },
    {
     "name": "stdout",
     "output_type": "stream",
     "text": [
      "Epoch 1 Validation Time 0.015642787547821693\n",
      "Epoch 1 Validation Accuracy 0.4787234042553192\n",
      "=====================================\n"
     ]
    },
    {
     "name": "stderr",
     "output_type": "stream",
     "text": [
      "                                                                                                    \r"
     ]
    },
    {
     "name": "stdout",
     "output_type": "stream",
     "text": [
      "Epoch 2 Validation Time 0.019664703531468167\n",
      "Epoch 2 Validation Accuracy 0.4814660904255319\n",
      "=====================================\n",
      "Training with alpha=0.3552\n",
      "Loading EarlyExit DenseNet121 model architecture...\n",
      "Adding exits...\n",
      "Setting model weights...\n"
     ]
    },
    {
     "name": "stderr",
     "output_type": "stream",
     "text": [
      "                                                                                                    \r"
     ]
    },
    {
     "name": "stdout",
     "output_type": "stream",
     "text": [
      "Epoch 0 Validation Time 0.01674953927385046\n",
      "Epoch 0 Validation Accuracy 0.4787234042553192\n",
      "=====================================\n"
     ]
    },
    {
     "name": "stderr",
     "output_type": "stream",
     "text": [
      "                                                                                                    \r"
     ]
    },
    {
     "name": "stdout",
     "output_type": "stream",
     "text": [
      "Epoch 1 Validation Time 0.016769368597801697\n",
      "Epoch 1 Validation Accuracy 0.4787234042553192\n",
      "=====================================\n"
     ]
    },
    {
     "name": "stderr",
     "output_type": "stream",
     "text": [
      "                                                                                                    \r"
     ]
    },
    {
     "name": "stdout",
     "output_type": "stream",
     "text": [
      "Epoch 2 Validation Time 0.019265649166512997\n",
      "Epoch 2 Validation Accuracy 0.48038563829787234\n",
      "=====================================\n",
      "Training with alpha=0.3556\n",
      "Loading EarlyExit DenseNet121 model architecture...\n",
      "Adding exits...\n",
      "Setting model weights...\n"
     ]
    },
    {
     "name": "stderr",
     "output_type": "stream",
     "text": [
      "                                                                                                    \r"
     ]
    },
    {
     "name": "stdout",
     "output_type": "stream",
     "text": [
      "Epoch 0 Validation Time 0.015589500995392495\n",
      "Epoch 0 Validation Accuracy 0.4787234042553192\n",
      "=====================================\n"
     ]
    },
    {
     "name": "stderr",
     "output_type": "stream",
     "text": [
      "                                                                                                    \r"
     ]
    },
    {
     "name": "stdout",
     "output_type": "stream",
     "text": [
      "Epoch 1 Validation Time 0.015589350081504659\n",
      "Epoch 1 Validation Accuracy 0.4787234042553192\n",
      "=====================================\n"
     ]
    },
    {
     "name": "stderr",
     "output_type": "stream",
     "text": [
      "                                                                                                    \r"
     ]
    },
    {
     "name": "stdout",
     "output_type": "stream",
     "text": [
      "Epoch 2 Validation Time 0.017404000809852112\n",
      "Epoch 2 Validation Accuracy 0.4797207446808511\n",
      "=====================================\n",
      "Training with alpha=0.356\n",
      "Loading EarlyExit DenseNet121 model architecture...\n",
      "Adding exits...\n",
      "Setting model weights...\n"
     ]
    },
    {
     "name": "stderr",
     "output_type": "stream",
     "text": [
      "                                                                                                    \r"
     ]
    },
    {
     "name": "stdout",
     "output_type": "stream",
     "text": [
      "Epoch 0 Validation Time 0.01663248209243125\n",
      "Epoch 0 Validation Accuracy 0.4787234042553192\n",
      "=====================================\n"
     ]
    },
    {
     "name": "stderr",
     "output_type": "stream",
     "text": [
      "                                                                                                    \r"
     ]
    },
    {
     "name": "stdout",
     "output_type": "stream",
     "text": [
      "Epoch 1 Validation Time 0.016726992231734256\n",
      "Epoch 1 Validation Accuracy 0.4787234042553192\n",
      "=====================================\n"
     ]
    },
    {
     "name": "stderr",
     "output_type": "stream",
     "text": [
      "                                                                                                    \r"
     ]
    },
    {
     "name": "stdout",
     "output_type": "stream",
     "text": [
      "Epoch 2 Validation Time 0.0171221469311004\n",
      "Epoch 2 Validation Accuracy 0.4793051861702128\n",
      "=====================================\n",
      "Training with alpha=0.3564\n",
      "Loading EarlyExit DenseNet121 model architecture...\n",
      "Adding exits...\n",
      "Setting model weights...\n"
     ]
    },
    {
     "name": "stderr",
     "output_type": "stream",
     "text": [
      "                                                                                                    \r"
     ]
    },
    {
     "name": "stdout",
     "output_type": "stream",
     "text": [
      "Epoch 0 Validation Time 0.01565844581482258\n",
      "Epoch 0 Validation Accuracy 0.4787234042553192\n",
      "=====================================\n"
     ]
    },
    {
     "name": "stderr",
     "output_type": "stream",
     "text": [
      "                                                                                                    \r"
     ]
    },
    {
     "name": "stdout",
     "output_type": "stream",
     "text": [
      "Epoch 1 Validation Time 0.015755226003362776\n",
      "Epoch 1 Validation Accuracy 0.4787234042553192\n",
      "=====================================\n"
     ]
    },
    {
     "name": "stderr",
     "output_type": "stream",
     "text": [
      "                                                                                                    \r"
     ]
    },
    {
     "name": "stdout",
     "output_type": "stream",
     "text": [
      "Epoch 2 Validation Time 0.01613664500256802\n",
      "Epoch 2 Validation Accuracy 0.4790558510638298\n",
      "=====================================\n",
      "Training with alpha=0.3568\n",
      "Loading EarlyExit DenseNet121 model architecture...\n",
      "Adding exits...\n",
      "Setting model weights...\n"
     ]
    },
    {
     "name": "stderr",
     "output_type": "stream",
     "text": [
      "                                                                                                    \r"
     ]
    },
    {
     "name": "stdout",
     "output_type": "stream",
     "text": [
      "Epoch 0 Validation Time 0.016702663391194444\n",
      "Epoch 0 Validation Accuracy 0.4787234042553192\n",
      "=====================================\n"
     ]
    },
    {
     "name": "stderr",
     "output_type": "stream",
     "text": [
      "                                                                                                    \r"
     ]
    },
    {
     "name": "stdout",
     "output_type": "stream",
     "text": [
      "Epoch 1 Validation Time 0.01579692135465906\n",
      "Epoch 1 Validation Accuracy 0.4787234042553192\n",
      "=====================================\n"
     ]
    },
    {
     "name": "stderr",
     "output_type": "stream",
     "text": [
      "                                                                                                    \r"
     ]
    },
    {
     "name": "stdout",
     "output_type": "stream",
     "text": [
      "Epoch 2 Validation Time 0.016531590451585487\n",
      "Epoch 2 Validation Accuracy 0.47897273936170215\n",
      "=====================================\n",
      "Training with alpha=0.3572\n",
      "Loading EarlyExit DenseNet121 model architecture...\n",
      "Adding exits...\n",
      "Setting model weights...\n"
     ]
    },
    {
     "name": "stderr",
     "output_type": "stream",
     "text": [
      "                                                                                                    \r"
     ]
    },
    {
     "name": "stdout",
     "output_type": "stream",
     "text": [
      "Epoch 0 Validation Time 0.01565869945160886\n",
      "Epoch 0 Validation Accuracy 0.4787234042553192\n",
      "=====================================\n"
     ]
    },
    {
     "name": "stderr",
     "output_type": "stream",
     "text": [
      "                                                                                                    \r"
     ]
    },
    {
     "name": "stdout",
     "output_type": "stream",
     "text": [
      "Epoch 1 Validation Time 0.015663819110139886\n",
      "Epoch 1 Validation Accuracy 0.4787234042553192\n",
      "=====================================\n"
     ]
    },
    {
     "name": "stderr",
     "output_type": "stream",
     "text": [
      "                                                                                                    \r"
     ]
    },
    {
     "name": "stdout",
     "output_type": "stream",
     "text": [
      "Epoch 2 Validation Time 0.015785416390033478\n",
      "Epoch 2 Validation Accuracy 0.47880651595744683\n",
      "=====================================\n",
      "Training with alpha=0.3576\n",
      "Loading EarlyExit DenseNet121 model architecture...\n",
      "Adding exits...\n",
      "Setting model weights...\n"
     ]
    },
    {
     "name": "stderr",
     "output_type": "stream",
     "text": [
      "                                                                                                    \r"
     ]
    },
    {
     "name": "stdout",
     "output_type": "stream",
     "text": [
      "Epoch 0 Validation Time 0.016414895970770654\n",
      "Epoch 0 Validation Accuracy 0.4787234042553192\n",
      "=====================================\n"
     ]
    },
    {
     "name": "stderr",
     "output_type": "stream",
     "text": [
      "                                                                                                    \r"
     ]
    },
    {
     "name": "stdout",
     "output_type": "stream",
     "text": [
      "Epoch 1 Validation Time 0.016658879340963162\n",
      "Epoch 1 Validation Accuracy 0.4787234042553192\n",
      "=====================================\n"
     ]
    },
    {
     "name": "stderr",
     "output_type": "stream",
     "text": [
      "                                                                                                    \r"
     ]
    },
    {
     "name": "stdout",
     "output_type": "stream",
     "text": [
      "Epoch 2 Validation Time 0.01646751672663587\n",
      "Epoch 2 Validation Accuracy 0.4787234042553192\n",
      "=====================================\n",
      "Training with alpha=0.358\n",
      "Loading EarlyExit DenseNet121 model architecture...\n",
      "Adding exits...\n",
      "Setting model weights...\n"
     ]
    },
    {
     "name": "stderr",
     "output_type": "stream",
     "text": [
      "                                                                                                    \r"
     ]
    },
    {
     "name": "stdout",
     "output_type": "stream",
     "text": [
      "Epoch 0 Validation Time 0.015599888689974521\n",
      "Epoch 0 Validation Accuracy 0.4787234042553192\n",
      "=====================================\n"
     ]
    },
    {
     "name": "stderr",
     "output_type": "stream",
     "text": [
      "                                                                                                    \r"
     ]
    },
    {
     "name": "stdout",
     "output_type": "stream",
     "text": [
      "Epoch 1 Validation Time 0.01565344663376504\n",
      "Epoch 1 Validation Accuracy 0.4787234042553192\n",
      "=====================================\n"
     ]
    },
    {
     "name": "stderr",
     "output_type": "stream",
     "text": [
      "                                                                                                    \r"
     ]
    },
    {
     "name": "stdout",
     "output_type": "stream",
     "text": [
      "Epoch 2 Validation Time 0.015626573816258857\n",
      "Epoch 2 Validation Accuracy 0.4787234042553192\n",
      "=====================================\n",
      "Training with alpha=0.3584\n",
      "Loading EarlyExit DenseNet121 model architecture...\n",
      "Adding exits...\n",
      "Setting model weights...\n"
     ]
    },
    {
     "name": "stderr",
     "output_type": "stream",
     "text": [
      "                                                                                                    \r"
     ]
    },
    {
     "name": "stdout",
     "output_type": "stream",
     "text": [
      "Epoch 0 Validation Time 0.016338986285189365\n",
      "Epoch 0 Validation Accuracy 0.4787234042553192\n",
      "=====================================\n"
     ]
    },
    {
     "name": "stderr",
     "output_type": "stream",
     "text": [
      "                                                                                                    \r"
     ]
    },
    {
     "name": "stdout",
     "output_type": "stream",
     "text": [
      "Epoch 1 Validation Time 0.01668531970774874\n",
      "Epoch 1 Validation Accuracy 0.4787234042553192\n",
      "=====================================\n"
     ]
    },
    {
     "name": "stderr",
     "output_type": "stream",
     "text": [
      "                                                                                                    \r"
     ]
    },
    {
     "name": "stdout",
     "output_type": "stream",
     "text": [
      "Epoch 2 Validation Time 0.016392676120108748\n",
      "Epoch 2 Validation Accuracy 0.4787234042553192\n",
      "=====================================\n",
      "Training with alpha=0.3588\n",
      "Loading EarlyExit DenseNet121 model architecture...\n",
      "Adding exits...\n",
      "Setting model weights...\n"
     ]
    },
    {
     "name": "stderr",
     "output_type": "stream",
     "text": [
      "                                                                                                    \r"
     ]
    },
    {
     "name": "stdout",
     "output_type": "stream",
     "text": [
      "Epoch 0 Validation Time 0.015600073844828505\n",
      "Epoch 0 Validation Accuracy 0.4787234042553192\n",
      "=====================================\n"
     ]
    },
    {
     "name": "stderr",
     "output_type": "stream",
     "text": [
      "                                                                                                    \r"
     ]
    },
    {
     "name": "stdout",
     "output_type": "stream",
     "text": [
      "Epoch 1 Validation Time 0.015601671756582057\n",
      "Epoch 1 Validation Accuracy 0.4787234042553192\n",
      "=====================================\n"
     ]
    },
    {
     "name": "stderr",
     "output_type": "stream",
     "text": [
      "                                                                                                    \r"
     ]
    },
    {
     "name": "stdout",
     "output_type": "stream",
     "text": [
      "Epoch 2 Validation Time 0.015616348449220049\n",
      "Epoch 2 Validation Accuracy 0.4787234042553192\n",
      "=====================================\n",
      "Training with alpha=0.3592\n",
      "Loading EarlyExit DenseNet121 model architecture...\n",
      "Adding exits...\n",
      "Setting model weights...\n"
     ]
    },
    {
     "name": "stderr",
     "output_type": "stream",
     "text": [
      "                                                                                                    \r"
     ]
    },
    {
     "name": "stdout",
     "output_type": "stream",
     "text": [
      "Epoch 0 Validation Time 0.01679817666398718\n",
      "Epoch 0 Validation Accuracy 0.4787234042553192\n",
      "=====================================\n"
     ]
    },
    {
     "name": "stderr",
     "output_type": "stream",
     "text": [
      "                                                                                                    \r"
     ]
    },
    {
     "name": "stdout",
     "output_type": "stream",
     "text": [
      "Epoch 1 Validation Time 0.016499568807317854\n",
      "Epoch 1 Validation Accuracy 0.4787234042553192\n",
      "=====================================\n"
     ]
    },
    {
     "name": "stderr",
     "output_type": "stream",
     "text": [
      "                                                                                                    \r"
     ]
    },
    {
     "name": "stdout",
     "output_type": "stream",
     "text": [
      "Epoch 2 Validation Time 0.016931154626481076\n",
      "Epoch 2 Validation Accuracy 0.4787234042553192\n",
      "=====================================\n",
      "Training with alpha=0.3596\n",
      "Loading EarlyExit DenseNet121 model architecture...\n",
      "Adding exits...\n",
      "Setting model weights...\n"
     ]
    },
    {
     "name": "stderr",
     "output_type": "stream",
     "text": [
      "                                                                                                    \r"
     ]
    },
    {
     "name": "stdout",
     "output_type": "stream",
     "text": [
      "Epoch 0 Validation Time 0.015701191222414056\n",
      "Epoch 0 Validation Accuracy 0.4787234042553192\n",
      "=====================================\n"
     ]
    },
    {
     "name": "stderr",
     "output_type": "stream",
     "text": [
      "                                                                                                    \r"
     ]
    },
    {
     "name": "stdout",
     "output_type": "stream",
     "text": [
      "Epoch 1 Validation Time 0.015670360402858005\n",
      "Epoch 1 Validation Accuracy 0.4787234042553192\n",
      "=====================================\n"
     ]
    },
    {
     "name": "stderr",
     "output_type": "stream",
     "text": [
      "                                                                                                    \r"
     ]
    },
    {
     "name": "stdout",
     "output_type": "stream",
     "text": [
      "Epoch 2 Validation Time 0.01562618448379192\n",
      "Epoch 2 Validation Accuracy 0.4787234042553192\n",
      "=====================================\n",
      "Training with alpha=0.36\n",
      "Loading EarlyExit DenseNet121 model architecture...\n",
      "Adding exits...\n",
      "Setting model weights...\n"
     ]
    },
    {
     "name": "stderr",
     "output_type": "stream",
     "text": [
      "                                                                                                    \r"
     ]
    },
    {
     "name": "stdout",
     "output_type": "stream",
     "text": [
      "Epoch 0 Validation Time 0.016665309033495314\n",
      "Epoch 0 Validation Accuracy 0.4787234042553192\n",
      "=====================================\n"
     ]
    },
    {
     "name": "stderr",
     "output_type": "stream",
     "text": [
      "                                                                                                    \r"
     ]
    },
    {
     "name": "stdout",
     "output_type": "stream",
     "text": [
      "Epoch 1 Validation Time 0.016568169948902537\n",
      "Epoch 1 Validation Accuracy 0.4787234042553192\n",
      "=====================================\n"
     ]
    },
    {
     "name": "stderr",
     "output_type": "stream",
     "text": [
      "                                                                                                    "
     ]
    },
    {
     "name": "stdout",
     "output_type": "stream",
     "text": [
      "Epoch 2 Validation Time 0.016286413720313538\n",
      "Epoch 2 Validation Accuracy 0.4787234042553192\n",
      "=====================================\n"
     ]
    },
    {
     "name": "stderr",
     "output_type": "stream",
     "text": [
      "\r"
     ]
    }
   ],
   "source": [
    "# train the exits\n",
    "#alpha_range = [i / 100 for i in range(0, 101, 2)] #[0, 0.25, 0.5, 0.55, 0.6, 0.65, 0.7, 0.725, 0.75, 0.775] + [i / 100 for i in range(80, 101, 2)]\n",
    "alpha_range = [i / 100 for i in range(0, 105, 5)]\n",
    "\n",
    "accuracies = {}\n",
    "times = {}\n",
    "avg_exit_idx = {}\n",
    "\n",
    "\n",
    "epoch_count = 3 if model_name == \"resnet\" else 3\n",
    "lr = 0.00000001 if model_name == \"resnet\" else 0.000001\n",
    "\n",
    "for alpha in alpha_range:\n",
    "    print(f\"Training with alpha={alpha}\")\n",
    "    trainer.model = loader.load_model(num_outputs=num_classes, trained_classifiers=True) # reset the model each time\n",
    "    trainer.set_alpha(alpha)\n",
    "    final_accuracy, final_time, final_avg_exit_idx = trainer.train_exit_layers(train_dataloader, lr, epoch_count=epoch_count, validation_loader=test_dataloader)\n",
    "    \n",
    "    # write statistics\n",
    "    accuracies[alpha] = final_accuracy\n",
    "    times[alpha] = final_time\n",
    "    avg_exit_idx[alpha] = final_avg_exit_idx\n"
   ]
  },
  {
   "cell_type": "code",
   "execution_count": 42,
   "metadata": {},
   "outputs": [
    {
     "data": {
      "text/html": [
       "<div>\n",
       "<style scoped>\n",
       "    .dataframe tbody tr th:only-of-type {\n",
       "        vertical-align: middle;\n",
       "    }\n",
       "\n",
       "    .dataframe tbody tr th {\n",
       "        vertical-align: top;\n",
       "    }\n",
       "\n",
       "    .dataframe thead th {\n",
       "        text-align: right;\n",
       "    }\n",
       "</style>\n",
       "<table border=\"1\" class=\"dataframe\">\n",
       "  <thead>\n",
       "    <tr style=\"text-align: right;\">\n",
       "      <th></th>\n",
       "      <th>accuracy</th>\n",
       "      <th>time</th>\n",
       "      <th>avg_exit_idx</th>\n",
       "    </tr>\n",
       "  </thead>\n",
       "  <tbody>\n",
       "    <tr>\n",
       "      <th>0.3404</th>\n",
       "      <td>0.882480</td>\n",
       "      <td>0.033780</td>\n",
       "      <td>3.913398</td>\n",
       "    </tr>\n",
       "    <tr>\n",
       "      <th>0.3408</th>\n",
       "      <td>0.881233</td>\n",
       "      <td>0.035551</td>\n",
       "      <td>3.902926</td>\n",
       "    </tr>\n",
       "    <tr>\n",
       "      <th>0.3412</th>\n",
       "      <td>0.880070</td>\n",
       "      <td>0.035430</td>\n",
       "      <td>3.888215</td>\n",
       "    </tr>\n",
       "    <tr>\n",
       "      <th>0.3416</th>\n",
       "      <td>0.879571</td>\n",
       "      <td>0.035047</td>\n",
       "      <td>3.874751</td>\n",
       "    </tr>\n",
       "    <tr>\n",
       "      <th>0.3420</th>\n",
       "      <td>0.877410</td>\n",
       "      <td>0.036105</td>\n",
       "      <td>3.851562</td>\n",
       "    </tr>\n",
       "    <tr>\n",
       "      <th>0.3424</th>\n",
       "      <td>0.875748</td>\n",
       "      <td>0.034946</td>\n",
       "      <td>3.826380</td>\n",
       "    </tr>\n",
       "    <tr>\n",
       "      <th>0.3428</th>\n",
       "      <td>0.872507</td>\n",
       "      <td>0.034919</td>\n",
       "      <td>3.798953</td>\n",
       "    </tr>\n",
       "    <tr>\n",
       "      <th>0.3432</th>\n",
       "      <td>0.868517</td>\n",
       "      <td>0.034679</td>\n",
       "      <td>3.761802</td>\n",
       "    </tr>\n",
       "    <tr>\n",
       "      <th>0.3436</th>\n",
       "      <td>0.864279</td>\n",
       "      <td>0.033030</td>\n",
       "      <td>3.725150</td>\n",
       "    </tr>\n",
       "    <tr>\n",
       "      <th>0.3440</th>\n",
       "      <td>0.859624</td>\n",
       "      <td>0.033324</td>\n",
       "      <td>3.677776</td>\n",
       "    </tr>\n",
       "    <tr>\n",
       "      <th>0.3444</th>\n",
       "      <td>0.852311</td>\n",
       "      <td>0.034212</td>\n",
       "      <td>3.615193</td>\n",
       "    </tr>\n",
       "    <tr>\n",
       "      <th>0.3448</th>\n",
       "      <td>0.844830</td>\n",
       "      <td>0.032733</td>\n",
       "      <td>3.543135</td>\n",
       "    </tr>\n",
       "    <tr>\n",
       "      <th>0.3452</th>\n",
       "      <td>0.834691</td>\n",
       "      <td>0.033360</td>\n",
       "      <td>3.457613</td>\n",
       "    </tr>\n",
       "    <tr>\n",
       "      <th>0.3456</th>\n",
       "      <td>0.823803</td>\n",
       "      <td>0.032042</td>\n",
       "      <td>3.360954</td>\n",
       "    </tr>\n",
       "    <tr>\n",
       "      <th>0.3460</th>\n",
       "      <td>0.809674</td>\n",
       "      <td>0.032888</td>\n",
       "      <td>3.249003</td>\n",
       "    </tr>\n",
       "    <tr>\n",
       "      <th>0.3464</th>\n",
       "      <td>0.794382</td>\n",
       "      <td>0.030478</td>\n",
       "      <td>3.125332</td>\n",
       "    </tr>\n",
       "    <tr>\n",
       "      <th>0.3468</th>\n",
       "      <td>0.776263</td>\n",
       "      <td>0.030893</td>\n",
       "      <td>2.981466</td>\n",
       "    </tr>\n",
       "    <tr>\n",
       "      <th>0.3472</th>\n",
       "      <td>0.757148</td>\n",
       "      <td>0.031271</td>\n",
       "      <td>2.833361</td>\n",
       "    </tr>\n",
       "    <tr>\n",
       "      <th>0.3476</th>\n",
       "      <td>0.736702</td>\n",
       "      <td>0.030500</td>\n",
       "      <td>2.680519</td>\n",
       "    </tr>\n",
       "    <tr>\n",
       "      <th>0.3480</th>\n",
       "      <td>0.714844</td>\n",
       "      <td>0.030590</td>\n",
       "      <td>2.518201</td>\n",
       "    </tr>\n",
       "    <tr>\n",
       "      <th>0.3484</th>\n",
       "      <td>0.692071</td>\n",
       "      <td>0.029095</td>\n",
       "      <td>2.356882</td>\n",
       "    </tr>\n",
       "    <tr>\n",
       "      <th>0.3488</th>\n",
       "      <td>0.670878</td>\n",
       "      <td>0.029445</td>\n",
       "      <td>2.207530</td>\n",
       "    </tr>\n",
       "    <tr>\n",
       "      <th>0.3492</th>\n",
       "      <td>0.647856</td>\n",
       "      <td>0.028631</td>\n",
       "      <td>2.050947</td>\n",
       "    </tr>\n",
       "    <tr>\n",
       "      <th>0.3496</th>\n",
       "      <td>0.626413</td>\n",
       "      <td>0.029190</td>\n",
       "      <td>1.901097</td>\n",
       "    </tr>\n",
       "    <tr>\n",
       "      <th>0.3500</th>\n",
       "      <td>0.605635</td>\n",
       "      <td>0.028414</td>\n",
       "      <td>1.760472</td>\n",
       "    </tr>\n",
       "    <tr>\n",
       "      <th>0.3504</th>\n",
       "      <td>0.584275</td>\n",
       "      <td>0.029020</td>\n",
       "      <td>1.631815</td>\n",
       "    </tr>\n",
       "    <tr>\n",
       "      <th>0.3508</th>\n",
       "      <td>0.565991</td>\n",
       "      <td>0.028213</td>\n",
       "      <td>1.517370</td>\n",
       "    </tr>\n",
       "    <tr>\n",
       "      <th>0.3512</th>\n",
       "      <td>0.549784</td>\n",
       "      <td>0.028824</td>\n",
       "      <td>1.410655</td>\n",
       "    </tr>\n",
       "    <tr>\n",
       "      <th>0.3516</th>\n",
       "      <td>0.533910</td>\n",
       "      <td>0.028144</td>\n",
       "      <td>1.318152</td>\n",
       "    </tr>\n",
       "    <tr>\n",
       "      <th>0.3520</th>\n",
       "      <td>0.521609</td>\n",
       "      <td>0.028303</td>\n",
       "      <td>1.242852</td>\n",
       "    </tr>\n",
       "    <tr>\n",
       "      <th>0.3524</th>\n",
       "      <td>0.510472</td>\n",
       "      <td>0.027766</td>\n",
       "      <td>1.181017</td>\n",
       "    </tr>\n",
       "    <tr>\n",
       "      <th>0.3528</th>\n",
       "      <td>0.502660</td>\n",
       "      <td>0.028303</td>\n",
       "      <td>1.133394</td>\n",
       "    </tr>\n",
       "    <tr>\n",
       "      <th>0.3532</th>\n",
       "      <td>0.495263</td>\n",
       "      <td>0.026250</td>\n",
       "      <td>1.093002</td>\n",
       "    </tr>\n",
       "    <tr>\n",
       "      <th>0.3536</th>\n",
       "      <td>0.489943</td>\n",
       "      <td>0.025553</td>\n",
       "      <td>1.065076</td>\n",
       "    </tr>\n",
       "    <tr>\n",
       "      <th>0.3540</th>\n",
       "      <td>0.486037</td>\n",
       "      <td>0.022962</td>\n",
       "      <td>1.042387</td>\n",
       "    </tr>\n",
       "    <tr>\n",
       "      <th>0.3544</th>\n",
       "      <td>0.483295</td>\n",
       "      <td>0.022329</td>\n",
       "      <td>1.027427</td>\n",
       "    </tr>\n",
       "    <tr>\n",
       "      <th>0.3548</th>\n",
       "      <td>0.481466</td>\n",
       "      <td>0.019665</td>\n",
       "      <td>1.016955</td>\n",
       "    </tr>\n",
       "    <tr>\n",
       "      <th>0.3552</th>\n",
       "      <td>0.480386</td>\n",
       "      <td>0.019266</td>\n",
       "      <td>1.011220</td>\n",
       "    </tr>\n",
       "    <tr>\n",
       "      <th>0.3556</th>\n",
       "      <td>0.479721</td>\n",
       "      <td>0.017404</td>\n",
       "      <td>1.006981</td>\n",
       "    </tr>\n",
       "    <tr>\n",
       "      <th>0.3560</th>\n",
       "      <td>0.479305</td>\n",
       "      <td>0.017122</td>\n",
       "      <td>1.003241</td>\n",
       "    </tr>\n",
       "    <tr>\n",
       "      <th>0.3564</th>\n",
       "      <td>0.479056</td>\n",
       "      <td>0.016137</td>\n",
       "      <td>1.001745</td>\n",
       "    </tr>\n",
       "    <tr>\n",
       "      <th>0.3568</th>\n",
       "      <td>0.478973</td>\n",
       "      <td>0.016532</td>\n",
       "      <td>1.000997</td>\n",
       "    </tr>\n",
       "    <tr>\n",
       "      <th>0.3572</th>\n",
       "      <td>0.478807</td>\n",
       "      <td>0.015785</td>\n",
       "      <td>1.000499</td>\n",
       "    </tr>\n",
       "    <tr>\n",
       "      <th>0.3576</th>\n",
       "      <td>0.478723</td>\n",
       "      <td>0.016468</td>\n",
       "      <td>1.000000</td>\n",
       "    </tr>\n",
       "    <tr>\n",
       "      <th>0.3580</th>\n",
       "      <td>0.478723</td>\n",
       "      <td>0.015627</td>\n",
       "      <td>1.000000</td>\n",
       "    </tr>\n",
       "    <tr>\n",
       "      <th>0.3584</th>\n",
       "      <td>0.478723</td>\n",
       "      <td>0.016393</td>\n",
       "      <td>1.000000</td>\n",
       "    </tr>\n",
       "    <tr>\n",
       "      <th>0.3588</th>\n",
       "      <td>0.478723</td>\n",
       "      <td>0.015616</td>\n",
       "      <td>1.000000</td>\n",
       "    </tr>\n",
       "    <tr>\n",
       "      <th>0.3592</th>\n",
       "      <td>0.478723</td>\n",
       "      <td>0.016931</td>\n",
       "      <td>1.000000</td>\n",
       "    </tr>\n",
       "    <tr>\n",
       "      <th>0.3596</th>\n",
       "      <td>0.478723</td>\n",
       "      <td>0.015626</td>\n",
       "      <td>1.000000</td>\n",
       "    </tr>\n",
       "    <tr>\n",
       "      <th>0.3600</th>\n",
       "      <td>0.478723</td>\n",
       "      <td>0.016286</td>\n",
       "      <td>1.000000</td>\n",
       "    </tr>\n",
       "  </tbody>\n",
       "</table>\n",
       "</div>"
      ],
      "text/plain": [
       "        accuracy      time  avg_exit_idx\n",
       "0.3404  0.882480  0.033780      3.913398\n",
       "0.3408  0.881233  0.035551      3.902926\n",
       "0.3412  0.880070  0.035430      3.888215\n",
       "0.3416  0.879571  0.035047      3.874751\n",
       "0.3420  0.877410  0.036105      3.851562\n",
       "0.3424  0.875748  0.034946      3.826380\n",
       "0.3428  0.872507  0.034919      3.798953\n",
       "0.3432  0.868517  0.034679      3.761802\n",
       "0.3436  0.864279  0.033030      3.725150\n",
       "0.3440  0.859624  0.033324      3.677776\n",
       "0.3444  0.852311  0.034212      3.615193\n",
       "0.3448  0.844830  0.032733      3.543135\n",
       "0.3452  0.834691  0.033360      3.457613\n",
       "0.3456  0.823803  0.032042      3.360954\n",
       "0.3460  0.809674  0.032888      3.249003\n",
       "0.3464  0.794382  0.030478      3.125332\n",
       "0.3468  0.776263  0.030893      2.981466\n",
       "0.3472  0.757148  0.031271      2.833361\n",
       "0.3476  0.736702  0.030500      2.680519\n",
       "0.3480  0.714844  0.030590      2.518201\n",
       "0.3484  0.692071  0.029095      2.356882\n",
       "0.3488  0.670878  0.029445      2.207530\n",
       "0.3492  0.647856  0.028631      2.050947\n",
       "0.3496  0.626413  0.029190      1.901097\n",
       "0.3500  0.605635  0.028414      1.760472\n",
       "0.3504  0.584275  0.029020      1.631815\n",
       "0.3508  0.565991  0.028213      1.517370\n",
       "0.3512  0.549784  0.028824      1.410655\n",
       "0.3516  0.533910  0.028144      1.318152\n",
       "0.3520  0.521609  0.028303      1.242852\n",
       "0.3524  0.510472  0.027766      1.181017\n",
       "0.3528  0.502660  0.028303      1.133394\n",
       "0.3532  0.495263  0.026250      1.093002\n",
       "0.3536  0.489943  0.025553      1.065076\n",
       "0.3540  0.486037  0.022962      1.042387\n",
       "0.3544  0.483295  0.022329      1.027427\n",
       "0.3548  0.481466  0.019665      1.016955\n",
       "0.3552  0.480386  0.019266      1.011220\n",
       "0.3556  0.479721  0.017404      1.006981\n",
       "0.3560  0.479305  0.017122      1.003241\n",
       "0.3564  0.479056  0.016137      1.001745\n",
       "0.3568  0.478973  0.016532      1.000997\n",
       "0.3572  0.478807  0.015785      1.000499\n",
       "0.3576  0.478723  0.016468      1.000000\n",
       "0.3580  0.478723  0.015627      1.000000\n",
       "0.3584  0.478723  0.016393      1.000000\n",
       "0.3588  0.478723  0.015616      1.000000\n",
       "0.3592  0.478723  0.016931      1.000000\n",
       "0.3596  0.478723  0.015626      1.000000\n",
       "0.3600  0.478723  0.016286      1.000000"
      ]
     },
     "execution_count": 42,
     "metadata": {},
     "output_type": "execute_result"
    }
   ],
   "source": [
    "    \n",
    "# generate dataframe containing statistics\n",
    "import pandas as pd\n",
    "\n",
    "df = pd.DataFrame({\n",
    "    \"accuracy\": accuracies,\n",
    "    \"time\": times,\n",
    "    \"avg_exit_idx\": avg_exit_idx\n",
    "})\n",
    "\n",
    "df"
   ]
  },
  {
   "cell_type": "code",
   "execution_count": 43,
   "metadata": {},
   "outputs": [],
   "source": [
    "# save dataframe\n",
    "\n",
    "df.to_csv(os.path.join(model_path, \"alpha_tuning.csv\"), index=False)"
   ]
  }
 ],
 "metadata": {
  "kernelspec": {
   "display_name": "Python 3",
   "language": "python",
   "name": "python3"
  },
  "language_info": {
   "codemirror_mode": {
    "name": "ipython",
    "version": 3
   },
   "file_extension": ".py",
   "mimetype": "text/x-python",
   "name": "python",
   "nbconvert_exporter": "python",
   "pygments_lexer": "ipython3",
   "version": "3.8.18"
  }
 },
 "nbformat": 4,
 "nbformat_minor": 0
}
